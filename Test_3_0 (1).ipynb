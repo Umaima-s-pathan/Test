{
  "cells": [
    {
      "cell_type": "markdown",
      "id": "a2d03c1b-3b7f-4e29-aed5-fe7c3c93a61c",
      "metadata": {
        "id": "a2d03c1b-3b7f-4e29-aed5-fe7c3c93a61c"
      },
      "source": [
        "# Statistics Test 2.0"
      ]
    },
    {
      "cell_type": "markdown",
      "id": "eacdfe41-4c50-4a8d-8af9-25d78ccbab02",
      "metadata": {
        "id": "eacdfe41-4c50-4a8d-8af9-25d78ccbab02"
      },
      "source": [
        "Time - 1.30 Hr\n",
        "\n",
        "\n",
        "Total Marks = 60\n",
        "\n"
      ]
    },
    {
      "cell_type": "markdown",
      "source": [
        "**MCQ**"
      ],
      "metadata": {
        "id": "-h45Y-7UcYVW"
      },
      "id": "-h45Y-7UcYVW"
    },
    {
      "cell_type": "markdown",
      "source": [
        "**Which of the following is a measure of central tendency?**\n",
        "\n",
        "    A) Variance\n",
        "    B) Standard Deviation\n",
        "    C) Mean\n",
        "    D) Range"
      ],
      "metadata": {
        "id": "-0TTQIaXcLJF"
      },
      "id": "-0TTQIaXcLJF"
    },
    {
      "cell_type": "markdown",
      "source": [
        " ans . c) mean"
      ],
      "metadata": {
        "id": "H9Z4chMlYT4r"
      },
      "id": "H9Z4chMlYT4r"
    },
    {
      "cell_type": "markdown",
      "source": [
        "**In a dataset with values [2, 4, 4, 6, 8], what is the median?**\n",
        "\n",
        "    A) 4\n",
        "    B) 4.5\n",
        "    C) 6\n",
        "    D) 8"
      ],
      "metadata": {
        "id": "YEex8H5ocLLr"
      },
      "id": "YEex8H5ocLLr"
    },
    {
      "cell_type": "markdown",
      "source": [
        "ans. a) 4\n"
      ],
      "metadata": {
        "id": "ZBbMD6OAYiSm"
      },
      "id": "ZBbMD6OAYiSm"
    },
    {
      "cell_type": "markdown",
      "source": [
        "**Inferential statistics are used to:**\n",
        "\n",
        "    A) Describe the data's central tendency\n",
        "    B) Summarize the data\n",
        "    C) Make predictions or inferences about a population based on a sample\n",
        "    D) Visualize the data"
      ],
      "metadata": {
        "id": "NLR39gAncLNz"
      },
      "id": "NLR39gAncLNz"
    },
    {
      "cell_type": "markdown",
      "source": [
        "ans. C) Make predictions or inferences about a population based on a sample"
      ],
      "metadata": {
        "id": "h46_D24lYi-Z"
      },
      "id": "h46_D24lYi-Z"
    },
    {
      "cell_type": "markdown",
      "source": [
        "**What does a confidence interval represent?**\n",
        "\n",
        "    A) The range within which the population mean is expected to fall with a certain probability\n",
        "    B) The exact value of the population mean\n",
        "    C) The variability within the sample\n",
        "    D) The number of samples required"
      ],
      "metadata": {
        "id": "gxSeoRancLP9"
      },
      "id": "gxSeoRancLP9"
    },
    {
      "cell_type": "markdown",
      "source": [
        "ans. A) The range within which the population mean is expected to fall with a certain probability"
      ],
      "metadata": {
        "id": "bek_O3mnYje4"
      },
      "id": "bek_O3mnYje4"
    },
    {
      "cell_type": "markdown",
      "source": [
        "**According to the Central Limit Theorem, as the sample size increases, the distribution of the sample mean:**\n",
        "\n",
        "    A) Becomes skewed\n",
        "    B) Approaches a normal distribution\n",
        "    C) Remains uniform\n",
        "    D) Becomes bimodal"
      ],
      "metadata": {
        "id": "8VcnEmX9cLSM"
      },
      "id": "8VcnEmX9cLSM"
    },
    {
      "cell_type": "markdown",
      "source": [
        "ans. B) Approaches a normal distribution"
      ],
      "metadata": {
        "id": "4iKQEYmtYkD-"
      },
      "id": "4iKQEYmtYkD-"
    },
    {
      "cell_type": "markdown",
      "source": [
        "**The Central Limit Theorem is important because:**\n",
        "\n",
        "    A) It helps in defining the exact population distribution\n",
        "    B) It allows for the use of normal distribution to make inferences about sample means\n",
        "    C) It eliminates the need for sampling\n",
        "    D) It ensures sample sizes are always large"
      ],
      "metadata": {
        "id": "mQAz26m_cLUq"
      },
      "id": "mQAz26m_cLUq"
    },
    {
      "cell_type": "markdown",
      "source": [
        "ans. B) It allows for the use of normal distribution to make inferences about sample means"
      ],
      "metadata": {
        "id": "ERd1DMrsYkqq"
      },
      "id": "ERd1DMrsYkqq"
    },
    {
      "cell_type": "markdown",
      "source": [
        "**ANOVA is used to test:**\n",
        "\n",
        "    A) The association between two categorical variables\n",
        "    B) The differences between means of three or more groups\n",
        "    C) The proportion of a sample\n",
        "    D) The correlation between two continuous variables"
      ],
      "metadata": {
        "id": "F1T_g8pgcLWv"
      },
      "id": "F1T_g8pgcLWv"
    },
    {
      "cell_type": "markdown",
      "source": [
        "ans. B) The differences between means of three or more groups"
      ],
      "metadata": {
        "id": "sh3ljEh0Yldk"
      },
      "id": "sh3ljEh0Yldk"
    },
    {
      "cell_type": "markdown",
      "source": [
        "**A p-value less than 0.05 in an ANOVA test indicates:**\n",
        "\n",
        "    A) There is no significant difference between group means\n",
        "    B) The means of at least one group are significantly different from others\n",
        "    C) The variances within groups are equal\n",
        "    D) The sample size is too small"
      ],
      "metadata": {
        "id": "MXX8Exw3dBzd"
      },
      "id": "MXX8Exw3dBzd"
    },
    {
      "cell_type": "markdown",
      "source": [
        "ans. B) The means of at least one group are significantly different from others"
      ],
      "metadata": {
        "id": "fMebkhjJYmFK"
      },
      "id": "fMebkhjJYmFK"
    },
    {
      "cell_type": "markdown",
      "source": [
        "**The chi-square test of independence assesses:**\n",
        "\n",
        "    A) If two continuous variables are related\n",
        "    B) The goodness-of-fit of a model\n",
        "    C) The association between two categorical variables\n",
        "    D) The variance of a single variable"
      ],
      "metadata": {
        "id": "T5dE7-GIdB14"
      },
      "id": "T5dE7-GIdB14"
    },
    {
      "cell_type": "markdown",
      "source": [
        "ans. C) The association between two categorical variables"
      ],
      "metadata": {
        "id": "quLt4Jg0Ymvl"
      },
      "id": "quLt4Jg0Ymvl"
    },
    {
      "cell_type": "markdown",
      "source": [
        "**The two-sample t-test assumes:**\n",
        "\n",
        "    A) Equal variances between the two groups\n",
        "    B) Unequal variances between the two groups\n",
        "    C) No assumption about variances\n",
        "    D) The samples are paired"
      ],
      "metadata": {
        "id": "TbkJYhyNdIa0"
      },
      "id": "TbkJYhyNdIa0"
    },
    {
      "cell_type": "markdown",
      "source": [
        "ans. A) Equal variances between the two groups"
      ],
      "metadata": {
        "id": "izAp_eI2YncT"
      },
      "id": "izAp_eI2YncT"
    },
    {
      "cell_type": "markdown",
      "id": "6b85eac4-9fa5-4a6e-8944-31cfdb85b1f7",
      "metadata": {
        "id": "6b85eac4-9fa5-4a6e-8944-31cfdb85b1f7"
      },
      "source": [
        "# Python Basic Exercise\n",
        "\n",
        "### Solve any three"
      ]
    },
    {
      "cell_type": "markdown",
      "id": "daf26a58-0326-40aa-bdb6-8d765abaa5e8",
      "metadata": {
        "id": "daf26a58-0326-40aa-bdb6-8d765abaa5e8"
      },
      "source": [
        "Que 1 -> You have a list a=[1,2,3,6,9,7,4,5,8], and you have to find the kth element from the list. This means I want to find the 2nd largest number from the list. Similarly, you have to create a function where I pass a number, say 4, and the function will return the 4th largest number from the list."
      ]
    },
    {
      "cell_type": "code",
      "execution_count": 3,
      "id": "6f85b635-779f-4c1f-be25-fed8ad6ca5b0",
      "metadata": {
        "id": "6f85b635-779f-4c1f-be25-fed8ad6ca5b0",
        "colab": {
          "base_uri": "https://localhost:8080/"
        },
        "outputId": "2d85c73a-3914-4d54-b358-ade11be2b28a"
      },
      "outputs": [
        {
          "output_type": "stream",
          "name": "stdout",
          "text": [
            "The k'th largest number is: 6\n"
          ]
        }
      ],
      "source": [
        "#Sol->\n",
        "def find_kth_largest(a, b):\n",
        "    sorted_list = sorted(a, reverse=True)  # Sort the list in descending order\n",
        "    return sorted_list[b-1]  # Return the k-th largest element\n",
        "a = [1, 2, 3, 6, 9, 7, 4, 5, 8]\n",
        "b = 4\n",
        "print(\"The k'th largest number is:\", find_kth_largest(a, b) )\n"
      ]
    },
    {
      "cell_type": "markdown",
      "id": "bb4ffbe7-2bd2-47fe-be13-41ce39dde5a7",
      "metadata": {
        "id": "bb4ffbe7-2bd2-47fe-be13-41ce39dde5a7"
      },
      "source": [
        "Que 2-> you have a list [1,8,0,6,4,0,6,0,0,2,0], You need to shift all the zeros to the right , without using any inbuilt function."
      ]
    },
    {
      "cell_type": "code",
      "execution_count": 4,
      "id": "39017c11-1084-4c96-b229-83ba71c15b98",
      "metadata": {
        "id": "39017c11-1084-4c96-b229-83ba71c15b98",
        "colab": {
          "base_uri": "https://localhost:8080/"
        },
        "outputId": "82f7fe00-87c0-4e27-f0e1-bff49548581a"
      },
      "outputs": [
        {
          "output_type": "stream",
          "name": "stdout",
          "text": [
            "List after shifting zeros to the right: [1, 8, 6, 4, 6, 2, 0, 0, 0, 0, 0]\n"
          ]
        }
      ],
      "source": [
        "#Sol->\n",
        "def push_zeroes_to_right(arr):\n",
        "    n = len(arr)\n",
        "    count = 0 #Count of non-zero elements\n",
        "    for i in range(n):    # Move non-zero elements to the front\n",
        "        if arr[i] != 0:\n",
        "            arr[count] = arr[i]\n",
        "            count += 1  # here count is incremented\n",
        "    while count < n:              # Fill the rest of the array with zeros\n",
        "        arr[count] = 0\n",
        "        count += 1\n",
        "    return arr\n",
        "arr = [1, 8, 0, 6, 4, 0, 6, 0, 0, 2, 0]\n",
        "result = push_zeroes_to_right(arr)\n",
        "print(\"List after shifting zeros to the right:\", result)\n"
      ]
    },
    {
      "cell_type": "markdown",
      "id": "8f6bb4bc-9d9f-4f99-ad34-489934da6fb8",
      "metadata": {
        "id": "8f6bb4bc-9d9f-4f99-ad34-489934da6fb8"
      },
      "source": [
        "Que 3->Reverse a string without using any inbuilt function like slicing."
      ]
    },
    {
      "cell_type": "code",
      "execution_count": 6,
      "id": "3cfc4b48-15e0-4fcf-8cb7-1c6171d407e6",
      "metadata": {
        "id": "3cfc4b48-15e0-4fcf-8cb7-1c6171d407e6",
        "colab": {
          "base_uri": "https://localhost:8080/"
        },
        "outputId": "74081d31-7ea2-4566-f61b-7e558b9c3153"
      },
      "outputs": [
        {
          "output_type": "stream",
          "name": "stdout",
          "text": [
            "Original string is : Hi Everyone\n",
            "Reversed string is : enoyrevE iH\n"
          ]
        }
      ],
      "source": [
        "# Sol-\n",
        "def reverse_string(s):\n",
        "    reversed_str = \"\"          # Initialize an empty string to store the reversed string\n",
        "    for i in range(len(s) - 1, -1, -1):  # Iterate through the string in reverse order\n",
        "        reversed_str += s[i]\n",
        "    return reversed_str\n",
        "s = \"Hi Everyone\"\n",
        "reversed_str = reverse_string(s)\n",
        "print(\"Original string is :\",s)\n",
        "print(\"Reversed string is :\", reversed_str)\n",
        "\n"
      ]
    },
    {
      "cell_type": "markdown",
      "id": "58b475ca-89a9-4074-adfa-1b31e6609aaf",
      "metadata": {
        "id": "58b475ca-89a9-4074-adfa-1b31e6609aaf"
      },
      "source": [
        "Que 4-> To find common prefix in array of strings\n",
        "\n",
        "array= ['Abce','Abcjhgj','Abcf']\n",
        "\n",
        "\n",
        "The common prefix among the strings 'Abce', 'Abcjhgj', and 'Abcf' is 'Abc'. So, the common prefix is 'Abc'."
      ]
    },
    {
      "cell_type": "code",
      "execution_count": null,
      "id": "80d7e6ea-574b-4135-aa87-a042e9956390",
      "metadata": {
        "id": "80d7e6ea-574b-4135-aa87-a042e9956390"
      },
      "outputs": [],
      "source": [
        "Sol->"
      ]
    },
    {
      "cell_type": "markdown",
      "id": "91637a40-f4ed-414d-9c71-c82374cb13a3",
      "metadata": {
        "id": "91637a40-f4ed-414d-9c71-c82374cb13a3"
      },
      "source": [
        "Que 5- Given the list l = [1,2,0,1,2,0,0], I want the output to be ans = [0,0,0,2,2,1,1] without using any inbuilt function"
      ]
    },
    {
      "cell_type": "code",
      "execution_count": null,
      "id": "ea7b0b77-9ff4-4f73-9a99-129c665fb961",
      "metadata": {
        "id": "ea7b0b77-9ff4-4f73-9a99-129c665fb961"
      },
      "outputs": [],
      "source": [
        "Sol->\n"
      ]
    },
    {
      "cell_type": "code",
      "execution_count": null,
      "id": "f36bc3d6-7bd0-4f8e-aad7-ac40484e911f",
      "metadata": {
        "id": "f36bc3d6-7bd0-4f8e-aad7-ac40484e911f"
      },
      "outputs": [],
      "source": []
    },
    {
      "cell_type": "markdown",
      "id": "e17c874f-ffe2-416f-af6c-2ba6e57a0bfd",
      "metadata": {
        "id": "e17c874f-ffe2-416f-af6c-2ba6e57a0bfd"
      },
      "source": [
        "# Statistics Theory Question\n"
      ]
    },
    {
      "cell_type": "markdown",
      "id": "0b748385-fe05-40f2-adc8-5b643f95b906",
      "metadata": {
        "id": "0b748385-fe05-40f2-adc8-5b643f95b906"
      },
      "source": [
        "Que 1- What is Central Limit Theoram ? Explain."
      ]
    },
    {
      "cell_type": "markdown",
      "source": [
        "Ans=\n",
        "CLT allows us to estimate population parameters (such as the mean) more efficiently by using sample statistics.\n",
        " The larger the dataset, the closer the sample mean will be to the population mean, according to CLT.\n",
        " in simple words in normal distribution the distribution is always normal irrespective of sample size\n",
        " and in non normal distribution the if Sample Size is adequate (approximately >30 sample)distribution"
      ],
      "metadata": {
        "id": "oMq-rEDGkvbJ"
      },
      "id": "oMq-rEDGkvbJ"
    },
    {
      "cell_type": "markdown",
      "id": "8466b61e-24b9-4567-bd63-04d8fb5360ad",
      "metadata": {
        "id": "8466b61e-24b9-4567-bd63-04d8fb5360ad"
      },
      "source": [
        "Que 2- What is CDF(Comulative density function). Explain with mathematics."
      ]
    },
    {
      "cell_type": "markdown",
      "source": [
        "ans: The Cumulative Distribution Function (CDF) is a fundamental concept in probability theory and statistics. It provides the probability that a random variable takes on a value less than or equal to a specific value.  in mathematical way we can say For a random variable X  the Cumulative Distribution Function FX(x) is defined as: FX(x)=P(X<=x).  where P(X<=x) this denotes the probability that the random variable X is less than equals to x.\n",
        "\n"
      ],
      "metadata": {
        "id": "RXU9MJihl8bv"
      },
      "id": "RXU9MJihl8bv"
    },
    {
      "cell_type": "markdown",
      "id": "6ada9cfc-cb42-4e64-b74e-7befd45cbe4a",
      "metadata": {
        "id": "6ada9cfc-cb42-4e64-b74e-7befd45cbe4a"
      },
      "source": [
        "Que 3- What is Anova test. how we can calculate behind the scene ?"
      ]
    },
    {
      "cell_type": "markdown",
      "source": [
        "ans : ANOVA is used to compare the differences in means among more than two groups it accomplishes this by examining the variation in the data and identifying where this variation is located it compares the amount of variation between groups with the amount of variation within groups.\n",
        "Anova includes various steps in the background :\n",
        "\n",
        "*   Calculate Group Means and Overall Mean\n",
        "*   Sum of Squares\n",
        "      1.   Total Sum of Squares (SST)\n",
        "      2.   Between-Group Sum of Squares (SSB)\n",
        "      3.   Within-Group Sum of Squares (SSW)\n",
        "*  Degrees of Freedom:\n",
        "      1.   Between-Group Degrees of Freedom (dfB): k - 1\n",
        "      2. Within-Group Degrees of Freedom (dfW):n - k\n",
        "      3.Total Degrees of Freedom (dfT): n-1   \n",
        "*   Mean Squares:\n",
        "      1. Between-Group Mean Square (MSB):MSB=SSB/dfB\n",
        "      2. Within-Group Mean Square (MSW): MSW=SSW/dfW\n",
        "*   F-Statistic: F =MSB/MSW\n",
        "*   Decision Making\n",
        "\n",
        "\n",
        "\n",
        "\n",
        "\n",
        "\n",
        "\n",
        "\n"
      ],
      "metadata": {
        "id": "nvAOOS6Oovmw"
      },
      "id": "nvAOOS6Oovmw"
    },
    {
      "cell_type": "markdown",
      "id": "dffe2da1-3353-4865-85eb-fff2caea349a",
      "metadata": {
        "id": "dffe2da1-3353-4865-85eb-fff2caea349a"
      },
      "source": [
        "Que 4-  What is Chi-Square test. how we will calculate behind the scene."
      ]
    },
    {
      "cell_type": "markdown",
      "source": [
        "ANS. The chi squared test can be used to determine wheather your data obeys a known theoretical porbablity distribution such as normal or poisson distribution.  X^2 = summation [ (Oi-Ei)^2 /Ei ]  Where c = Degrees of freedom, O = Observed Value, E = Expected Value.The degrees of freedom in a statistical calculation represent the number of variables that can vary in a calculation. The degrees of freedom can be calculated to ensure that chi-square tests are statistically valid\n"
      ],
      "metadata": {
        "id": "GOO_0-eLsboP"
      },
      "id": "GOO_0-eLsboP"
    },
    {
      "cell_type": "markdown",
      "id": "8fec219a-1fe3-41db-a2ba-8a0b5e0b4a43",
      "metadata": {
        "id": "8fec219a-1fe3-41db-a2ba-8a0b5e0b4a43"
      },
      "source": [
        "Que 5-  What is the difference between inferential and descriptive statistics."
      ]
    },
    {
      "cell_type": "markdown",
      "source": [
        "ans. Descriptive Statistics: Focus on summarizing and describing the features of a dataset.\n",
        "\n",
        "Inferential Statistics: Focus on making generalizations, predictions, and testing hypotheses about a population based on sample data.\n",
        "\n",
        "Both branches are complementary; descriptive statistics provide the initial overview of data, while inferential statistics help make broader conclusions and decisions."
      ],
      "metadata": {
        "id": "744o_zVPuN70"
      },
      "id": "744o_zVPuN70"
    },
    {
      "cell_type": "markdown",
      "id": "d7a2df48-9875-4b6b-ba26-feee4e03b1d5",
      "metadata": {
        "id": "d7a2df48-9875-4b6b-ba26-feee4e03b1d5"
      },
      "source": [
        "Que 6- Explain any 2 distribution."
      ]
    },
    {
      "cell_type": "markdown",
      "source": [
        "ans:\n",
        "1. Normal Distribution\n",
        "Shape: Symmetrical, bell-shaped curve.\n",
        "Parameters: Mean (μ) and Standard Deviation (σ).\n",
        "Properties:\n",
        "The mean, median, and mode are all equal and located at the center.\n",
        "Approximately 68% of data falls within one standard deviation of the mean.\n",
        "About 95% falls within two standard deviations.\n",
        "Nearly 99.7% falls within three standard deviations.\n",
        "Use: Models natural phenomena and measurement errors (e.g., heights, IQ scores).\n",
        "2. Uniform Distribution\n",
        "Shape: Flat, rectangular shape for continuous uniform distribution; equally likely outcomes for discrete uniform distribution.\n",
        "Parameters:\n",
        "Continuous Uniform Distribution: Defined by minimum (a) and maximum (b) values.\n",
        "Discrete Uniform Distribution: Defined by the set of equally likely outcomes."
      ],
      "metadata": {
        "id": "I9_A3rQ2vxDy"
      },
      "id": "I9_A3rQ2vxDy"
    },
    {
      "cell_type": "markdown",
      "id": "5c2a1d3b-bea9-4de6-8018-a120e2d36528",
      "metadata": {
        "id": "5c2a1d3b-bea9-4de6-8018-a120e2d36528"
      },
      "source": [
        "# Statistics Mathematics  Question\n",
        "\n"
      ]
    },
    {
      "cell_type": "markdown",
      "id": "40749fa8-a06d-4d9c-8864-4bb8b24599a3",
      "metadata": {
        "id": "40749fa8-a06d-4d9c-8864-4bb8b24599a3"
      },
      "source": [
        "Que 1 - if I generate heights for 1000 people from a normal distribution, what would be the probability for a new person to have a height of 70 inches using (CDF) then z-score table? take height in inches.\n",
        "\n",
        "#### Mean height (in inches) of the population\n",
        "mean_height = 66\n",
        "\n",
        "#### Standard deviation of heights (in inches) of the population\n",
        "std_dev_height = 3\n",
        "\n",
        "\n",
        "##### Generate data using this code\n",
        "###### Generate heights for 1000 people from a normal distribution\n",
        "heights = np.random.normal(mean_height, std_dev_height, 1000)))"
      ]
    },
    {
      "cell_type": "code",
      "execution_count": 7,
      "id": "02c423a1-cadd-4780-b2b1-606b36cbb1a9",
      "metadata": {
        "id": "02c423a1-cadd-4780-b2b1-606b36cbb1a9",
        "colab": {
          "base_uri": "https://localhost:8080/"
        },
        "outputId": "1863d2cc-1614-4f6e-b3a2-4dab5e6c6cd5"
      },
      "outputs": [
        {
          "output_type": "stream",
          "name": "stdout",
          "text": [
            " the probability is :  90.87887802741321 %\n"
          ]
        }
      ],
      "source": [
        "import numpy as np\n",
        "import scipy.stats as stats\n",
        "mean_height = 66      # Parameters\n",
        "std_dev_height = 3\n",
        "height = 70\n",
        "heights = np.random.normal(mean_height, std_dev_height, 1000)    # Generate heights for 1000 people\n",
        "z_score = (height - mean_height) / std_dev_height     # Calculate Z-score for height of 70 inches\n",
        "cdf = stats.norm.cdf(z_score)        # Calculate the CDF value for the Z-score\n",
        "print(\" the probability is : \", cdf*100,\"%\")"
      ]
    },
    {
      "cell_type": "markdown",
      "id": "99a22f4f-7737-4ef9-9ad0-fb7bd8e0ba46",
      "metadata": {
        "id": "99a22f4f-7737-4ef9-9ad0-fb7bd8e0ba46"
      },
      "source": [
        "Que 2-  Suppose a fitness center manager anticipates the attendance for a particular yoga class throughout the week. Based on historical data and other factors, they estimate the expected attendance in numbers:\n",
        "\n",
        "### Expected Attendance:\n",
        "\n",
        "Monday: 40\n",
        "\n",
        "Tuesday: 45\n",
        "\n",
        "Wednesday: 38\n",
        "\n",
        "Thursday: 50\n",
        "\n",
        "Friday: 55\n",
        "\n",
        "Saturday: 60\n",
        "\n",
        "Sunday: 65\n",
        "\n",
        "However, after the week concludes, the actual attendance is recorded:\n",
        "\n",
        "\n",
        "\n",
        "### Observed (Actual) Attendance:\n",
        "\n",
        "\n",
        "\n",
        "Monday: 38\n",
        "\n",
        "Tuesday: 43\n",
        "\n",
        "Wednesday: 40\n",
        "\n",
        "Thursday: 48\n",
        "\n",
        "Friday: 52\n",
        "\n",
        "Saturday: 58\n",
        "\n",
        "Sunday: 62\n",
        "\n",
        "Ho: There is no significant difference between the expected and observed attendance for the yoga class throughout the week.\n",
        "\n",
        "Ha: There is a significant difference between the expected and observed attendance for the yoga class throughout the week.\n",
        "\n",
        "#### Use chi-square test *Statistical Tools*"
      ]
    },
    {
      "cell_type": "code",
      "execution_count": null,
      "id": "06f2df44-24f4-4314-900d-d03f02823ceb",
      "metadata": {
        "id": "06f2df44-24f4-4314-900d-d03f02823ceb"
      },
      "outputs": [],
      "source": [
        "import scipy.stats as st\n",
        "\n",
        "expected = [40, 45, 38, 50, 55, 60, 65]\n",
        "observed = [38, 43, 40, 48, 52, 58, 62]\n",
        "\n",
        "sum_observed = sum(observed)  # Should be 399\n",
        "sum_expected = sum(expected)  # Should be 373\n",
        "\n",
        "expected_normalized = [e * (sum_observed / sum_expected) for e in expected]\n",
        "\n",
        "# Chi-Square Statistic and p-value\n",
        "chi2_statistic, p_value = st.chisquare(f_obs=observed, f_exp=expected_normalized)\n",
        "print(f\"Chi-Square Statistic: {chi2_statistic}\")\n",
        "print(f\"P-value: {p_value}\")"
      ]
    },
    {
      "cell_type": "code",
      "execution_count": 11,
      "id": "3db52de2-8492-49fa-a11f-9289d5318284",
      "metadata": {
        "id": "3db52de2-8492-49fa-a11f-9289d5318284",
        "colab": {
          "base_uri": "https://localhost:8080/"
        },
        "outputId": "6a0c457c-b4f7-40fd-a938-33c1c3c74326"
      },
      "outputs": [
        {
          "output_type": "stream",
          "name": "stdout",
          "text": [
            "Chi-square Statistic:  0.3467729187346415\n",
            "P-value: 0.9992367516752689\n",
            "Fail to reject the null hypothesis. There is no significant difference between expected and observed attendance.\n"
          ]
        }
      ],
      "source": [
        "import numpy as np\n",
        "from scipy.stats import chisquare\n",
        "\n",
        "expected_attendance = np.array([40, 45, 38, 50, 55, 60, 65])\n",
        "observed_attendance = np.array([38, 43, 40, 48, 52, 58, 62])\n",
        "\n",
        "sum_expected_attendence= sum(expected_attendance)\n",
        "sum_observed_attendence = sum(observed_attendance)\n",
        "expected_normalized = [e * (sum_observed_attendence / sum_expected_attendence) for e in expected_attendance]\n",
        "\n",
        "chi2_stat, p_value = chisquare(f_obs=observed_attendance, f_exp=expected_normalized)   # Perform the Chi-square test\n",
        "print(\"Chi-square Statistic: \",chi2_stat)\n",
        "print(\"P-value:\", p_value)\n",
        "\n",
        "alpha = 0.05  # Significance level\n",
        "if p_value < alpha:\n",
        "    print(\"Reject the null hypothesis. There is a significant difference between expected and observed attendance.\")\n",
        "else:\n",
        "    print(\"Fail to reject the null hypothesis. There is no significant difference between expected and observed attendance.\")\n"
      ]
    },
    {
      "cell_type": "markdown",
      "id": "a651ae03-9b6a-4af4-a3e9-97b90bb8913e",
      "metadata": {
        "id": "a651ae03-9b6a-4af4-a3e9-97b90bb8913e"
      },
      "source": [
        "Que3 -> Calculate anova test\n",
        "\n",
        "\n",
        "\n",
        "\n",
        "\n",
        "    | Student_ID | Semester | Total_Marks |\n",
        "    |------------|----------|-------------|\n",
        "    | 1          | Fall     | 85          |\n",
        "    | 2          | Fall     | 78          |\n",
        "    | 3          | Fall     | 92          |\n",
        "    | 4          | Spring   | 88          |\n",
        "    | 5          | Spring   | 75          |\n",
        "    | 6          | Spring   | 82          |\n",
        "    | 7          | Summer   | 90          |\n",
        "    | 8          | Summer   | 86          |\n",
        "    | 9          | Summer   | 79          |    \n",
        "\n",
        "\n",
        "Null Hypothesis (Ho): The average marks of students in each semester are approximately equal.\n",
        "\n",
        "Alternative Hypothesis (Ha): The average marks of students in at least one semester are different."
      ]
    },
    {
      "cell_type": "code",
      "execution_count": 18,
      "id": "f4680b16-587c-4bec-809e-bfe473b7538a",
      "metadata": {
        "id": "f4680b16-587c-4bec-809e-bfe473b7538a",
        "colab": {
          "base_uri": "https://localhost:8080/"
        },
        "outputId": "a23eca08-16c2-48b0-9154-931a1c6760c7"
      },
      "outputs": [
        {
          "output_type": "stream",
          "name": "stdout",
          "text": [
            "           df      sum_sq    mean_sq        F   PR(>F)\n",
            "Semester  2.0   22.222222  11.111111  0.27248  0.77043\n",
            "Residual  6.0  244.666667  40.777778      NaN      NaN\n",
            "\n",
            "  Fail to reject the null hypothesis. The average marks of students in each semester are approximately equal.\n"
          ]
        }
      ],
      "source": [
        "import pandas as pd\n",
        "import statsmodels.api as sm\n",
        "from statsmodels.formula.api import ols\n",
        "\n",
        "data = {\n",
        "    'Student_ID': [1, 2, 3, 4, 5, 6, 7, 8, 9],\n",
        "    'Semester': ['Fall', 'Fall', 'Fall', 'Spring', 'Spring', 'Spring', 'Summer', 'Summer', 'Summer'],\n",
        "    'Total_Marks': [85, 78, 92, 88, 75, 82, 90, 86, 79]\n",
        "}\n",
        "df = pd.DataFrame(data)\n",
        "\n",
        "# ANOVA\n",
        "model = ols('Total_Marks ~ Semester', data=df).fit()\n",
        "anova_table = sm.stats.anova_lm(model, typ=1)\n",
        "\n",
        "print(anova_table)\n",
        "\n",
        "alpha = 0.05  # Significance level\n",
        "if p_value < alpha:\n",
        "    print(\"\\n   Reject the null hypothesis. The average marks of students in at least one semester are significantly different.\")\n",
        "else:\n",
        "    print(\"\\n  Fail to reject the null hypothesis. The average marks of students in each semester are approximately equal.\")"
      ]
    }
  ],
  "metadata": {
    "kernelspec": {
      "display_name": "Python 3 (ipykernel)",
      "language": "python",
      "name": "python3"
    },
    "language_info": {
      "codemirror_mode": {
        "name": "ipython",
        "version": 3
      },
      "file_extension": ".py",
      "mimetype": "text/x-python",
      "name": "python",
      "nbconvert_exporter": "python",
      "pygments_lexer": "ipython3",
      "version": "3.10.12"
    },
    "colab": {
      "provenance": []
    }
  },
  "nbformat": 4,
  "nbformat_minor": 5
}