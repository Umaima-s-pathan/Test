{
  "cells": [
    {
      "cell_type": "code",
      "execution_count": null,
      "id": "8019c971-b3c7-4de7-80b8-5f6429d76376",
      "metadata": {
        "id": "8019c971-b3c7-4de7-80b8-5f6429d76376"
      },
      "outputs": [],
      "source": [
        "# Jupyter Notebook for Python Basics Practice\n",
        "\n",
        "## Multiple-Choice Questions (MCQs)\n",
        "\n",
        "### Question 1\n",
        "# What is the output of the following code?\n",
        "# print(type(5.0))\n",
        "# a) int\n",
        "# b) float\n",
        "# c) str\n",
        "# d) list\n",
        "\n",
        "### Question 2\n",
        "# What is the correct syntax to output \"Hello World\" in Python?\n",
        "# a) echo \"Hello World\"\n",
        "# b) print(\"Hello World\")\n",
        "# c) printf(\"Hello World\")\n",
        "# d) System.out.println(\"Hello World\")\n",
        "\n",
        "### Question 3\n",
        "# Which of the following is a correct variable declaration in Python?\n",
        "# a) var x = 10\n",
        "# b) int x = 10\n",
        "# c) x = 10\n",
        "# d) declare x = 10\n",
        "\n",
        "### Question 4\n",
        "# What is the output of the following code?\n",
        "# print(2 ** 3)\n",
        "# a) 6\n",
        "# b) 8\n",
        "# c) 9\n",
        "# d) 12\n",
        "\n",
        "### Question 5\n",
        "# Which of the following is used to define a block of code in Python?\n",
        "# a) Curly braces\n",
        "# b) Parentheses\n",
        "# c) Indentation\n",
        "# d) Quotation marks\n",
        "\n",
        "### Question 6\n",
        "# How do you start a comment in Python?\n",
        "# a) //\n",
        "# b) /*\n",
        "# c) <!--\n",
        "# d) #\n",
        "\n",
        "### Question 7\n",
        "# What is the output of the following code?\n",
        "# print(\"Hello\" + \" \" + \"World\")\n",
        "# a) Hello World\n",
        "# b) HelloWorld\n",
        "# c) Hello+World\n",
        "# d) Error\n",
        "\n",
        "### Question 8\n",
        "# Which of the following is the correct way to create a list in Python?\n",
        "# a) list = [1, 2, 3]\n",
        "# b) list = (1, 2, 3)\n",
        "# c) list = {1, 2, 3}\n",
        "# d) list = 1, 2, 3\n",
        "\n",
        "### Question 9\n",
        "# What is the output of the following code?\n",
        "# a = [1, 2, 3]\n",
        "# print(len(a))\n",
        "# a) 2\n",
        "# b) 3\n",
        "# c) 4\n",
        "# d) Error\n",
        "\n",
        "### Question 10\n",
        "# Which of the following statements is true?\n",
        "# a) A tuple is mutable\n",
        "# b) A list is immutable\n",
        "# c) A tuple is immutable\n",
        "# d) A list is immutable and a tuple is mutable\n",
        "\n",
        "### Question 11\n",
        "# What will be the output of the following code?\n",
        "# x = 10\n",
        "# if x > 5:\n",
        "#     print(\"Greater\")\n",
        "# else:\n",
        "#     print(\"Smaller\")\n",
        "# a) Greater\n",
        "# b) Smaller\n",
        "# c) Error\n",
        "# d) None of the above\n",
        "\n",
        "### Question 12\n",
        "# How do you create a dictionary in Python?\n",
        "# a) dict = [1, 2, 3]\n",
        "# b) dict = {1, 2, 3}\n",
        "# c) dict = {\"one\": 1, \"two\": 2, \"three\": 3}\n",
        "# d) dict = (1, 2, 3)\n",
        "\n",
        "### Question 13\n",
        "# What is the output of the following code?\n",
        "# x = [1, 2, 3, 4]\n",
        "# print(x[1:3])\n",
        "# a) [1, 2]\n",
        "# b) [2, 3]\n",
        "# c) [3, 4]\n",
        "# d) [2, 3, 4]\n",
        "\n",
        "### Question 14\n",
        "# Which of the following methods can be used to add an element to a list?\n",
        "# a) append()\n",
        "# b) add()\n",
        "# c) insert()\n",
        "# d) extend()\n",
        "\n",
        "### Question 15\n",
        "# What is the correct way to handle exceptions in Python?\n",
        "# a) try-except\n",
        "# b) try-catch\n",
        "# c) do-except\n",
        "# d) do-catch\n",
        "\n",
        "---\n",
        "\n",
        "## Practice Questions\n",
        "\n",
        "### Question 1\n",
        "# Write a Python program to check if a number is even or odd.\n",
        "\n",
        "number = int(input(\"Enter a number: \"))\n",
        "if number % 2 == 0:\n",
        "    print(f\"{number} is even.\")\n",
        "else:\n",
        "    print(f\"{number} is odd.\")\n",
        "\n",
        "### Question 2\n",
        "# Write a Python program to find the factorial of a given number using a loop.\n",
        "\n",
        "def factorial(n):\n",
        "    result = 1\n",
        "    for i in range(1, n + 1):\n",
        "        result *= i\n",
        "    return result\n",
        "\n",
        "number = int(input(\"Enter a number: \"))\n",
        "print(f\"Factorial of {number} is {factorial(number)}.\")\n",
        "\n",
        "### Question 3\n",
        "# Write a Python program to create a list of the first 10 natural numbers and then print each number.\n",
        "\n",
        "natural_numbers = list(range(1, 11))\n",
        "for number in natural_numbers:\n",
        "    print(number)\n",
        "\n",
        "### Question 4\n",
        "# Write a Python program to calculate the sum of all numbers in a list.\n",
        "\n",
        "numbers = [1, 2, 3, 4, 5]\n",
        "print(f\"Sum of the list is {sum(numbers)}.\")\n",
        "\n",
        "### Question 5\n",
        "# Write a Python program to reverse a string.\n",
        "\n",
        "string = input(\"Enter a string: \")\n",
        "reversed_string = string[::-1]\n",
        "print(f\"Reversed string is: {reversed_string}\")\n",
        "\n",
        "### Question 6\n",
        "# Write a Python program to find the largest number in a list.\n",
        "\n",
        "numbers = [1, 2, 3, 4, 5]\n",
        "print(f\"Largest number in the list is {max(numbers)}.\")\n",
        "\n",
        "### Question 7\n",
        "# Write a Python program to print the multiplication table of any number provided by the user.\n",
        "\n",
        "number = int(input(\"Enter a number: \"))\n",
        "for i in range(1, 11):\n",
        "    print(f\"{number} x {i} = {number * i}\")\n",
        "\n",
        "### Question 8\n",
        "#  Write a Python program to count the number of vowels in a string.\n",
        "\n",
        "    vowels = \"aeiouAEIOU\"\n",
        "    string = input(\"Enter a string: \")\n",
        "    count = sum(1 for char in string if char in vowels)\n",
        "    print(f\"Number of vowels in the string is: {count}\")\n",
        "\n",
        "### Question 9\n",
        "# Write a Python program to convert a list of tuples into a dictionary.\n",
        "\n",
        "tuples = [(\"one\", 1), (\"two\", 2), (\"three\", 3)]\n",
        "dictionary = dict(tuples)\n",
        "print(f\"Converted dictionary: {dictionary}\")\n",
        "\n",
        "### Question 10\n",
        "# Write a Python program to check if a given string is a palindrome.\n",
        "\n",
        "string = input(\"Enter a string: \")\n",
        "is_palindrome = string == string[::-1]\n",
        "print(f\"The string is a palindrome: {is_palindrome}\")\n"
      ]
    },
    {
      "cell_type": "code",
      "execution_count": null,
      "id": "f87f0cd6-10e5-43d9-aa0f-ac44f1880427",
      "metadata": {
        "id": "f87f0cd6-10e5-43d9-aa0f-ac44f1880427"
      },
      "outputs": [],
      "source": [
        "#Question 1\n",
        "#ans b) float"
      ]
    },
    {
      "cell_type": "code",
      "execution_count": null,
      "id": "b65847e4-f05d-4eee-a186-eb801a0c9d8f",
      "metadata": {
        "id": "b65847e4-f05d-4eee-a186-eb801a0c9d8f"
      },
      "outputs": [],
      "source": [
        "#Question 2\n",
        "#ans b) print(\"Hello World\")"
      ]
    },
    {
      "cell_type": "code",
      "execution_count": null,
      "id": "e40a96f9-72e1-437d-8e2b-b9360040a277",
      "metadata": {
        "id": "e40a96f9-72e1-437d-8e2b-b9360040a277"
      },
      "outputs": [],
      "source": [
        "#Question 3\n",
        "#ans c) x = 10"
      ]
    },
    {
      "cell_type": "code",
      "execution_count": null,
      "id": "cb93b572-fc58-45f3-b16c-c25194a6ee5f",
      "metadata": {
        "id": "cb93b572-fc58-45f3-b16c-c25194a6ee5f"
      },
      "outputs": [],
      "source": [
        "#Question 4\n",
        "#ans  b) 8"
      ]
    },
    {
      "cell_type": "code",
      "execution_count": null,
      "id": "f5e00f97-195e-42c5-aee3-8e7d5e430cc9",
      "metadata": {
        "id": "f5e00f97-195e-42c5-aee3-8e7d5e430cc9"
      },
      "outputs": [],
      "source": [
        "#Question 5\n",
        "#ans  c) Indentation"
      ]
    },
    {
      "cell_type": "code",
      "execution_count": null,
      "id": "4329d690-7d0c-432a-a9b8-fafa218c7526",
      "metadata": {
        "id": "4329d690-7d0c-432a-a9b8-fafa218c7526"
      },
      "outputs": [],
      "source": [
        "#Question 6\n",
        "#ans d) #"
      ]
    },
    {
      "cell_type": "code",
      "execution_count": null,
      "id": "8d4325f9-d3d3-485e-8468-460ca97740d4",
      "metadata": {
        "id": "8d4325f9-d3d3-485e-8468-460ca97740d4"
      },
      "outputs": [],
      "source": [
        "#Question 7\n",
        "#ans a) Hello World"
      ]
    },
    {
      "cell_type": "code",
      "execution_count": null,
      "id": "660fe550-6961-4fb4-a22d-19fcdb1a5fa1",
      "metadata": {
        "id": "660fe550-6961-4fb4-a22d-19fcdb1a5fa1"
      },
      "outputs": [],
      "source": [
        "#Question 8\n",
        "#ans a) list = [1, 2, 3]"
      ]
    },
    {
      "cell_type": "code",
      "execution_count": null,
      "id": "f55e2885-6f89-4cd6-9fcc-8d69ed9cf981",
      "metadata": {
        "id": "f55e2885-6f89-4cd6-9fcc-8d69ed9cf981"
      },
      "outputs": [],
      "source": [
        "#Question 9\n",
        "#ans b) 3"
      ]
    },
    {
      "cell_type": "code",
      "source": [
        "#Question 10\n",
        "#ans c) A tuple is immutable"
      ],
      "metadata": {
        "id": "TFqt3Pc9JTk-"
      },
      "id": "TFqt3Pc9JTk-",
      "execution_count": null,
      "outputs": []
    },
    {
      "cell_type": "code",
      "source": [
        "#Question 11\n",
        "#ans a) Greater"
      ],
      "metadata": {
        "id": "IleKPYB3JToG"
      },
      "id": "IleKPYB3JToG",
      "execution_count": null,
      "outputs": []
    },
    {
      "cell_type": "code",
      "source": [
        "#Question 12\n",
        "#ans c) dict = {\"one\": 1, \"two\": 2, \"three\": 3}"
      ],
      "metadata": {
        "id": "0qmDvEJBJTu5"
      },
      "id": "0qmDvEJBJTu5",
      "execution_count": null,
      "outputs": []
    },
    {
      "cell_type": "code",
      "source": [
        "#Question 13\n",
        "#ans b) [2, 3]"
      ],
      "metadata": {
        "id": "b34_dNc4JT04"
      },
      "id": "b34_dNc4JT04",
      "execution_count": null,
      "outputs": []
    },
    {
      "cell_type": "code",
      "source": [
        "#Question 14\n",
        "#ans a) append()"
      ],
      "metadata": {
        "id": "atYvtg2cJT38"
      },
      "id": "atYvtg2cJT38",
      "execution_count": null,
      "outputs": []
    },
    {
      "cell_type": "code",
      "source": [
        "#Question 15\n",
        "#ans a) try-except"
      ],
      "metadata": {
        "id": "i3xDEk3EJT7D"
      },
      "id": "i3xDEk3EJT7D",
      "execution_count": null,
      "outputs": []
    },
    {
      "cell_type": "code",
      "source": [
        "# Write a Python program to check if a number is even or odd.\n",
        "\n",
        "num = int(input(\"Enter a number: \"))\n",
        "if (num % 2) == 0:\n",
        "   print(\"{0} is Even\".format(num))\n",
        "else:\n",
        "   print(\"{0} is Odd\".format(num))"
      ],
      "metadata": {
        "id": "D09Y1ZcWJT92",
        "colab": {
          "base_uri": "https://localhost:8080/"
        },
        "outputId": "8befba61-2d2b-4cf4-955a-37e35ad5d8b4"
      },
      "id": "D09Y1ZcWJT92",
      "execution_count": 1,
      "outputs": [
        {
          "output_type": "stream",
          "name": "stdout",
          "text": [
            "Enter a number: 6\n",
            "6 is Even\n"
          ]
        }
      ]
    },
    {
      "cell_type": "code",
      "source": [
        "# Write a Python program to find the factorial of a given number using a loop.\n",
        "\n",
        "import math\n",
        "num = 5\n",
        "factorial = math.factorial(num)\n",
        "print(\"The factorial of\", num, \"is\", factorial)"
      ],
      "metadata": {
        "colab": {
          "base_uri": "https://localhost:8080/"
        },
        "id": "vtHBo4v0PVQK",
        "outputId": "80733d5e-1ea6-4ed5-c86f-acab70f76064"
      },
      "id": "vtHBo4v0PVQK",
      "execution_count": 2,
      "outputs": [
        {
          "output_type": "stream",
          "name": "stdout",
          "text": [
            "The factorial of 5 is 120\n"
          ]
        }
      ]
    },
    {
      "cell_type": "code",
      "source": [
        "# Write a Python program to create a list of the first 10 natural numbers and then print each number.\n",
        "\n",
        "print(\"====The First 10 Natural Numbers====\")\n",
        "\n",
        "for i in range(1, 11):\n",
        "    print(i)"
      ],
      "metadata": {
        "colab": {
          "base_uri": "https://localhost:8080/"
        },
        "id": "cN0zwTCEPVTu",
        "outputId": "e05372f8-0f91-469d-bc3e-3fca7bf9b6c8"
      },
      "id": "cN0zwTCEPVTu",
      "execution_count": 3,
      "outputs": [
        {
          "output_type": "stream",
          "name": "stdout",
          "text": [
            "====The First 10 Natural Numbers====\n",
            "1\n",
            "2\n",
            "3\n",
            "4\n",
            "5\n",
            "6\n",
            "7\n",
            "8\n",
            "9\n",
            "10\n"
          ]
        }
      ]
    },
    {
      "cell_type": "code",
      "source": [
        "# Write a Python program to calculate the sum of all numbers in a list.\n",
        "\n",
        "list1 = [11, 5, 17, 18, 23]\n",
        "print(f\"Sum of the list is {sum(list1)}.\")\n"
      ],
      "metadata": {
        "colab": {
          "base_uri": "https://localhost:8080/"
        },
        "id": "V9y5ZSlwPVWo",
        "outputId": "717d57b4-6d81-4b6e-d1f8-4ed466dc1f50"
      },
      "id": "V9y5ZSlwPVWo",
      "execution_count": 5,
      "outputs": [
        {
          "output_type": "stream",
          "name": "stdout",
          "text": [
            "Sum of the list is 74.\n"
          ]
        }
      ]
    },
    {
      "cell_type": "code",
      "source": [
        "# Write a Python program to reverse a string.\n",
        "\n",
        "txt = \"Hello World\" [::-1]\n",
        "print(txt)"
      ],
      "metadata": {
        "colab": {
          "base_uri": "https://localhost:8080/"
        },
        "id": "rBnwqNbbPVZQ",
        "outputId": "df783c27-e806-43a1-b509-06d21896c797"
      },
      "id": "rBnwqNbbPVZQ",
      "execution_count": 6,
      "outputs": [
        {
          "output_type": "stream",
          "name": "stdout",
          "text": [
            "dlroW olleH\n"
          ]
        }
      ]
    },
    {
      "cell_type": "code",
      "source": [
        "\n",
        "# Write a Python program to find the largest number in a list.\n",
        "\n",
        "l1 = [10, 20, 4, 45, 99]\n",
        "l1.sort()\n",
        "\n",
        "print(\" the sorted list is : \",l1)\n",
        "print(\"Largest element is:\", l1[-1])\n"
      ],
      "metadata": {
        "colab": {
          "base_uri": "https://localhost:8080/"
        },
        "id": "HTQ7LLo6PVcF",
        "outputId": "48462bcc-1950-471d-904f-6d9fd7bd4ec8"
      },
      "id": "HTQ7LLo6PVcF",
      "execution_count": 10,
      "outputs": [
        {
          "output_type": "stream",
          "name": "stdout",
          "text": [
            " the sorted list is :  [4, 10, 20, 45, 99]\n",
            "Largest element is: 99\n"
          ]
        }
      ]
    },
    {
      "cell_type": "code",
      "source": [
        "# Write a Python program to print the multiplication table of any number provided by the user.\n",
        "num  = int(input(\"Enter a number: \"))\n",
        "for i in range(1, 11):\n",
        "   print(num, 'x', i, '=', num*i)"
      ],
      "metadata": {
        "colab": {
          "base_uri": "https://localhost:8080/"
        },
        "id": "gowgaFraPVen",
        "outputId": "b762e797-87a9-47b4-fa1a-c3c6a17ea33f"
      },
      "id": "gowgaFraPVen",
      "execution_count": 11,
      "outputs": [
        {
          "output_type": "stream",
          "name": "stdout",
          "text": [
            "Enter a number: 2\n",
            "2 x 1 = 2\n",
            "2 x 2 = 4\n",
            "2 x 3 = 6\n",
            "2 x 4 = 8\n",
            "2 x 5 = 10\n",
            "2 x 6 = 12\n",
            "2 x 7 = 14\n",
            "2 x 8 = 16\n",
            "2 x 9 = 18\n",
            "2 x 10 = 20\n"
          ]
        }
      ]
    },
    {
      "cell_type": "code",
      "source": [
        "#  Write a Python program to count the number of vowels in a string.\n",
        "string=input(\"Enter string:\")\n",
        "vowels=0\n",
        "for i in string:\n",
        "      if(i=='a' or i=='e' or i=='i' or i=='o' or i=='u' or i=='A' or i=='E' or i=='I' or i=='O' or i=='U'):\n",
        "            vowels=vowels+1\n",
        "print(\"Number of vowels are:\")\n",
        "print(vowels)"
      ],
      "metadata": {
        "id": "-ChFdNAOJUAj",
        "colab": {
          "base_uri": "https://localhost:8080/"
        },
        "outputId": "bbd5e5f8-9f5b-4b82-9971-ba3a2496c15d"
      },
      "id": "-ChFdNAOJUAj",
      "execution_count": 12,
      "outputs": [
        {
          "output_type": "stream",
          "name": "stdout",
          "text": [
            "Enter string:hello\n",
            "Number of vowels are:\n",
            "2\n"
          ]
        }
      ]
    },
    {
      "cell_type": "code",
      "source": [
        "# Write a Python program to convert a list of tuples into a dictionary.\n",
        "\n",
        "tuples = [(\"one\", 1), (\"two\", 2), (\"three\", 3)]\n",
        "dict1 = dict(tuples)\n",
        "print(dict1)"
      ],
      "metadata": {
        "id": "LGHUtwwgJUDH",
        "colab": {
          "base_uri": "https://localhost:8080/"
        },
        "outputId": "13c33ccb-89c4-4556-cd4a-38a4817e2d09"
      },
      "id": "LGHUtwwgJUDH",
      "execution_count": 15,
      "outputs": [
        {
          "output_type": "stream",
          "name": "stdout",
          "text": [
            "{'one': 1, 'two': 2, 'three': 3}\n"
          ]
        }
      ]
    },
    {
      "cell_type": "code",
      "source": [
        "# Write a Python program to check if a given string is a palindrome.\n",
        "\n",
        "string = input(\"Enter a string: \")\n",
        "is_palindrome = string == string[::-1]\n",
        "print(f\"The string is a palindrome: {is_palindrome}\")\n"
      ],
      "metadata": {
        "id": "EIt6A6ZMJUGA",
        "colab": {
          "base_uri": "https://localhost:8080/"
        },
        "outputId": "2c8aa739-01a7-4358-c7aa-243d0a71612a"
      },
      "id": "EIt6A6ZMJUGA",
      "execution_count": 16,
      "outputs": [
        {
          "output_type": "stream",
          "name": "stdout",
          "text": [
            "Enter a string: hi iam liz\n",
            "The string is a palindrome: False\n"
          ]
        }
      ]
    },
    {
      "cell_type": "code",
      "source": [],
      "metadata": {
        "id": "xVD4xf7oJUIL"
      },
      "id": "xVD4xf7oJUIL",
      "execution_count": null,
      "outputs": []
    }
  ],
  "metadata": {
    "kernelspec": {
      "display_name": "Python 3 (ipykernel)",
      "language": "python",
      "name": "python3"
    },
    "language_info": {
      "codemirror_mode": {
        "name": "ipython",
        "version": 3
      },
      "file_extension": ".py",
      "mimetype": "text/x-python",
      "name": "python",
      "nbconvert_exporter": "python",
      "pygments_lexer": "ipython3",
      "version": "3.10.12"
    },
    "colab": {
      "provenance": []
    }
  },
  "nbformat": 4,
  "nbformat_minor": 5
}