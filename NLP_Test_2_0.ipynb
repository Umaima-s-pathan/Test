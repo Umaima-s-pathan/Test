{
  "cells": [
    {
      "cell_type": "markdown",
      "id": "a3bb5723-9714-46ed-9191-573648f2eb1c",
      "metadata": {
        "id": "a3bb5723-9714-46ed-9191-573648f2eb1c"
      },
      "source": [
        "# STORY"
      ]
    },
    {
      "cell_type": "markdown",
      "id": "095f2152-9fb9-49a9-8aff-1671b3726bed",
      "metadata": {
        "id": "095f2152-9fb9-49a9-8aff-1671b3726bed"
      },
      "source": [
        " Chhatrapati Shivaji Maharaj was born on February 19, 1630, at Shivneri Fort in Maharashtra, to Shahaji Bhonsle, a Maratha general, and Jijabai, who deeply influenced Shivaji with her teachings on dharma, bravery, and justice. From an early age, Shivaji exhibited remarkable leadership qualities, forming a group of loyal followers and honing his military skills in the rugged terrain of the Sahyadri mountains. He grew up during a time when the Mughal Empire under Emperor Aurangzeb and the Deccan Sultanates were vying for control, often oppressing the local population, which deeply disturbed him and fueled his desire to establish Swarajya, or self-rule for the Marathas. By the age of 16, Shivaji had captured his first fort, Torna, using guerrilla warfare tactics that would later become a hallmark of his military strategy. As his conquests grew, he formed alliances with local leaders, securing key forts like Raigad, Kondana, and Purandar, establishing a solid territorial base in western India. In 1659, he faced and defeated Afzal Khan, a prominent general of the Bijapur Sultanate, solidifying his reputation as a brave and tactical leader; this victory was crucial in establishing his control over much of the Deccan. Shivaji’s raids on Mughal territories and his escape from the clutches of Aurangzeb in Agra in 1666 further bolstered his legend. He realized that a powerful navy was crucial to safeguard his territories from foreign invasions, leading him to develop one of the earliest organized naval forces in India, allowing him to secure coastal areas against Portuguese, British, and Siddis forces. In 1674, he formally crowned himself as Chhatrapati at Raigad Fort, declaring his independence and establishing the Maratha Empire, thus becoming the first king to establish Hindavi Swarajya, an autonomous kingdom with a structured administrative framework rooted in Indian ethos. Shivaji’s administrative system was highly efficient, and he emphasized the welfare of his people, setting up systems to reduce corruption and create a fair tax structure; his Ashta Pradhan (Council of Eight Ministers) included departments for finance, internal affairs, foreign policy, and military to ensure smooth governance. Shivaji showed a progressive approach towards governance, promoting religious tolerance and respecting the diversity within his empire, even appointing Muslims to key positions in his administration and banning the harassment of women and looting of religious sites. His respect for women and his advocacy for justice inspired trust and loyalty among his people, making him an ideal ruler for his time. Shivaji Maharaj’s guerrilla tactics, known as “Ganimi Kava,” became legendary and enabled him to outmaneuver much larger and better-equipped armies repeatedly, allowing him to expand his empire while minimizing losses. As his fame grew, the Maratha Empire began to influence regions far beyond Maharashtra, with Maratha forces eventually becoming a significant power across India. Shivaji passed away on April 3, 1680, at Raigad Fort, leaving behind a powerful legacy and a well-organized state that continued to expand after his death. His life and ideals—valor, respect for all faiths, and self-rule—continue to inspire millions, and his legacy endures in the form of the Maratha Empire’s contributions to India’s history and culture."
      ]
    },
    {
      "cell_type": "markdown",
      "id": "5585fd33-23b5-4337-8fcc-e0de56758726",
      "metadata": {
        "id": "5585fd33-23b5-4337-8fcc-e0de56758726"
      },
      "source": [
        "# Questions Using SpaCy, NLTK, and TextBlob\n",
        "\n",
        "\n",
        "1- Tokenization\n",
        "\n",
        "Use NLTK to tokenize the text into words.\n",
        "\n",
        "\n",
        "Tokenize the text into sentences using spaCy.\n",
        "\n",
        "\n",
        "2- Named Entity Recognition (NER)\n",
        "\n",
        "Use spaCy to extract all named entities in the text.\n",
        "\n",
        "\n",
        "Identify and count all locations mentioned in the text using spaCy's NER.\n",
        "\n",
        "\n",
        "3- Part of Speech (POS) Tagging\n",
        "\n",
        "Use TextBlob to tag the parts of speech for each word.\n",
        "\n",
        "Extract and list all nouns in the text using spaCy.\n",
        "\n",
        "\n",
        "4- Stop Words Removal\n",
        "\n",
        "Use NLTK to remove stop words from the text and display the cleaned text.\n",
        "\n",
        "\n",
        "Use spaCy to remove stop words, then join and display the text without stop words.\n",
        "\n",
        "\n",
        "5- Lemmatization\n",
        "\n",
        "Use spaCy to lemmatize each word in the text.\n",
        "\n",
        "\n",
        "Use NLTK to lemmatize only the verbs in the text.\n",
        "\n",
        "6- Sentiment Analysis\n",
        "\n",
        "Use TextBlob to perform sentiment analysis on the entire text.\n",
        "\n",
        "\n",
        "Divide the text into sentences and analyze the sentiment of each sentence with TextBlob.\n",
        "\n",
        "\n",
        "7- N-Grams\n",
        "\n",
        "Generate bigrams (two-word combinations) using NLTK.\n",
        "\n",
        "\n",
        "Generate trigrams (three-word combinations) using TextBlob.\n",
        "\n",
        "\n",
        "8- Frequency Distribution\n",
        "\n",
        "Use NLTK to compute the frequency distribution of words in the text.\n",
        "\n",
        "Find the 5 most common nouns in the text using spaCy.\n",
        "\n",
        "\n",
        "9- Dependency Parsing\n",
        "\n",
        "Extract and display dependency parse information for each sentence using spaCy.\n",
        "\n",
        "Visualize the dependency tree of the first sentence using spaCy’s displacy tool.\n",
        "\n",
        "\n",
        "10- Phrase Matching\n",
        "\n",
        "Identify occurrences of the phrase \"Maratha Empire\" using spaCy's PhraseMatcher.\n",
        "\n",
        "\n",
        "Use spaCy’s Matcher to find patterns where Shivaji Maharaj is mentioned along with actions (verbs).\n",
        "\n",
        "\n",
        "11- Sentence Similarity\n",
        "\n",
        "\n",
        "Calculate the similarity between the first two sentences of the text using spaCy.\n",
        "\n",
        "\n",
        "Use TextBlob to compute the similarity between sentences mentioning \"Shivaji\" and \"Mughal Empire.\"\n",
        "\n",
        "\n",
        "12- Translation\n",
        "\n",
        "\n",
        "Translate the first paragraph into Hindi using TextBlob.\n",
        "\n",
        "\n",
        "Translate the phrase \"Hindavi Swarajya\" into French using TextBlob.\n",
        "\n",
        "\n",
        "13- Keyword Extraction\n",
        "\n",
        "\n",
        "Extract keywords using NLTK’s frequency distribution (common nouns and verbs).\n",
        "\n",
        "\n",
        "Use spaCy to identify and list unique keywords from the text (filter out stop words).\n",
        "\n",
        "\n",
        "14- Coreference Resolution\n",
        "\n",
        "\n",
        "\n",
        "Use spaCy's neuralcoref extension to resolve pronouns in the text.\n",
        "\n",
        "\n",
        "Identify any instances where pronouns can be replaced with entity names for better clarity.\n",
        "\n",
        "\n",
        "15- Sentiment Polarity Distribution\n",
        "\n",
        "Calculate and plot the sentiment polarity distribution for each sentence in the text using TextBlob.\n",
        "\n",
        "\n",
        "Identify and display the most positive and most negative sentences based on sentiment scores.\n",
        "\n",
        "\n",
        "16- Extract Dates and Events\n",
        "\n",
        "\n",
        "Identify all dates mentioned in the text using spaCy.\n",
        "\n",
        "Use regex to find sentences related to events happening in specific years (e.g., 1674 or 1680).\n",
        "\n",
        "\n",
        "17- Synonyms and Antonyms\n",
        "\n",
        "Use TextBlob's WordNet to find synonyms for \"bravery,\" \"justice,\" and \"valor.\"\n",
        "\n",
        "\n",
        "Find antonyms of \"oppression\" and \"invasion\" using NLTK’s WordNet.\n",
        "\n",
        "\n",
        "18- Spelling Correction\n",
        "\n",
        "Introduce 5 spelling errors in the text and use TextBlob to correct them.\n",
        "\n",
        "\n",
        "Identify words with potential spelling errors using TextBlob.\n",
        "\n",
        "\n",
        "19- Extract Subject-Verb-Object Triples\n",
        "\n",
        "Use spaCy to extract subject-verb-object triples from the sentences.\n",
        "\n",
        "\n",
        "Identify and list sentences where \"Shivaji\" is the subject and a verb follows, using dependency parsing.\n",
        "\n",
        "20- Create a Summary\n",
        "\n",
        "Summarize the text using TextBlob by extracting key sentences.\n",
        "\n",
        "\n",
        "Generate a summary using NLTK’s summarize function on cleaned text."
      ]
    },
    {
      "cell_type": "markdown",
      "source": [
        "#1- Tokenization"
      ],
      "metadata": {
        "id": "Xxjd_cSTT03u"
      },
      "id": "Xxjd_cSTT03u"
    },
    {
      "cell_type": "code",
      "source": [
        "import nltk\n",
        "nltk.download('punkt')\n",
        "!pip install spacy\n"
      ],
      "metadata": {
        "colab": {
          "base_uri": "https://localhost:8080/"
        },
        "id": "NQcEynPUN0IR",
        "outputId": "b8e71841-e8cd-4293-8556-f4897f184d59"
      },
      "id": "NQcEynPUN0IR",
      "execution_count": 89,
      "outputs": [
        {
          "output_type": "stream",
          "name": "stderr",
          "text": [
            "[nltk_data] Downloading package punkt to /root/nltk_data...\n",
            "[nltk_data]   Package punkt is already up-to-date!\n"
          ]
        },
        {
          "output_type": "stream",
          "name": "stdout",
          "text": [
            "Requirement already satisfied: spacy in /usr/local/lib/python3.10/dist-packages (3.7.5)\n",
            "Requirement already satisfied: spacy-legacy<3.1.0,>=3.0.11 in /usr/local/lib/python3.10/dist-packages (from spacy) (3.0.12)\n",
            "Requirement already satisfied: spacy-loggers<2.0.0,>=1.0.0 in /usr/local/lib/python3.10/dist-packages (from spacy) (1.0.5)\n",
            "Requirement already satisfied: murmurhash<1.1.0,>=0.28.0 in /usr/local/lib/python3.10/dist-packages (from spacy) (1.0.10)\n",
            "Requirement already satisfied: cymem<2.1.0,>=2.0.2 in /usr/local/lib/python3.10/dist-packages (from spacy) (2.0.8)\n",
            "Requirement already satisfied: preshed<3.1.0,>=3.0.2 in /usr/local/lib/python3.10/dist-packages (from spacy) (3.0.9)\n",
            "Requirement already satisfied: thinc<8.3.0,>=8.2.2 in /usr/local/lib/python3.10/dist-packages (from spacy) (8.2.5)\n",
            "Requirement already satisfied: wasabi<1.2.0,>=0.9.1 in /usr/local/lib/python3.10/dist-packages (from spacy) (1.1.3)\n",
            "Requirement already satisfied: srsly<3.0.0,>=2.4.3 in /usr/local/lib/python3.10/dist-packages (from spacy) (2.4.8)\n",
            "Requirement already satisfied: catalogue<2.1.0,>=2.0.6 in /usr/local/lib/python3.10/dist-packages (from spacy) (2.0.10)\n",
            "Requirement already satisfied: weasel<0.5.0,>=0.1.0 in /usr/local/lib/python3.10/dist-packages (from spacy) (0.4.1)\n",
            "Requirement already satisfied: typer<1.0.0,>=0.3.0 in /usr/local/lib/python3.10/dist-packages (from spacy) (0.12.5)\n",
            "Requirement already satisfied: tqdm<5.0.0,>=4.38.0 in /usr/local/lib/python3.10/dist-packages (from spacy) (4.66.5)\n",
            "Requirement already satisfied: requests<3.0.0,>=2.13.0 in /usr/local/lib/python3.10/dist-packages (from spacy) (2.32.3)\n",
            "Requirement already satisfied: pydantic!=1.8,!=1.8.1,<3.0.0,>=1.7.4 in /usr/local/lib/python3.10/dist-packages (from spacy) (2.9.2)\n",
            "Requirement already satisfied: jinja2 in /usr/local/lib/python3.10/dist-packages (from spacy) (3.1.4)\n",
            "Requirement already satisfied: setuptools in /usr/local/lib/python3.10/dist-packages (from spacy) (75.1.0)\n",
            "Requirement already satisfied: packaging>=20.0 in /usr/local/lib/python3.10/dist-packages (from spacy) (24.1)\n",
            "Requirement already satisfied: langcodes<4.0.0,>=3.2.0 in /usr/local/lib/python3.10/dist-packages (from spacy) (3.4.1)\n",
            "Requirement already satisfied: numpy>=1.19.0 in /usr/local/lib/python3.10/dist-packages (from spacy) (1.26.4)\n",
            "Requirement already satisfied: language-data>=1.2 in /usr/local/lib/python3.10/dist-packages (from langcodes<4.0.0,>=3.2.0->spacy) (1.2.0)\n",
            "Requirement already satisfied: annotated-types>=0.6.0 in /usr/local/lib/python3.10/dist-packages (from pydantic!=1.8,!=1.8.1,<3.0.0,>=1.7.4->spacy) (0.7.0)\n",
            "Requirement already satisfied: pydantic-core==2.23.4 in /usr/local/lib/python3.10/dist-packages (from pydantic!=1.8,!=1.8.1,<3.0.0,>=1.7.4->spacy) (2.23.4)\n",
            "Requirement already satisfied: typing-extensions>=4.6.1 in /usr/local/lib/python3.10/dist-packages (from pydantic!=1.8,!=1.8.1,<3.0.0,>=1.7.4->spacy) (4.12.2)\n",
            "Requirement already satisfied: charset-normalizer<4,>=2 in /usr/local/lib/python3.10/dist-packages (from requests<3.0.0,>=2.13.0->spacy) (3.4.0)\n",
            "Requirement already satisfied: idna<4,>=2.5 in /usr/local/lib/python3.10/dist-packages (from requests<3.0.0,>=2.13.0->spacy) (3.10)\n",
            "Requirement already satisfied: urllib3<3,>=1.21.1 in /usr/local/lib/python3.10/dist-packages (from requests<3.0.0,>=2.13.0->spacy) (2.2.3)\n",
            "Requirement already satisfied: certifi>=2017.4.17 in /usr/local/lib/python3.10/dist-packages (from requests<3.0.0,>=2.13.0->spacy) (2024.8.30)\n",
            "Requirement already satisfied: blis<0.8.0,>=0.7.8 in /usr/local/lib/python3.10/dist-packages (from thinc<8.3.0,>=8.2.2->spacy) (0.7.11)\n",
            "Requirement already satisfied: confection<1.0.0,>=0.0.1 in /usr/local/lib/python3.10/dist-packages (from thinc<8.3.0,>=8.2.2->spacy) (0.1.5)\n",
            "Requirement already satisfied: click>=8.0.0 in /usr/local/lib/python3.10/dist-packages (from typer<1.0.0,>=0.3.0->spacy) (8.1.7)\n",
            "Requirement already satisfied: shellingham>=1.3.0 in /usr/local/lib/python3.10/dist-packages (from typer<1.0.0,>=0.3.0->spacy) (1.5.4)\n",
            "Requirement already satisfied: rich>=10.11.0 in /usr/local/lib/python3.10/dist-packages (from typer<1.0.0,>=0.3.0->spacy) (13.9.3)\n",
            "Requirement already satisfied: cloudpathlib<1.0.0,>=0.7.0 in /usr/local/lib/python3.10/dist-packages (from weasel<0.5.0,>=0.1.0->spacy) (0.20.0)\n",
            "Requirement already satisfied: smart-open<8.0.0,>=5.2.1 in /usr/local/lib/python3.10/dist-packages (from weasel<0.5.0,>=0.1.0->spacy) (7.0.5)\n",
            "Requirement already satisfied: MarkupSafe>=2.0 in /usr/local/lib/python3.10/dist-packages (from jinja2->spacy) (3.0.2)\n",
            "Requirement already satisfied: marisa-trie>=0.7.7 in /usr/local/lib/python3.10/dist-packages (from language-data>=1.2->langcodes<4.0.0,>=3.2.0->spacy) (1.2.1)\n",
            "Requirement already satisfied: markdown-it-py>=2.2.0 in /usr/local/lib/python3.10/dist-packages (from rich>=10.11.0->typer<1.0.0,>=0.3.0->spacy) (3.0.0)\n",
            "Requirement already satisfied: pygments<3.0.0,>=2.13.0 in /usr/local/lib/python3.10/dist-packages (from rich>=10.11.0->typer<1.0.0,>=0.3.0->spacy) (2.18.0)\n",
            "Requirement already satisfied: wrapt in /usr/local/lib/python3.10/dist-packages (from smart-open<8.0.0,>=5.2.1->weasel<0.5.0,>=0.1.0->spacy) (1.16.0)\n",
            "Requirement already satisfied: mdurl~=0.1 in /usr/local/lib/python3.10/dist-packages (from markdown-it-py>=2.2.0->rich>=10.11.0->typer<1.0.0,>=0.3.0->spacy) (0.1.2)\n"
          ]
        }
      ]
    },
    {
      "cell_type": "code",
      "source": [
        "text=\" Chhatrapati Shivaji Maharaj was born on February 19, 1630, at Shivneri Fort in Maharashtra, to Shahaji Bhonsle, a Maratha general, and Jijabai, who deeply influenced Shivaji with her teachings on dharma, bravery, and justice. From an early age, Shivaji exhibited remarkable leadership qualities, forming a group of loyal followers and honing his military skills in the rugged terrain of the Sahyadri mountains. He grew up during a time when the Mughal Empire under Emperor Aurangzeb and the Deccan Sultanates were vying for control, often oppressing the local population, which deeply disturbed him and fueled his desire to establish Swarajya, or self-rule for the Marathas. By the age of 16, Shivaji had captured his first fort, Torna, using guerrilla warfare tactics that would later become a hallmark of his military strategy. As his conquests grew, he formed alliances with local leaders, securing key forts like Raigad, Kondana, and Purandar, establishing a solid territorial base in western India. In 1659, he faced and defeated Afzal Khan, a prominent general of the Bijapur Sultanate, solidifying his reputation as a brave and tactical leader; this victory was crucial in establishing his control over much of the Deccan. Shivaji’s raids on Mughal territories and his escape from the clutches of Aurangzeb in Agra in 1666 further bolstered his legend. He realized that a powerful navy was crucial to safeguard his territories from foreign invasions, leading him to develop one of the earliest organized naval forces in India, allowing him to secure coastal areas against Portuguese, British, and Siddis forces. In 1674, he formally crowned himself as Chhatrapati at Raigad Fort, declaring his independence and establishing the Maratha Empire, thus becoming the first king to establish Hindavi Swarajya, an autonomous kingdom with a structured administrative framework rooted in Indian ethos. Shivaji’s administrative system was highly efficient, and he emphasized the welfare of his people, setting up systems to reduce corruption and create a fair tax structure; his Ashta Pradhan (Council of Eight Ministers) included departments for finance, internal affairs, foreign policy, and military to ensure smooth governance. Shivaji showed a progressive approach towards governance, promoting religious tolerance and respecting the diversity within his empire, even appointing Muslims to key positions in his administration and banning the harassment of women and looting of religious sites. His respect for women and his advocacy for justice inspired trust and loyalty among his people, making him an ideal ruler for his time. Shivaji Maharaj’s guerrilla tactics, known as “Ganimi Kava,” became legendary and enabled him to outmaneuver much larger and better-equipped armies repeatedly, allowing him to expand his empire while minimizing losses. As his fame grew, the Maratha Empire began to influence regions far beyond Maharashtra, with Maratha forces eventually becoming a significant power across India. Shivaji passed away on April 3, 1680, at Raigad Fort, leaving behind a powerful legacy and a well-organized state that continued to expand after his death. His life and ideals—valor, respect for all faiths, and self-rule—continue to inspire millions, and his legacy endures in the form of the Maratha Empire’s contributions to India’s history and culture.\""
      ],
      "metadata": {
        "id": "ofISTvruP0GL"
      },
      "id": "ofISTvruP0GL",
      "execution_count": 90,
      "outputs": []
    },
    {
      "cell_type": "code",
      "execution_count": 91,
      "id": "47ca679b-f585-4ea2-b7cc-290230842551",
      "metadata": {
        "colab": {
          "base_uri": "https://localhost:8080/"
        },
        "id": "47ca679b-f585-4ea2-b7cc-290230842551",
        "outputId": "1ff56a30-7aa2-4871-d6e5-683f807d4772"
      },
      "outputs": [
        {
          "output_type": "execute_result",
          "data": {
            "text/plain": [
              "['Chhatrapati',\n",
              " 'Shivaji',\n",
              " 'Maharaj',\n",
              " 'was',\n",
              " 'born',\n",
              " 'on',\n",
              " 'February',\n",
              " '19',\n",
              " ',',\n",
              " '1630',\n",
              " ',',\n",
              " 'at',\n",
              " 'Shivneri',\n",
              " 'Fort',\n",
              " 'in',\n",
              " 'Maharashtra',\n",
              " ',',\n",
              " 'to',\n",
              " 'Shahaji',\n",
              " 'Bhonsle']"
            ]
          },
          "metadata": {},
          "execution_count": 91
        }
      ],
      "source": [
        "#Use NLTK to tokenize the text into words.\n",
        "from nltk.tokenize import word_tokenize\n",
        "tokens = word_tokenize(text)\n",
        "tokens[:20]  # Display the first 20 tokens for brevity\n"
      ]
    },
    {
      "cell_type": "code",
      "source": [
        "#Tokenize the text into sentences using spaCy.\n",
        "import spacy\n",
        "nlp = spacy.load(\"en_core_web_sm\")\n",
        "doc = nlp(text)\n",
        "sentences = [sent.text for sent in doc.sents]\n",
        "sentences[:2]  # Display the first 2 sentences"
      ],
      "metadata": {
        "colab": {
          "base_uri": "https://localhost:8080/"
        },
        "id": "jAnlQq7jPlTQ",
        "outputId": "85c59128-297f-41ff-eaef-91a649d2b509"
      },
      "id": "jAnlQq7jPlTQ",
      "execution_count": 92,
      "outputs": [
        {
          "output_type": "execute_result",
          "data": {
            "text/plain": [
              "[' Chhatrapati Shivaji Maharaj was born on February 19, 1630, at Shivneri Fort in Maharashtra, to Shahaji Bhonsle, a Maratha general, and Jijabai, who deeply influenced Shivaji with her teachings on dharma, bravery, and justice.',\n",
              " 'From an early age, Shivaji exhibited remarkable leadership qualities, forming a group of loyal followers and honing his military skills in the rugged terrain of the Sahyadri mountains.']"
            ]
          },
          "metadata": {},
          "execution_count": 92
        }
      ]
    },
    {
      "cell_type": "markdown",
      "source": [
        "#2- Named Entity Recognition (NER)"
      ],
      "metadata": {
        "id": "nY2rfPdcT70o"
      },
      "id": "nY2rfPdcT70o"
    },
    {
      "cell_type": "code",
      "source": [
        "#Use spaCy to extract all named entities in the text.\n",
        "\n",
        "# Extract and print named entities\n",
        "entities = [(ent.text, ent.label_) for ent in doc.ents]\n",
        "entities"
      ],
      "metadata": {
        "colab": {
          "base_uri": "https://localhost:8080/"
        },
        "id": "UUn1r59vP5bD",
        "outputId": "6cb68e21-9359-486a-8e1a-fab4d7eec57e"
      },
      "id": "UUn1r59vP5bD",
      "execution_count": 93,
      "outputs": [
        {
          "output_type": "execute_result",
          "data": {
            "text/plain": [
              "[('Chhatrapati Shivaji Maharaj', 'PERSON'),\n",
              " ('February 19, 1630', 'DATE'),\n",
              " ('Shivneri Fort', 'FAC'),\n",
              " ('Maharashtra', 'GPE'),\n",
              " ('Shahaji Bhonsle', 'ORG'),\n",
              " ('Maratha', 'GPE'),\n",
              " ('Jijabai', 'GPE'),\n",
              " ('Shivaji', 'PERSON'),\n",
              " ('Shivaji', 'PERSON'),\n",
              " ('Sahyadri', 'LOC'),\n",
              " ('Swarajya', 'ORG'),\n",
              " ('Marathas', 'PERSON'),\n",
              " ('the age of 16', 'DATE'),\n",
              " ('Shivaji', 'PERSON'),\n",
              " ('first', 'ORDINAL'),\n",
              " ('Torna', 'GPE'),\n",
              " ('Raigad', 'GPE'),\n",
              " ('Kondana', 'PERSON'),\n",
              " ('Purandar', 'ORG'),\n",
              " ('India', 'GPE'),\n",
              " ('1659', 'DATE'),\n",
              " ('Afzal Khan', 'PERSON'),\n",
              " ('the Bijapur Sultanate', 'GPE'),\n",
              " ('Deccan', 'PRODUCT'),\n",
              " ('Shivaji', 'PERSON'),\n",
              " ('Agra', 'ORG'),\n",
              " ('1666', 'DATE'),\n",
              " ('India', 'GPE'),\n",
              " ('Portuguese', 'NORP'),\n",
              " ('British', 'NORP'),\n",
              " ('Siddis', 'NORP'),\n",
              " ('1674', 'DATE'),\n",
              " ('Raigad Fort', 'FAC'),\n",
              " ('the Maratha Empire', 'LOC'),\n",
              " ('first', 'ORDINAL'),\n",
              " ('Hindavi Swarajya', 'PERSON'),\n",
              " ('Indian', 'NORP'),\n",
              " ('Shivaji', 'PERSON'),\n",
              " ('Ashta Pradhan (Council of Eight Ministers', 'ORG'),\n",
              " ('Shivaji', 'PERSON'),\n",
              " ('Muslims', 'NORP'),\n",
              " ('Shivaji Maharaj', 'PERSON'),\n",
              " ('Ganimi Kava', 'PERSON'),\n",
              " ('the Maratha Empire', 'ORG'),\n",
              " ('Maharashtra', 'ORG'),\n",
              " ('Maratha', 'PERSON'),\n",
              " ('India', 'GPE'),\n",
              " ('April 3, 1680', 'DATE'),\n",
              " ('Raigad Fort', 'FAC'),\n",
              " ('millions', 'CARDINAL'),\n",
              " ('the Maratha Empire’s', 'LOC'),\n",
              " ('India', 'GPE')]"
            ]
          },
          "metadata": {},
          "execution_count": 93
        }
      ]
    },
    {
      "cell_type": "code",
      "source": [
        "#Identify and count all locations mentioned in the text using spaCy's NER.\n",
        "\n",
        "from collections import Counter\n",
        "## Extract location entities (LOC) and count them\n",
        "locations_loc = [ent.text for ent in doc.ents if ent.label_ == \"LOC\"]\n",
        "location_loc_counts = Counter(locations_loc)\n",
        "# Display the counts for each location\n",
        "location_loc_counts\n",
        "#ent.label_ == \"LOC\" filters out entities to include only those tagged as \"LOC\", which represents general locations such\n",
        "#as mountains, regions, or natural landmarks,\n",
        "# different from \"GPE\" (Geo-Political Entity), which includes cities, countries, and states.\n"
      ],
      "metadata": {
        "colab": {
          "base_uri": "https://localhost:8080/"
        },
        "id": "36tO_E-1QTOw",
        "outputId": "29869a6d-e244-46ea-f576-8e0c4d219163"
      },
      "id": "36tO_E-1QTOw",
      "execution_count": 94,
      "outputs": [
        {
          "output_type": "execute_result",
          "data": {
            "text/plain": [
              "Counter({'Sahyadri': 1, 'the Maratha Empire': 1, 'the Maratha Empire’s': 1})"
            ]
          },
          "metadata": {},
          "execution_count": 94
        }
      ]
    },
    {
      "cell_type": "code",
      "source": [
        "# Extract location entities (GPE) and count them\n",
        "locations_gpe = [ent.text for ent in doc.ents if ent.label_ == \"GPE\"]#ent.label_ == \"GPE\": Filters the named entities\n",
        "                                                                       # to include only those recognized as locations.\n",
        "location_gpe_counts = Counter(locations_gpe)\n",
        "# Display the counts for each location\n",
        "location_gpe_counts"
      ],
      "metadata": {
        "colab": {
          "base_uri": "https://localhost:8080/"
        },
        "id": "XD6sucbvSGi5",
        "outputId": "19e55f49-0f7d-469f-cc69-4c3a5e4c3b95"
      },
      "id": "XD6sucbvSGi5",
      "execution_count": 95,
      "outputs": [
        {
          "output_type": "execute_result",
          "data": {
            "text/plain": [
              "Counter({'Maharashtra': 1,\n",
              "         'Maratha': 1,\n",
              "         'Jijabai': 1,\n",
              "         'Torna': 1,\n",
              "         'Raigad': 1,\n",
              "         'India': 4,\n",
              "         'the Bijapur Sultanate': 1})"
            ]
          },
          "metadata": {},
          "execution_count": 95
        }
      ]
    },
    {
      "cell_type": "markdown",
      "source": [
        "#3- Part of Speech (POS) Tagging"
      ],
      "metadata": {
        "id": "Zbxt5ExSUEdI"
      },
      "id": "Zbxt5ExSUEdI"
    },
    {
      "cell_type": "code",
      "source": [
        "!pip install textblob\n",
        "!python -m textblob.download_corpora"
      ],
      "metadata": {
        "colab": {
          "base_uri": "https://localhost:8080/"
        },
        "id": "Zr7pSwfwUnLv",
        "outputId": "dce5de9e-192d-45d5-b55f-24f6801e91ca"
      },
      "id": "Zr7pSwfwUnLv",
      "execution_count": 96,
      "outputs": [
        {
          "output_type": "stream",
          "name": "stdout",
          "text": [
            "Requirement already satisfied: textblob in /usr/local/lib/python3.10/dist-packages (0.17.1)\n",
            "Requirement already satisfied: nltk>=3.1 in /usr/local/lib/python3.10/dist-packages (from textblob) (3.8.1)\n",
            "Requirement already satisfied: click in /usr/local/lib/python3.10/dist-packages (from nltk>=3.1->textblob) (8.1.7)\n",
            "Requirement already satisfied: joblib in /usr/local/lib/python3.10/dist-packages (from nltk>=3.1->textblob) (1.4.2)\n",
            "Requirement already satisfied: regex>=2021.8.3 in /usr/local/lib/python3.10/dist-packages (from nltk>=3.1->textblob) (2024.9.11)\n",
            "Requirement already satisfied: tqdm in /usr/local/lib/python3.10/dist-packages (from nltk>=3.1->textblob) (4.66.5)\n",
            "[nltk_data] Downloading package brown to /root/nltk_data...\n",
            "[nltk_data]   Package brown is already up-to-date!\n",
            "[nltk_data] Downloading package punkt to /root/nltk_data...\n",
            "[nltk_data]   Package punkt is already up-to-date!\n",
            "[nltk_data] Downloading package wordnet to /root/nltk_data...\n",
            "[nltk_data]   Package wordnet is already up-to-date!\n",
            "[nltk_data] Downloading package averaged_perceptron_tagger to\n",
            "[nltk_data]     /root/nltk_data...\n",
            "[nltk_data]   Package averaged_perceptron_tagger is already up-to-\n",
            "[nltk_data]       date!\n",
            "[nltk_data] Downloading package conll2000 to /root/nltk_data...\n",
            "[nltk_data]   Package conll2000 is already up-to-date!\n",
            "[nltk_data] Downloading package movie_reviews to /root/nltk_data...\n",
            "[nltk_data]   Package movie_reviews is already up-to-date!\n",
            "Finished.\n"
          ]
        }
      ]
    },
    {
      "cell_type": "code",
      "source": [
        "#Use TextBlob to tag the parts of speech for each word.\n",
        "from textblob import TextBlob\n",
        "\n",
        "# Create a TextBlob object\n",
        "blob = TextBlob(text)\n",
        "\n",
        "# Perform POS tagging\n",
        "pos_tags = blob.tags\n",
        "pos_tags[:10]  # Display the first 10 tags"
      ],
      "metadata": {
        "colab": {
          "base_uri": "https://localhost:8080/"
        },
        "id": "lzxDxA3TTjTR",
        "outputId": "46d0b2be-a259-4611-8929-a7e22e86632f"
      },
      "id": "lzxDxA3TTjTR",
      "execution_count": 97,
      "outputs": [
        {
          "output_type": "execute_result",
          "data": {
            "text/plain": [
              "[('Chhatrapati', 'NNP'),\n",
              " ('Shivaji', 'NNP'),\n",
              " ('Maharaj', 'NNP'),\n",
              " ('was', 'VBD'),\n",
              " ('born', 'VBN'),\n",
              " ('on', 'IN'),\n",
              " ('February', 'NNP'),\n",
              " ('19', 'CD'),\n",
              " ('1630', 'CD'),\n",
              " ('at', 'IN')]"
            ]
          },
          "metadata": {},
          "execution_count": 97
        }
      ]
    },
    {
      "cell_type": "code",
      "source": [
        "#Extract and list all nouns in the text using spaCy.\n",
        "\n",
        "# Extract all nouns\n",
        "nouns = [token.text for token in doc if token.pos_ in (\"NOUN\", \"PROPN\")]\n",
        "\n",
        "# Display the nouns\n",
        "nouns[:20] # Display the first 20 nouns"
      ],
      "metadata": {
        "colab": {
          "base_uri": "https://localhost:8080/"
        },
        "id": "xh8RNI3WUQOR",
        "outputId": "230babc1-d878-4826-c9a0-4c9f1aaa202b"
      },
      "id": "xh8RNI3WUQOR",
      "execution_count": 98,
      "outputs": [
        {
          "output_type": "execute_result",
          "data": {
            "text/plain": [
              "['Chhatrapati',\n",
              " 'Shivaji',\n",
              " 'Maharaj',\n",
              " 'February',\n",
              " 'Shivneri',\n",
              " 'Fort',\n",
              " 'Maharashtra',\n",
              " 'Shahaji',\n",
              " 'Bhonsle',\n",
              " 'Maratha',\n",
              " 'general',\n",
              " 'Jijabai',\n",
              " 'Shivaji',\n",
              " 'teachings',\n",
              " 'dharma',\n",
              " 'bravery',\n",
              " 'justice',\n",
              " 'age',\n",
              " 'Shivaji',\n",
              " 'leadership']"
            ]
          },
          "metadata": {},
          "execution_count": 98
        }
      ]
    },
    {
      "cell_type": "markdown",
      "source": [
        "#4- Stop Words Removal"
      ],
      "metadata": {
        "id": "AXzQ9Y0oVtpV"
      },
      "id": "AXzQ9Y0oVtpV"
    },
    {
      "cell_type": "code",
      "source": [
        "#Use NLTK to remove stop words from the text and display the cleaned text.\n",
        "from nltk.corpus import stopwords\n",
        "nltk.download('stopwords')\n",
        "from nltk.corpus import stopwords\n",
        "from nltk.tokenize import word_tokenize\n",
        "\n",
        "# Define the stop words\n",
        "stop_words = set(stopwords.words('english'))\n",
        "\n",
        "# Tokenize the text\n",
        "tokens = word_tokenize(text)\n",
        "\n",
        "# Remove stop words\n",
        "cleaned_text = [word for word in tokens if word.lower() not in stop_words]\n",
        "\n",
        "# Join cleaned words back into a single string\n",
        "cleaned_text = \" \".join(cleaned_text)\n",
        "\n",
        "# Display the cleaned text\n",
        "cleaned_text"
      ],
      "metadata": {
        "colab": {
          "base_uri": "https://localhost:8080/",
          "height": 200
        },
        "id": "JTTDWOVqVOzZ",
        "outputId": "174bbae8-0ac8-4bc8-a807-20a85e5ea761"
      },
      "id": "JTTDWOVqVOzZ",
      "execution_count": 99,
      "outputs": [
        {
          "output_type": "stream",
          "name": "stderr",
          "text": [
            "[nltk_data] Downloading package stopwords to /root/nltk_data...\n",
            "[nltk_data]   Package stopwords is already up-to-date!\n"
          ]
        },
        {
          "output_type": "execute_result",
          "data": {
            "text/plain": [
              "'Chhatrapati Shivaji Maharaj born February 19 , 1630 , Shivneri Fort Maharashtra , Shahaji Bhonsle , Maratha general , Jijabai , deeply influenced Shivaji teachings dharma , bravery , justice . early age , Shivaji exhibited remarkable leadership qualities , forming group loyal followers honing military skills rugged terrain Sahyadri mountains . grew time Mughal Empire Emperor Aurangzeb Deccan Sultanates vying control , often oppressing local population , deeply disturbed fueled desire establish Swarajya , self-rule Marathas . age 16 , Shivaji captured first fort , Torna , using guerrilla warfare tactics would later become hallmark military strategy . conquests grew , formed alliances local leaders , securing key forts like Raigad , Kondana , Purandar , establishing solid territorial base western India . 1659 , faced defeated Afzal Khan , prominent general Bijapur Sultanate , solidifying reputation brave tactical leader ; victory crucial establishing control much Deccan . Shivaji ’ raids Mughal territories escape clutches Aurangzeb Agra 1666 bolstered legend . realized powerful navy crucial safeguard territories foreign invasions , leading develop one earliest organized naval forces India , allowing secure coastal areas Portuguese , British , Siddis forces . 1674 , formally crowned Chhatrapati Raigad Fort , declaring independence establishing Maratha Empire , thus becoming first king establish Hindavi Swarajya , autonomous kingdom structured administrative framework rooted Indian ethos . Shivaji ’ administrative system highly efficient , emphasized welfare people , setting systems reduce corruption create fair tax structure ; Ashta Pradhan ( Council Eight Ministers ) included departments finance , internal affairs , foreign policy , military ensure smooth governance . Shivaji showed progressive approach towards governance , promoting religious tolerance respecting diversity within empire , even appointing Muslims key positions administration banning harassment women looting religious sites . respect women advocacy justice inspired trust loyalty among people , making ideal ruler time . Shivaji Maharaj ’ guerrilla tactics , known “ Ganimi Kava , ” became legendary enabled outmaneuver much larger better-equipped armies repeatedly , allowing expand empire minimizing losses . fame grew , Maratha Empire began influence regions far beyond Maharashtra , Maratha forces eventually becoming significant power across India . Shivaji passed away April 3 , 1680 , Raigad Fort , leaving behind powerful legacy well-organized state continued expand death . life ideals—valor , respect faiths , self-rule—continue inspire millions , legacy endures form Maratha Empire ’ contributions India ’ history culture .'"
            ],
            "application/vnd.google.colaboratory.intrinsic+json": {
              "type": "string"
            }
          },
          "metadata": {},
          "execution_count": 99
        }
      ]
    },
    {
      "cell_type": "code",
      "source": [
        "#Use spaCy to remove stop words, then join and display the text without stop words.\n",
        "# Load the spaCy model\n",
        "nlp = spacy.load(\"en_core_web_sm\")\n",
        "# Remove stop words and join the remaining words\n",
        "cleaned_text = \" \".join([token.text for token in doc if not token.is_stop])\n",
        "\n",
        "# Display the cleaned text\n",
        "cleaned_text"
      ],
      "metadata": {
        "colab": {
          "base_uri": "https://localhost:8080/",
          "height": 163
        },
        "id": "p0g9mimiV5SF",
        "outputId": "3e047b49-0834-4ad7-f29c-2e9b6275806f"
      },
      "id": "p0g9mimiV5SF",
      "execution_count": 100,
      "outputs": [
        {
          "output_type": "execute_result",
          "data": {
            "text/plain": [
              "'  Chhatrapati Shivaji Maharaj born February 19 , 1630 , Shivneri Fort Maharashtra , Shahaji Bhonsle , Maratha general , Jijabai , deeply influenced Shivaji teachings dharma , bravery , justice . early age , Shivaji exhibited remarkable leadership qualities , forming group loyal followers honing military skills rugged terrain Sahyadri mountains . grew time Mughal Empire Emperor Aurangzeb Deccan Sultanates vying control , oppressing local population , deeply disturbed fueled desire establish Swarajya , self - rule Marathas . age 16 , Shivaji captured fort , Torna , guerrilla warfare tactics later hallmark military strategy . conquests grew , formed alliances local leaders , securing key forts like Raigad , Kondana , Purandar , establishing solid territorial base western India . 1659 , faced defeated Afzal Khan , prominent general Bijapur Sultanate , solidifying reputation brave tactical leader ; victory crucial establishing control Deccan . Shivaji raids Mughal territories escape clutches Aurangzeb Agra 1666 bolstered legend . realized powerful navy crucial safeguard territories foreign invasions , leading develop earliest organized naval forces India , allowing secure coastal areas Portuguese , British , Siddis forces . 1674 , formally crowned Chhatrapati Raigad Fort , declaring independence establishing Maratha Empire , king establish Hindavi Swarajya , autonomous kingdom structured administrative framework rooted Indian ethos . Shivaji administrative system highly efficient , emphasized welfare people , setting systems reduce corruption create fair tax structure ; Ashta Pradhan ( Council Ministers ) included departments finance , internal affairs , foreign policy , military ensure smooth governance . Shivaji showed progressive approach governance , promoting religious tolerance respecting diversity empire , appointing Muslims key positions administration banning harassment women looting religious sites . respect women advocacy justice inspired trust loyalty people , making ideal ruler time . Shivaji Maharaj guerrilla tactics , known “ Ganimi Kava , ” legendary enabled outmaneuver larger better - equipped armies repeatedly , allowing expand empire minimizing losses . fame grew , Maratha Empire began influence regions far Maharashtra , Maratha forces eventually significant power India . Shivaji passed away April 3 , 1680 , Raigad Fort , leaving powerful legacy - organized state continued expand death . life ideals — valor , respect faiths , self - rule — continue inspire millions , legacy endures form Maratha Empire contributions India history culture .'"
            ],
            "application/vnd.google.colaboratory.intrinsic+json": {
              "type": "string"
            }
          },
          "metadata": {},
          "execution_count": 100
        }
      ]
    },
    {
      "cell_type": "markdown",
      "source": [
        "#5- Lemmatization\n",
        "\n"
      ],
      "metadata": {
        "id": "FsMya4GeXiC2"
      },
      "id": "FsMya4GeXiC2"
    },
    {
      "cell_type": "code",
      "source": [
        "#Use spaCy to lemmatize each word in the text.\n",
        "# Extract lemmatized words\n",
        "lemmatized_words = [token.lemma_ for token in doc]\n",
        "\n",
        "# Display the lemmatized words\n",
        "lemmatized_words[:30] # Display the first 30"
      ],
      "metadata": {
        "colab": {
          "base_uri": "https://localhost:8080/"
        },
        "id": "f_21yJehXdr0",
        "outputId": "bf27802e-36db-400a-dd16-1d8363b53bf8"
      },
      "id": "f_21yJehXdr0",
      "execution_count": 101,
      "outputs": [
        {
          "output_type": "execute_result",
          "data": {
            "text/plain": [
              "[' ',\n",
              " 'Chhatrapati',\n",
              " 'Shivaji',\n",
              " 'Maharaj',\n",
              " 'be',\n",
              " 'bear',\n",
              " 'on',\n",
              " 'February',\n",
              " '19',\n",
              " ',',\n",
              " '1630',\n",
              " ',',\n",
              " 'at',\n",
              " 'Shivneri',\n",
              " 'Fort',\n",
              " 'in',\n",
              " 'Maharashtra',\n",
              " ',',\n",
              " 'to',\n",
              " 'Shahaji',\n",
              " 'Bhonsle',\n",
              " ',',\n",
              " 'a',\n",
              " 'Maratha',\n",
              " 'general',\n",
              " ',',\n",
              " 'and',\n",
              " 'Jijabai',\n",
              " ',',\n",
              " 'who']"
            ]
          },
          "metadata": {},
          "execution_count": 101
        }
      ]
    },
    {
      "cell_type": "code",
      "source": [
        "#Use NLTK to lemmatize only the verbs in the text\n",
        "nltk.download('wordnet')\n",
        "nltk.download('averaged_perceptron_tagger')\n",
        "from nltk.tokenize import word_tokenize\n",
        "from nltk.stem import WordNetLemmatizer\n",
        "from nltk import pos_tag\n",
        "\n",
        "# Tokenize the text\n",
        "words = word_tokenize(text)\n",
        "\n",
        "# Initialize the lemmatizer\n",
        "lemmatizer = WordNetLemmatizer()\n",
        "\n",
        "# Lemmatize only verbs\n",
        "lemmatized_verbs = [\n",
        "    lemmatizer.lemmatize(word, pos='v') if pos.startswith('V') else word\n",
        "    for word, pos in pos_tag(words)\n",
        "]\n",
        "# Join the lemmatized verbs into a single string\n",
        "lemmatized_text = \" \".join(lemmatized_verbs)\n",
        "\n",
        "# Display the lemmatized text\n",
        "lemmatized_text"
      ],
      "metadata": {
        "colab": {
          "base_uri": "https://localhost:8080/",
          "height": 273
        },
        "id": "K-VNlKuMXrl9",
        "outputId": "a96a5b10-bf34-4a34-8685-46f456ea60db"
      },
      "id": "K-VNlKuMXrl9",
      "execution_count": 102,
      "outputs": [
        {
          "output_type": "stream",
          "name": "stderr",
          "text": [
            "[nltk_data] Downloading package wordnet to /root/nltk_data...\n",
            "[nltk_data]   Package wordnet is already up-to-date!\n",
            "[nltk_data] Downloading package averaged_perceptron_tagger to\n",
            "[nltk_data]     /root/nltk_data...\n",
            "[nltk_data]   Package averaged_perceptron_tagger is already up-to-\n",
            "[nltk_data]       date!\n"
          ]
        },
        {
          "output_type": "execute_result",
          "data": {
            "text/plain": [
              "'Chhatrapati Shivaji Maharaj be bear on February 19 , 1630 , at Shivneri Fort in Maharashtra , to Shahaji Bhonsle , a Maratha general , and Jijabai , who deeply influence Shivaji with her teachings on dharma , bravery , and justice . From an early age , Shivaji exhibit remarkable leadership qualities , form a group of loyal followers and hone his military skills in the rugged terrain of the Sahyadri mountains . He grow up during a time when the Mughal Empire under Emperor Aurangzeb and the Deccan Sultanates be vie for control , often oppress the local population , which deeply disturb him and fuel his desire to establish Swarajya , or self-rule for the Marathas . By the age of 16 , Shivaji have capture his first fort , Torna , use guerrilla warfare tactics that would later become a hallmark of his military strategy . As his conquests grow , he form alliances with local leaders , secure key forts like Raigad , Kondana , and Purandar , establish a solid territorial base in western India . In 1659 , he face and defeat Afzal Khan , a prominent general of the Bijapur Sultanate , solidify his reputation as a brave and tactical leader ; this victory be crucial in establish his control over much of the Deccan . Shivaji ’ s raids on Mughal territories and his escape from the clutches of Aurangzeb in Agra in 1666 further bolster his legend . He realize that a powerful navy be crucial to safeguard his territories from foreign invasions , lead him to develop one of the earliest organize naval forces in India , allow him to secure coastal areas against Portuguese , British , and Siddis forces . In 1674 , he formally crown himself as Chhatrapati at Raigad Fort , declare his independence and establish the Maratha Empire , thus become the first king to establish Hindavi Swarajya , an autonomous kingdom with a structured administrative framework root in Indian ethos . Shivaji ’ s administrative system be highly efficient , and he emphasize the welfare of his people , set up systems to reduce corruption and create a fair tax structure ; his Ashta Pradhan ( Council of Eight Ministers ) include departments for finance , internal affairs , foreign policy , and military to ensure smooth governance . Shivaji show a progressive approach towards governance , promote religious tolerance and respect the diversity within his empire , even appoint Muslims to key positions in his administration and ban the harassment of women and looting of religious sites . His respect for women and his advocacy for justice inspire trust and loyalty among his people , make him an ideal ruler for his time . Shivaji Maharaj ’ s guerrilla tactics , know as “ Ganimi Kava , ” become legendary and enable him to outmaneuver much larger and better-equipped armies repeatedly , allow him to expand his empire while minimize losses . As his fame grow , the Maratha Empire begin to influence regions far beyond Maharashtra , with Maratha forces eventually become a significant power across India . Shivaji pass away on April 3 , 1680 , at Raigad Fort , leave behind a powerful legacy and a well-organized state that continue to expand after his death . His life and ideals—valor , respect for all faiths , and self-rule—continue to inspire millions , and his legacy endure in the form of the Maratha Empire ’ s contributions to India ’ s history and culture .'"
            ],
            "application/vnd.google.colaboratory.intrinsic+json": {
              "type": "string"
            }
          },
          "metadata": {},
          "execution_count": 102
        }
      ]
    },
    {
      "cell_type": "code",
      "source": [
        "print(lemmatized_verbs)"
      ],
      "metadata": {
        "colab": {
          "base_uri": "https://localhost:8080/"
        },
        "id": "5dVOtOMaY0fy",
        "outputId": "f4a41957-23a0-4859-ade3-de8dd1882094"
      },
      "id": "5dVOtOMaY0fy",
      "execution_count": 103,
      "outputs": [
        {
          "output_type": "stream",
          "name": "stdout",
          "text": [
            "['Chhatrapati', 'Shivaji', 'Maharaj', 'be', 'bear', 'on', 'February', '19', ',', '1630', ',', 'at', 'Shivneri', 'Fort', 'in', 'Maharashtra', ',', 'to', 'Shahaji', 'Bhonsle', ',', 'a', 'Maratha', 'general', ',', 'and', 'Jijabai', ',', 'who', 'deeply', 'influence', 'Shivaji', 'with', 'her', 'teachings', 'on', 'dharma', ',', 'bravery', ',', 'and', 'justice', '.', 'From', 'an', 'early', 'age', ',', 'Shivaji', 'exhibit', 'remarkable', 'leadership', 'qualities', ',', 'form', 'a', 'group', 'of', 'loyal', 'followers', 'and', 'hone', 'his', 'military', 'skills', 'in', 'the', 'rugged', 'terrain', 'of', 'the', 'Sahyadri', 'mountains', '.', 'He', 'grow', 'up', 'during', 'a', 'time', 'when', 'the', 'Mughal', 'Empire', 'under', 'Emperor', 'Aurangzeb', 'and', 'the', 'Deccan', 'Sultanates', 'be', 'vie', 'for', 'control', ',', 'often', 'oppress', 'the', 'local', 'population', ',', 'which', 'deeply', 'disturb', 'him', 'and', 'fuel', 'his', 'desire', 'to', 'establish', 'Swarajya', ',', 'or', 'self-rule', 'for', 'the', 'Marathas', '.', 'By', 'the', 'age', 'of', '16', ',', 'Shivaji', 'have', 'capture', 'his', 'first', 'fort', ',', 'Torna', ',', 'use', 'guerrilla', 'warfare', 'tactics', 'that', 'would', 'later', 'become', 'a', 'hallmark', 'of', 'his', 'military', 'strategy', '.', 'As', 'his', 'conquests', 'grow', ',', 'he', 'form', 'alliances', 'with', 'local', 'leaders', ',', 'secure', 'key', 'forts', 'like', 'Raigad', ',', 'Kondana', ',', 'and', 'Purandar', ',', 'establish', 'a', 'solid', 'territorial', 'base', 'in', 'western', 'India', '.', 'In', '1659', ',', 'he', 'face', 'and', 'defeat', 'Afzal', 'Khan', ',', 'a', 'prominent', 'general', 'of', 'the', 'Bijapur', 'Sultanate', ',', 'solidify', 'his', 'reputation', 'as', 'a', 'brave', 'and', 'tactical', 'leader', ';', 'this', 'victory', 'be', 'crucial', 'in', 'establish', 'his', 'control', 'over', 'much', 'of', 'the', 'Deccan', '.', 'Shivaji', '’', 's', 'raids', 'on', 'Mughal', 'territories', 'and', 'his', 'escape', 'from', 'the', 'clutches', 'of', 'Aurangzeb', 'in', 'Agra', 'in', '1666', 'further', 'bolster', 'his', 'legend', '.', 'He', 'realize', 'that', 'a', 'powerful', 'navy', 'be', 'crucial', 'to', 'safeguard', 'his', 'territories', 'from', 'foreign', 'invasions', ',', 'lead', 'him', 'to', 'develop', 'one', 'of', 'the', 'earliest', 'organize', 'naval', 'forces', 'in', 'India', ',', 'allow', 'him', 'to', 'secure', 'coastal', 'areas', 'against', 'Portuguese', ',', 'British', ',', 'and', 'Siddis', 'forces', '.', 'In', '1674', ',', 'he', 'formally', 'crown', 'himself', 'as', 'Chhatrapati', 'at', 'Raigad', 'Fort', ',', 'declare', 'his', 'independence', 'and', 'establish', 'the', 'Maratha', 'Empire', ',', 'thus', 'become', 'the', 'first', 'king', 'to', 'establish', 'Hindavi', 'Swarajya', ',', 'an', 'autonomous', 'kingdom', 'with', 'a', 'structured', 'administrative', 'framework', 'root', 'in', 'Indian', 'ethos', '.', 'Shivaji', '’', 's', 'administrative', 'system', 'be', 'highly', 'efficient', ',', 'and', 'he', 'emphasize', 'the', 'welfare', 'of', 'his', 'people', ',', 'set', 'up', 'systems', 'to', 'reduce', 'corruption', 'and', 'create', 'a', 'fair', 'tax', 'structure', ';', 'his', 'Ashta', 'Pradhan', '(', 'Council', 'of', 'Eight', 'Ministers', ')', 'include', 'departments', 'for', 'finance', ',', 'internal', 'affairs', ',', 'foreign', 'policy', ',', 'and', 'military', 'to', 'ensure', 'smooth', 'governance', '.', 'Shivaji', 'show', 'a', 'progressive', 'approach', 'towards', 'governance', ',', 'promote', 'religious', 'tolerance', 'and', 'respect', 'the', 'diversity', 'within', 'his', 'empire', ',', 'even', 'appoint', 'Muslims', 'to', 'key', 'positions', 'in', 'his', 'administration', 'and', 'ban', 'the', 'harassment', 'of', 'women', 'and', 'looting', 'of', 'religious', 'sites', '.', 'His', 'respect', 'for', 'women', 'and', 'his', 'advocacy', 'for', 'justice', 'inspire', 'trust', 'and', 'loyalty', 'among', 'his', 'people', ',', 'make', 'him', 'an', 'ideal', 'ruler', 'for', 'his', 'time', '.', 'Shivaji', 'Maharaj', '’', 's', 'guerrilla', 'tactics', ',', 'know', 'as', '“', 'Ganimi', 'Kava', ',', '”', 'become', 'legendary', 'and', 'enable', 'him', 'to', 'outmaneuver', 'much', 'larger', 'and', 'better-equipped', 'armies', 'repeatedly', ',', 'allow', 'him', 'to', 'expand', 'his', 'empire', 'while', 'minimize', 'losses', '.', 'As', 'his', 'fame', 'grow', ',', 'the', 'Maratha', 'Empire', 'begin', 'to', 'influence', 'regions', 'far', 'beyond', 'Maharashtra', ',', 'with', 'Maratha', 'forces', 'eventually', 'become', 'a', 'significant', 'power', 'across', 'India', '.', 'Shivaji', 'pass', 'away', 'on', 'April', '3', ',', '1680', ',', 'at', 'Raigad', 'Fort', ',', 'leave', 'behind', 'a', 'powerful', 'legacy', 'and', 'a', 'well-organized', 'state', 'that', 'continue', 'to', 'expand', 'after', 'his', 'death', '.', 'His', 'life', 'and', 'ideals—valor', ',', 'respect', 'for', 'all', 'faiths', ',', 'and', 'self-rule—continue', 'to', 'inspire', 'millions', ',', 'and', 'his', 'legacy', 'endure', 'in', 'the', 'form', 'of', 'the', 'Maratha', 'Empire', '’', 's', 'contributions', 'to', 'India', '’', 's', 'history', 'and', 'culture', '.']\n"
          ]
        }
      ]
    },
    {
      "cell_type": "markdown",
      "source": [
        "#6- Sentiment Analysis\n",
        "\n"
      ],
      "metadata": {
        "id": "CRpRKZi0ZFLB"
      },
      "id": "CRpRKZi0ZFLB"
    },
    {
      "cell_type": "code",
      "source": [
        "#Use TextBlob to perform sentiment analysis on the entire text.\n",
        "from textblob import TextBlob\n",
        "# Perform sentiment analysis\n",
        "sentiment = TextBlob(text).sentiment\n",
        "sentiment"
      ],
      "metadata": {
        "colab": {
          "base_uri": "https://localhost:8080/"
        },
        "id": "vioIik1ZZCx1",
        "outputId": "9278d67d-374a-4071-a54f-21985db2fab8"
      },
      "id": "vioIik1ZZCx1",
      "execution_count": 104,
      "outputs": [
        {
          "output_type": "execute_result",
          "data": {
            "text/plain": [
              "Sentiment(polarity=0.15890070921985816, subjectivity=0.5364893617021277)"
            ]
          },
          "metadata": {},
          "execution_count": 104
        }
      ]
    },
    {
      "cell_type": "code",
      "source": [
        "#Divide the text into sentences and analyze the sentiment of each sentence with TextBlob.\n",
        "# Divide the text into sentences\n",
        "sentences = blob.sentences\n",
        "\n",
        "# Analyze the sentiment of each sentence\n",
        "sentiment_analysis = [(str(sentence), sentence.sentiment) for sentence in sentences]\n",
        "\n",
        "# Display the sentiment for each sentence\n",
        "for sentence, sentiment in sentiment_analysis:\n",
        "    print(f\"Sentence: {sentence}\\nPolarity: {sentiment.polarity}, Subjectivity: {sentiment.subjectivity}\\n\")\n"
      ],
      "metadata": {
        "colab": {
          "base_uri": "https://localhost:8080/"
        },
        "id": "H3sRBcXXZN14",
        "outputId": "55453168-a68e-42cc-bbdb-cfd86d777a47"
      },
      "id": "H3sRBcXXZN14",
      "execution_count": 105,
      "outputs": [
        {
          "output_type": "stream",
          "name": "stdout",
          "text": [
            "Sentence:  Chhatrapati Shivaji Maharaj was born on February 19, 1630, at Shivneri Fort in Maharashtra, to Shahaji Bhonsle, a Maratha general, and Jijabai, who deeply influenced Shivaji with her teachings on dharma, bravery, and justice.\n",
            "Polarity: 0.02500000000000001, Subjectivity: 0.45\n",
            "\n",
            "Sentence: From an early age, Shivaji exhibited remarkable leadership qualities, forming a group of loyal followers and honing his military skills in the rugged terrain of the Sahyadri mountains.\n",
            "Polarity: 0.2708333333333333, Subjectivity: 0.49583333333333335\n",
            "\n",
            "Sentence: He grew up during a time when the Mughal Empire under Emperor Aurangzeb and the Deccan Sultanates were vying for control, often oppressing the local population, which deeply disturbed him and fueled his desire to establish Swarajya, or self-rule for the Marathas.\n",
            "Polarity: 0.0, Subjectivity: 0.2\n",
            "\n",
            "Sentence: By the age of 16, Shivaji had captured his first fort, Torna, using guerrilla warfare tactics that would later become a hallmark of his military strategy.\n",
            "Polarity: 0.049999999999999996, Subjectivity: 0.14444444444444446\n",
            "\n",
            "Sentence: As his conquests grew, he formed alliances with local leaders, securing key forts like Raigad, Kondana, and Purandar, establishing a solid territorial base in western India.\n",
            "Polarity: -0.16, Subjectivity: 0.42000000000000004\n",
            "\n",
            "Sentence: In 1659, he faced and defeated Afzal Khan, a prominent general of the Bijapur Sultanate, solidifying his reputation as a brave and tactical leader; this victory was crucial in establishing his control over much of the Deccan.\n",
            "Polarity: 0.31, Subjectivity: 0.74\n",
            "\n",
            "Sentence: Shivaji’s raids on Mughal territories and his escape from the clutches of Aurangzeb in Agra in 1666 further bolstered his legend.\n",
            "Polarity: 0.0, Subjectivity: 0.5\n",
            "\n",
            "Sentence: He realized that a powerful navy was crucial to safeguard his territories from foreign invasions, leading him to develop one of the earliest organized naval forces in India, allowing him to secure coastal areas against Portuguese, British, and Siddis forces.\n",
            "Polarity: 0.11499999999999999, Subjectivity: 0.545\n",
            "\n",
            "Sentence: In 1674, he formally crowned himself as Chhatrapati at Raigad Fort, declaring his independence and establishing the Maratha Empire, thus becoming the first king to establish Hindavi Swarajya, an autonomous kingdom with a structured administrative framework rooted in Indian ethos.\n",
            "Polarity: 0.3666666666666667, Subjectivity: 0.6277777777777778\n",
            "\n",
            "Sentence: Shivaji’s administrative system was highly efficient, and he emphasized the welfare of his people, setting up systems to reduce corruption and create a fair tax structure; his Ashta Pradhan (Council of Eight Ministers) included departments for finance, internal affairs, foreign policy, and military to ensure smooth governance.\n",
            "Polarity: 0.17250000000000001, Subjectivity: 0.36083333333333334\n",
            "\n",
            "Sentence: Shivaji showed a progressive approach towards governance, promoting religious tolerance and respecting the diversity within his empire, even appointing Muslims to key positions in his administration and banning the harassment of women and looting of religious sites.\n",
            "Polarity: 0.0, Subjectivity: 0.5\n",
            "\n",
            "Sentence: His respect for women and his advocacy for justice inspired trust and loyalty among his people, making him an ideal ruler for his time.\n",
            "Polarity: 0.9, Subjectivity: 1.0\n",
            "\n",
            "Sentence: Shivaji Maharaj’s guerrilla tactics, known as “Ganimi Kava,” became legendary and enabled him to outmaneuver much larger and better-equipped armies repeatedly, allowing him to expand his empire while minimizing losses.\n",
            "Polarity: 0.5, Subjectivity: 0.75\n",
            "\n",
            "Sentence: As his fame grew, the Maratha Empire began to influence regions far beyond Maharashtra, with Maratha forces eventually becoming a significant power across India.\n",
            "Polarity: 0.30833333333333335, Subjectivity: 0.9083333333333333\n",
            "\n",
            "Sentence: Shivaji passed away on April 3, 1680, at Raigad Fort, leaving behind a powerful legacy and a well-organized state that continued to expand after his death.\n",
            "Polarity: -0.05000000000000002, Subjectivity: 0.85\n",
            "\n",
            "Sentence: His life and ideals—valor, respect for all faiths, and self-rule—continue to inspire millions, and his legacy endures in the form of the Maratha Empire’s contributions to India’s history and culture.\n",
            "Polarity: 0.0, Subjectivity: 0.0\n",
            "\n"
          ]
        }
      ]
    },
    {
      "cell_type": "markdown",
      "source": [
        "#7- N-Grams\n",
        "\n"
      ],
      "metadata": {
        "id": "wsmV26-laX80"
      },
      "id": "wsmV26-laX80"
    },
    {
      "cell_type": "code",
      "source": [
        "#Generate bigrams (two-word combinations) using NLTK.\n",
        "from nltk import bigrams\n",
        "from nltk.tokenize import word_tokenize\n",
        "# Tokenize the text\n",
        "tokens = word_tokenize(text)\n",
        "\n",
        "# Generate bigrams\n",
        "bigrams_list = list(bigrams(tokens))\n",
        "\n",
        "# Display the bigrams\n",
        "bigrams_list[:30] # Display the first 30 bigrams\n"
      ],
      "metadata": {
        "colab": {
          "base_uri": "https://localhost:8080/"
        },
        "id": "wMsaJw8paI6a",
        "outputId": "4fc4108d-3585-4d80-f4cb-eebf5db01c06"
      },
      "id": "wMsaJw8paI6a",
      "execution_count": 106,
      "outputs": [
        {
          "output_type": "execute_result",
          "data": {
            "text/plain": [
              "[('Chhatrapati', 'Shivaji'),\n",
              " ('Shivaji', 'Maharaj'),\n",
              " ('Maharaj', 'was'),\n",
              " ('was', 'born'),\n",
              " ('born', 'on'),\n",
              " ('on', 'February'),\n",
              " ('February', '19'),\n",
              " ('19', ','),\n",
              " (',', '1630'),\n",
              " ('1630', ','),\n",
              " (',', 'at'),\n",
              " ('at', 'Shivneri'),\n",
              " ('Shivneri', 'Fort'),\n",
              " ('Fort', 'in'),\n",
              " ('in', 'Maharashtra'),\n",
              " ('Maharashtra', ','),\n",
              " (',', 'to'),\n",
              " ('to', 'Shahaji'),\n",
              " ('Shahaji', 'Bhonsle'),\n",
              " ('Bhonsle', ','),\n",
              " (',', 'a'),\n",
              " ('a', 'Maratha'),\n",
              " ('Maratha', 'general'),\n",
              " ('general', ','),\n",
              " (',', 'and'),\n",
              " ('and', 'Jijabai'),\n",
              " ('Jijabai', ','),\n",
              " (',', 'who'),\n",
              " ('who', 'deeply'),\n",
              " ('deeply', 'influenced')]"
            ]
          },
          "metadata": {},
          "execution_count": 106
        }
      ]
    },
    {
      "cell_type": "code",
      "source": [
        "#Generate trigrams (three-word combinations) using TextBlob.\n",
        "from nltk import ngrams\n",
        "# Tokenize the text into words\n",
        "tokens = blob.words\n",
        "\n",
        "# Generate trigrams\n",
        "trigrams_list = list(ngrams(tokens, 3))\n",
        "\n",
        "# Display the trigrams\n",
        "trigrams_list[:30] # Display the first 30 trigrams\n"
      ],
      "metadata": {
        "colab": {
          "base_uri": "https://localhost:8080/"
        },
        "id": "8daRmrxIahj6",
        "outputId": "333c365f-1c33-4f31-e368-37a0e721615c"
      },
      "id": "8daRmrxIahj6",
      "execution_count": 107,
      "outputs": [
        {
          "output_type": "execute_result",
          "data": {
            "text/plain": [
              "[('Chhatrapati', 'Shivaji', 'Maharaj'),\n",
              " ('Shivaji', 'Maharaj', 'was'),\n",
              " ('Maharaj', 'was', 'born'),\n",
              " ('was', 'born', 'on'),\n",
              " ('born', 'on', 'February'),\n",
              " ('on', 'February', '19'),\n",
              " ('February', '19', '1630'),\n",
              " ('19', '1630', 'at'),\n",
              " ('1630', 'at', 'Shivneri'),\n",
              " ('at', 'Shivneri', 'Fort'),\n",
              " ('Shivneri', 'Fort', 'in'),\n",
              " ('Fort', 'in', 'Maharashtra'),\n",
              " ('in', 'Maharashtra', 'to'),\n",
              " ('Maharashtra', 'to', 'Shahaji'),\n",
              " ('to', 'Shahaji', 'Bhonsle'),\n",
              " ('Shahaji', 'Bhonsle', 'a'),\n",
              " ('Bhonsle', 'a', 'Maratha'),\n",
              " ('a', 'Maratha', 'general'),\n",
              " ('Maratha', 'general', 'and'),\n",
              " ('general', 'and', 'Jijabai'),\n",
              " ('and', 'Jijabai', 'who'),\n",
              " ('Jijabai', 'who', 'deeply'),\n",
              " ('who', 'deeply', 'influenced'),\n",
              " ('deeply', 'influenced', 'Shivaji'),\n",
              " ('influenced', 'Shivaji', 'with'),\n",
              " ('Shivaji', 'with', 'her'),\n",
              " ('with', 'her', 'teachings'),\n",
              " ('her', 'teachings', 'on'),\n",
              " ('teachings', 'on', 'dharma'),\n",
              " ('on', 'dharma', 'bravery')]"
            ]
          },
          "metadata": {},
          "execution_count": 107
        }
      ]
    },
    {
      "cell_type": "markdown",
      "source": [
        "#8- Frequency Distribution\n",
        "\n"
      ],
      "metadata": {
        "id": "89Q8ibg6bUKE"
      },
      "id": "89Q8ibg6bUKE"
    },
    {
      "cell_type": "code",
      "source": [
        "#Use NLTK to compute the frequency distribution of words in the text.\n",
        "from nltk.probability import FreqDist\n",
        "from nltk.tokenize import word_tokenize\n",
        "# Tokenize the text\n",
        "tokens = word_tokenize(text)\n",
        "\n",
        "# Compute the frequency distribution\n",
        "freq_dist = FreqDist(tokens)\n",
        "\n",
        "# Display the frequency distribution\n",
        "for word, frequency in freq_dist.items():\n",
        "    print(f\"{word}: {frequency}\")\n"
      ],
      "metadata": {
        "colab": {
          "base_uri": "https://localhost:8080/"
        },
        "id": "3TGYHi-MbNGN",
        "outputId": "f990d3f0-588f-4df7-9af8-9ef71b717b82"
      },
      "id": "3TGYHi-MbNGN",
      "execution_count": 108,
      "outputs": [
        {
          "output_type": "stream",
          "name": "stdout",
          "text": [
            "Chhatrapati: 2\n",
            "Shivaji: 9\n",
            "Maharaj: 2\n",
            "was: 4\n",
            "born: 1\n",
            "on: 4\n",
            "February: 1\n",
            "19: 1\n",
            ",: 51\n",
            "1630: 1\n",
            "at: 3\n",
            "Shivneri: 1\n",
            "Fort: 3\n",
            "in: 10\n",
            "Maharashtra: 2\n",
            "to: 15\n",
            "Shahaji: 1\n",
            "Bhonsle: 1\n",
            "a: 14\n",
            "Maratha: 5\n",
            "general: 2\n",
            "and: 26\n",
            "Jijabai: 1\n",
            "who: 1\n",
            "deeply: 2\n",
            "influenced: 1\n",
            "with: 4\n",
            "her: 1\n",
            "teachings: 1\n",
            "dharma: 1\n",
            "bravery: 1\n",
            "justice: 2\n",
            ".: 16\n",
            "From: 1\n",
            "an: 3\n",
            "early: 1\n",
            "age: 2\n",
            "exhibited: 1\n",
            "remarkable: 1\n",
            "leadership: 1\n",
            "qualities: 1\n",
            "forming: 1\n",
            "group: 1\n",
            "of: 13\n",
            "loyal: 1\n",
            "followers: 1\n",
            "honing: 1\n",
            "his: 22\n",
            "military: 3\n",
            "skills: 1\n",
            "the: 19\n",
            "rugged: 1\n",
            "terrain: 1\n",
            "Sahyadri: 1\n",
            "mountains: 1\n",
            "He: 2\n",
            "grew: 3\n",
            "up: 2\n",
            "during: 1\n",
            "time: 2\n",
            "when: 1\n",
            "Mughal: 2\n",
            "Empire: 4\n",
            "under: 1\n",
            "Emperor: 1\n",
            "Aurangzeb: 2\n",
            "Deccan: 2\n",
            "Sultanates: 1\n",
            "were: 1\n",
            "vying: 1\n",
            "for: 7\n",
            "control: 2\n",
            "often: 1\n",
            "oppressing: 1\n",
            "local: 2\n",
            "population: 1\n",
            "which: 1\n",
            "disturbed: 1\n",
            "him: 6\n",
            "fueled: 1\n",
            "desire: 1\n",
            "establish: 2\n",
            "Swarajya: 2\n",
            "or: 1\n",
            "self-rule: 1\n",
            "Marathas: 1\n",
            "By: 1\n",
            "16: 1\n",
            "had: 1\n",
            "captured: 1\n",
            "first: 2\n",
            "fort: 1\n",
            "Torna: 1\n",
            "using: 1\n",
            "guerrilla: 2\n",
            "warfare: 1\n",
            "tactics: 2\n",
            "that: 3\n",
            "would: 1\n",
            "later: 1\n",
            "become: 1\n",
            "hallmark: 1\n",
            "strategy: 1\n",
            "As: 2\n",
            "conquests: 1\n",
            "he: 4\n",
            "formed: 1\n",
            "alliances: 1\n",
            "leaders: 1\n",
            "securing: 1\n",
            "key: 2\n",
            "forts: 1\n",
            "like: 1\n",
            "Raigad: 3\n",
            "Kondana: 1\n",
            "Purandar: 1\n",
            "establishing: 3\n",
            "solid: 1\n",
            "territorial: 1\n",
            "base: 1\n",
            "western: 1\n",
            "India: 4\n",
            "In: 2\n",
            "1659: 1\n",
            "faced: 1\n",
            "defeated: 1\n",
            "Afzal: 1\n",
            "Khan: 1\n",
            "prominent: 1\n",
            "Bijapur: 1\n",
            "Sultanate: 1\n",
            "solidifying: 1\n",
            "reputation: 1\n",
            "as: 3\n",
            "brave: 1\n",
            "tactical: 1\n",
            "leader: 1\n",
            ";: 2\n",
            "this: 1\n",
            "victory: 1\n",
            "crucial: 2\n",
            "over: 1\n",
            "much: 2\n",
            "’: 5\n",
            "s: 5\n",
            "raids: 1\n",
            "territories: 2\n",
            "escape: 1\n",
            "from: 2\n",
            "clutches: 1\n",
            "Agra: 1\n",
            "1666: 1\n",
            "further: 1\n",
            "bolstered: 1\n",
            "legend: 1\n",
            "realized: 1\n",
            "powerful: 2\n",
            "navy: 1\n",
            "safeguard: 1\n",
            "foreign: 2\n",
            "invasions: 1\n",
            "leading: 1\n",
            "develop: 1\n",
            "one: 1\n",
            "earliest: 1\n",
            "organized: 1\n",
            "naval: 1\n",
            "forces: 3\n",
            "allowing: 2\n",
            "secure: 1\n",
            "coastal: 1\n",
            "areas: 1\n",
            "against: 1\n",
            "Portuguese: 1\n",
            "British: 1\n",
            "Siddis: 1\n",
            "1674: 1\n",
            "formally: 1\n",
            "crowned: 1\n",
            "himself: 1\n",
            "declaring: 1\n",
            "independence: 1\n",
            "thus: 1\n",
            "becoming: 2\n",
            "king: 1\n",
            "Hindavi: 1\n",
            "autonomous: 1\n",
            "kingdom: 1\n",
            "structured: 1\n",
            "administrative: 2\n",
            "framework: 1\n",
            "rooted: 1\n",
            "Indian: 1\n",
            "ethos: 1\n",
            "system: 1\n",
            "highly: 1\n",
            "efficient: 1\n",
            "emphasized: 1\n",
            "welfare: 1\n",
            "people: 2\n",
            "setting: 1\n",
            "systems: 1\n",
            "reduce: 1\n",
            "corruption: 1\n",
            "create: 1\n",
            "fair: 1\n",
            "tax: 1\n",
            "structure: 1\n",
            "Ashta: 1\n",
            "Pradhan: 1\n",
            "(: 1\n",
            "Council: 1\n",
            "Eight: 1\n",
            "Ministers: 1\n",
            "): 1\n",
            "included: 1\n",
            "departments: 1\n",
            "finance: 1\n",
            "internal: 1\n",
            "affairs: 1\n",
            "policy: 1\n",
            "ensure: 1\n",
            "smooth: 1\n",
            "governance: 2\n",
            "showed: 1\n",
            "progressive: 1\n",
            "approach: 1\n",
            "towards: 1\n",
            "promoting: 1\n",
            "religious: 2\n",
            "tolerance: 1\n",
            "respecting: 1\n",
            "diversity: 1\n",
            "within: 1\n",
            "empire: 2\n",
            "even: 1\n",
            "appointing: 1\n",
            "Muslims: 1\n",
            "positions: 1\n",
            "administration: 1\n",
            "banning: 1\n",
            "harassment: 1\n",
            "women: 2\n",
            "looting: 1\n",
            "sites: 1\n",
            "His: 2\n",
            "respect: 2\n",
            "advocacy: 1\n",
            "inspired: 1\n",
            "trust: 1\n",
            "loyalty: 1\n",
            "among: 1\n",
            "making: 1\n",
            "ideal: 1\n",
            "ruler: 1\n",
            "known: 1\n",
            "“: 1\n",
            "Ganimi: 1\n",
            "Kava: 1\n",
            "”: 1\n",
            "became: 1\n",
            "legendary: 1\n",
            "enabled: 1\n",
            "outmaneuver: 1\n",
            "larger: 1\n",
            "better-equipped: 1\n",
            "armies: 1\n",
            "repeatedly: 1\n",
            "expand: 2\n",
            "while: 1\n",
            "minimizing: 1\n",
            "losses: 1\n",
            "fame: 1\n",
            "began: 1\n",
            "influence: 1\n",
            "regions: 1\n",
            "far: 1\n",
            "beyond: 1\n",
            "eventually: 1\n",
            "significant: 1\n",
            "power: 1\n",
            "across: 1\n",
            "passed: 1\n",
            "away: 1\n",
            "April: 1\n",
            "3: 1\n",
            "1680: 1\n",
            "leaving: 1\n",
            "behind: 1\n",
            "legacy: 2\n",
            "well-organized: 1\n",
            "state: 1\n",
            "continued: 1\n",
            "after: 1\n",
            "death: 1\n",
            "life: 1\n",
            "ideals—valor: 1\n",
            "all: 1\n",
            "faiths: 1\n",
            "self-rule—continue: 1\n",
            "inspire: 1\n",
            "millions: 1\n",
            "endures: 1\n",
            "form: 1\n",
            "contributions: 1\n",
            "history: 1\n",
            "culture: 1\n"
          ]
        }
      ]
    },
    {
      "cell_type": "code",
      "source": [
        "#Find the 5 most common nouns in the text using spaCy\n",
        "from collections import Counter\n",
        "# Extract all nouns\n",
        "nouns = [token.text for token in doc if token.pos_ == \"NOUN\"]\n",
        "noun_counts = Counter(nouns)\n",
        "\n",
        "# Find the 5 most common nouns\n",
        "most_common_nouns = noun_counts.most_common(5)\n",
        "\n",
        "# Display the most common nouns\n",
        "print(\"The 5 most common nouns:\")\n",
        "for noun, count in most_common_nouns:\n",
        "    print(f\"{noun}: {count}\")"
      ],
      "metadata": {
        "colab": {
          "base_uri": "https://localhost:8080/"
        },
        "id": "cHqSyCjIbfJC",
        "outputId": "aeed1e6e-f8ab-49c5-fec0-06f983d465e4"
      },
      "id": "cHqSyCjIbfJC",
      "execution_count": 109,
      "outputs": [
        {
          "output_type": "stream",
          "name": "stdout",
          "text": [
            "The 5 most common nouns:\n",
            "forces: 3\n",
            "general: 2\n",
            "justice: 2\n",
            "age: 2\n",
            "time: 2\n"
          ]
        }
      ]
    },
    {
      "cell_type": "markdown",
      "source": [
        "#9- Dependency Parsing\n",
        "\n"
      ],
      "metadata": {
        "id": "-4D-7pZhc2EJ"
      },
      "id": "-4D-7pZhc2EJ"
    },
    {
      "cell_type": "code",
      "source": [
        "#Extract and display dependency parse information for each sentence using spaCy.\n",
        "\n",
        "\n",
        "# Extract and display dependency parse information for each sentence\n",
        "for sent in doc.sents:\n",
        "    print(f\"Sentence: {sent.text}\")\n",
        "    print(\"Dependency Parse:\")\n",
        "    for token in sent:\n",
        "        print(f\"Word: {token.text}, Dependency: {token.dep_}, Head: {token.head.text}\")\n",
        "    print(\"\\n\" + \"-\"*50 + \"\\n\")"
      ],
      "metadata": {
        "colab": {
          "base_uri": "https://localhost:8080/"
        },
        "id": "e2x8aKApcaxk",
        "outputId": "43673851-96d5-4ede-e33e-a2dca9a3afeb"
      },
      "id": "e2x8aKApcaxk",
      "execution_count": 110,
      "outputs": [
        {
          "output_type": "stream",
          "name": "stdout",
          "text": [
            "Sentence:  Chhatrapati Shivaji Maharaj was born on February 19, 1630, at Shivneri Fort in Maharashtra, to Shahaji Bhonsle, a Maratha general, and Jijabai, who deeply influenced Shivaji with her teachings on dharma, bravery, and justice.\n",
            "Dependency Parse:\n",
            "Word:  , Dependency: dep, Head: Chhatrapati\n",
            "Word: Chhatrapati, Dependency: compound, Head: Maharaj\n",
            "Word: Shivaji, Dependency: compound, Head: Maharaj\n",
            "Word: Maharaj, Dependency: nsubjpass, Head: born\n",
            "Word: was, Dependency: auxpass, Head: born\n",
            "Word: born, Dependency: ROOT, Head: born\n",
            "Word: on, Dependency: prep, Head: born\n",
            "Word: February, Dependency: pobj, Head: on\n",
            "Word: 19, Dependency: nummod, Head: February\n",
            "Word: ,, Dependency: punct, Head: February\n",
            "Word: 1630, Dependency: nummod, Head: February\n",
            "Word: ,, Dependency: punct, Head: February\n",
            "Word: at, Dependency: prep, Head: February\n",
            "Word: Shivneri, Dependency: compound, Head: Fort\n",
            "Word: Fort, Dependency: pobj, Head: at\n",
            "Word: in, Dependency: prep, Head: Fort\n",
            "Word: Maharashtra, Dependency: pobj, Head: in\n",
            "Word: ,, Dependency: punct, Head: February\n",
            "Word: to, Dependency: prep, Head: born\n",
            "Word: Shahaji, Dependency: compound, Head: Bhonsle\n",
            "Word: Bhonsle, Dependency: pobj, Head: to\n",
            "Word: ,, Dependency: punct, Head: Bhonsle\n",
            "Word: a, Dependency: det, Head: general\n",
            "Word: Maratha, Dependency: compound, Head: general\n",
            "Word: general, Dependency: appos, Head: Bhonsle\n",
            "Word: ,, Dependency: punct, Head: general\n",
            "Word: and, Dependency: cc, Head: general\n",
            "Word: Jijabai, Dependency: conj, Head: general\n",
            "Word: ,, Dependency: punct, Head: general\n",
            "Word: who, Dependency: nsubj, Head: influenced\n",
            "Word: deeply, Dependency: advmod, Head: influenced\n",
            "Word: influenced, Dependency: relcl, Head: general\n",
            "Word: Shivaji, Dependency: dobj, Head: influenced\n",
            "Word: with, Dependency: prep, Head: influenced\n",
            "Word: her, Dependency: poss, Head: teachings\n",
            "Word: teachings, Dependency: pobj, Head: with\n",
            "Word: on, Dependency: prep, Head: teachings\n",
            "Word: dharma, Dependency: pobj, Head: on\n",
            "Word: ,, Dependency: punct, Head: dharma\n",
            "Word: bravery, Dependency: conj, Head: dharma\n",
            "Word: ,, Dependency: punct, Head: bravery\n",
            "Word: and, Dependency: cc, Head: bravery\n",
            "Word: justice, Dependency: conj, Head: bravery\n",
            "Word: ., Dependency: punct, Head: born\n",
            "\n",
            "--------------------------------------------------\n",
            "\n",
            "Sentence: From an early age, Shivaji exhibited remarkable leadership qualities, forming a group of loyal followers and honing his military skills in the rugged terrain of the Sahyadri mountains.\n",
            "Dependency Parse:\n",
            "Word: From, Dependency: prep, Head: exhibited\n",
            "Word: an, Dependency: det, Head: age\n",
            "Word: early, Dependency: amod, Head: age\n",
            "Word: age, Dependency: pobj, Head: From\n",
            "Word: ,, Dependency: punct, Head: exhibited\n",
            "Word: Shivaji, Dependency: nsubj, Head: exhibited\n",
            "Word: exhibited, Dependency: ROOT, Head: exhibited\n",
            "Word: remarkable, Dependency: amod, Head: qualities\n",
            "Word: leadership, Dependency: compound, Head: qualities\n",
            "Word: qualities, Dependency: dobj, Head: exhibited\n",
            "Word: ,, Dependency: punct, Head: exhibited\n",
            "Word: forming, Dependency: advcl, Head: exhibited\n",
            "Word: a, Dependency: det, Head: group\n",
            "Word: group, Dependency: dobj, Head: forming\n",
            "Word: of, Dependency: prep, Head: group\n",
            "Word: loyal, Dependency: amod, Head: followers\n",
            "Word: followers, Dependency: pobj, Head: of\n",
            "Word: and, Dependency: cc, Head: forming\n",
            "Word: honing, Dependency: conj, Head: forming\n",
            "Word: his, Dependency: poss, Head: skills\n",
            "Word: military, Dependency: amod, Head: skills\n",
            "Word: skills, Dependency: dobj, Head: honing\n",
            "Word: in, Dependency: prep, Head: honing\n",
            "Word: the, Dependency: det, Head: terrain\n",
            "Word: rugged, Dependency: amod, Head: terrain\n",
            "Word: terrain, Dependency: pobj, Head: in\n",
            "Word: of, Dependency: prep, Head: terrain\n",
            "Word: the, Dependency: det, Head: mountains\n",
            "Word: Sahyadri, Dependency: compound, Head: mountains\n",
            "Word: mountains, Dependency: pobj, Head: of\n",
            "Word: ., Dependency: punct, Head: exhibited\n",
            "\n",
            "--------------------------------------------------\n",
            "\n",
            "Sentence: He grew up during a time when the Mughal Empire under Emperor Aurangzeb and the Deccan Sultanates were vying for control, often oppressing the local population, which deeply disturbed him and fueled his desire to establish Swarajya, or self-rule for the Marathas.\n",
            "Dependency Parse:\n",
            "Word: He, Dependency: nsubj, Head: grew\n",
            "Word: grew, Dependency: ROOT, Head: grew\n",
            "Word: up, Dependency: prt, Head: grew\n",
            "Word: during, Dependency: prep, Head: grew\n",
            "Word: a, Dependency: det, Head: time\n",
            "Word: time, Dependency: pobj, Head: during\n",
            "Word: when, Dependency: advmod, Head: vying\n",
            "Word: the, Dependency: det, Head: Empire\n",
            "Word: Mughal, Dependency: compound, Head: Empire\n",
            "Word: Empire, Dependency: nsubj, Head: vying\n",
            "Word: under, Dependency: prep, Head: Empire\n",
            "Word: Emperor, Dependency: compound, Head: Aurangzeb\n",
            "Word: Aurangzeb, Dependency: pobj, Head: under\n",
            "Word: and, Dependency: cc, Head: Empire\n",
            "Word: the, Dependency: det, Head: Sultanates\n",
            "Word: Deccan, Dependency: compound, Head: Sultanates\n",
            "Word: Sultanates, Dependency: conj, Head: Empire\n",
            "Word: were, Dependency: aux, Head: vying\n",
            "Word: vying, Dependency: relcl, Head: time\n",
            "Word: for, Dependency: prep, Head: vying\n",
            "Word: control, Dependency: pobj, Head: for\n",
            "Word: ,, Dependency: punct, Head: grew\n",
            "Word: often, Dependency: advmod, Head: oppressing\n",
            "Word: oppressing, Dependency: advcl, Head: grew\n",
            "Word: the, Dependency: det, Head: population\n",
            "Word: local, Dependency: amod, Head: population\n",
            "Word: population, Dependency: dobj, Head: oppressing\n",
            "Word: ,, Dependency: punct, Head: population\n",
            "Word: which, Dependency: nsubj, Head: disturbed\n",
            "Word: deeply, Dependency: advmod, Head: disturbed\n",
            "Word: disturbed, Dependency: relcl, Head: population\n",
            "Word: him, Dependency: dobj, Head: disturbed\n",
            "Word: and, Dependency: cc, Head: disturbed\n",
            "Word: fueled, Dependency: conj, Head: disturbed\n",
            "Word: his, Dependency: poss, Head: desire\n",
            "Word: desire, Dependency: dobj, Head: fueled\n",
            "Word: to, Dependency: aux, Head: establish\n",
            "Word: establish, Dependency: acl, Head: desire\n",
            "Word: Swarajya, Dependency: dobj, Head: establish\n",
            "Word: ,, Dependency: punct, Head: Swarajya\n",
            "Word: or, Dependency: cc, Head: Swarajya\n",
            "Word: self, Dependency: compound, Head: rule\n",
            "Word: -, Dependency: punct, Head: rule\n",
            "Word: rule, Dependency: conj, Head: Swarajya\n",
            "Word: for, Dependency: prep, Head: rule\n",
            "Word: the, Dependency: det, Head: Marathas\n",
            "Word: Marathas, Dependency: pobj, Head: for\n",
            "Word: ., Dependency: punct, Head: grew\n",
            "\n",
            "--------------------------------------------------\n",
            "\n",
            "Sentence: By the age of 16, Shivaji had captured his first fort, Torna, using guerrilla warfare tactics that would later become a hallmark of his military strategy.\n",
            "Dependency Parse:\n",
            "Word: By, Dependency: prep, Head: captured\n",
            "Word: the, Dependency: det, Head: age\n",
            "Word: age, Dependency: pobj, Head: By\n",
            "Word: of, Dependency: prep, Head: age\n",
            "Word: 16, Dependency: pobj, Head: of\n",
            "Word: ,, Dependency: punct, Head: captured\n",
            "Word: Shivaji, Dependency: nsubj, Head: captured\n",
            "Word: had, Dependency: aux, Head: captured\n",
            "Word: captured, Dependency: ROOT, Head: captured\n",
            "Word: his, Dependency: poss, Head: fort\n",
            "Word: first, Dependency: amod, Head: fort\n",
            "Word: fort, Dependency: dobj, Head: captured\n",
            "Word: ,, Dependency: punct, Head: fort\n",
            "Word: Torna, Dependency: appos, Head: fort\n",
            "Word: ,, Dependency: punct, Head: fort\n",
            "Word: using, Dependency: advcl, Head: captured\n",
            "Word: guerrilla, Dependency: compound, Head: tactics\n",
            "Word: warfare, Dependency: compound, Head: tactics\n",
            "Word: tactics, Dependency: dobj, Head: using\n",
            "Word: that, Dependency: nsubj, Head: become\n",
            "Word: would, Dependency: aux, Head: become\n",
            "Word: later, Dependency: advmod, Head: become\n",
            "Word: become, Dependency: relcl, Head: tactics\n",
            "Word: a, Dependency: det, Head: hallmark\n",
            "Word: hallmark, Dependency: attr, Head: become\n",
            "Word: of, Dependency: prep, Head: hallmark\n",
            "Word: his, Dependency: poss, Head: strategy\n",
            "Word: military, Dependency: amod, Head: strategy\n",
            "Word: strategy, Dependency: pobj, Head: of\n",
            "Word: ., Dependency: punct, Head: captured\n",
            "\n",
            "--------------------------------------------------\n",
            "\n",
            "Sentence: As his conquests grew, he formed alliances with local leaders, securing key forts like Raigad, Kondana, and Purandar, establishing a solid territorial base in western India.\n",
            "Dependency Parse:\n",
            "Word: As, Dependency: mark, Head: grew\n",
            "Word: his, Dependency: poss, Head: conquests\n",
            "Word: conquests, Dependency: nsubj, Head: grew\n",
            "Word: grew, Dependency: advcl, Head: formed\n",
            "Word: ,, Dependency: punct, Head: formed\n",
            "Word: he, Dependency: nsubj, Head: formed\n",
            "Word: formed, Dependency: ROOT, Head: formed\n",
            "Word: alliances, Dependency: dobj, Head: formed\n",
            "Word: with, Dependency: prep, Head: alliances\n",
            "Word: local, Dependency: amod, Head: leaders\n",
            "Word: leaders, Dependency: pobj, Head: with\n",
            "Word: ,, Dependency: punct, Head: formed\n",
            "Word: securing, Dependency: advcl, Head: formed\n",
            "Word: key, Dependency: amod, Head: forts\n",
            "Word: forts, Dependency: dobj, Head: securing\n",
            "Word: like, Dependency: prep, Head: forts\n",
            "Word: Raigad, Dependency: pobj, Head: like\n",
            "Word: ,, Dependency: punct, Head: Raigad\n",
            "Word: Kondana, Dependency: conj, Head: Raigad\n",
            "Word: ,, Dependency: punct, Head: Kondana\n",
            "Word: and, Dependency: cc, Head: Kondana\n",
            "Word: Purandar, Dependency: conj, Head: Kondana\n",
            "Word: ,, Dependency: punct, Head: securing\n",
            "Word: establishing, Dependency: conj, Head: securing\n",
            "Word: a, Dependency: det, Head: base\n",
            "Word: solid, Dependency: amod, Head: base\n",
            "Word: territorial, Dependency: amod, Head: base\n",
            "Word: base, Dependency: dobj, Head: establishing\n",
            "Word: in, Dependency: prep, Head: base\n",
            "Word: western, Dependency: amod, Head: India\n",
            "Word: India, Dependency: pobj, Head: in\n",
            "Word: ., Dependency: punct, Head: formed\n",
            "\n",
            "--------------------------------------------------\n",
            "\n",
            "Sentence: In 1659, he faced and defeated Afzal Khan, a prominent general of the Bijapur Sultanate, solidifying his reputation as a brave and tactical leader; this victory was crucial in establishing his control over much of the Deccan.\n",
            "Dependency Parse:\n",
            "Word: In, Dependency: prep, Head: faced\n",
            "Word: 1659, Dependency: pobj, Head: In\n",
            "Word: ,, Dependency: punct, Head: faced\n",
            "Word: he, Dependency: nsubj, Head: faced\n",
            "Word: faced, Dependency: ccomp, Head: was\n",
            "Word: and, Dependency: cc, Head: faced\n",
            "Word: defeated, Dependency: conj, Head: faced\n",
            "Word: Afzal, Dependency: compound, Head: Khan\n",
            "Word: Khan, Dependency: dobj, Head: defeated\n",
            "Word: ,, Dependency: punct, Head: Khan\n",
            "Word: a, Dependency: det, Head: general\n",
            "Word: prominent, Dependency: amod, Head: general\n",
            "Word: general, Dependency: appos, Head: Khan\n",
            "Word: of, Dependency: prep, Head: general\n",
            "Word: the, Dependency: det, Head: Sultanate\n",
            "Word: Bijapur, Dependency: compound, Head: Sultanate\n",
            "Word: Sultanate, Dependency: pobj, Head: of\n",
            "Word: ,, Dependency: punct, Head: Khan\n",
            "Word: solidifying, Dependency: advcl, Head: defeated\n",
            "Word: his, Dependency: poss, Head: reputation\n",
            "Word: reputation, Dependency: dobj, Head: solidifying\n",
            "Word: as, Dependency: prep, Head: reputation\n",
            "Word: a, Dependency: det, Head: leader\n",
            "Word: brave, Dependency: amod, Head: leader\n",
            "Word: and, Dependency: cc, Head: brave\n",
            "Word: tactical, Dependency: conj, Head: brave\n",
            "Word: leader, Dependency: pobj, Head: as\n",
            "Word: ;, Dependency: punct, Head: was\n",
            "Word: this, Dependency: det, Head: victory\n",
            "Word: victory, Dependency: nsubj, Head: was\n",
            "Word: was, Dependency: ROOT, Head: was\n",
            "Word: crucial, Dependency: acomp, Head: was\n",
            "Word: in, Dependency: prep, Head: was\n",
            "Word: establishing, Dependency: pcomp, Head: in\n",
            "Word: his, Dependency: poss, Head: control\n",
            "Word: control, Dependency: dobj, Head: establishing\n",
            "Word: over, Dependency: prep, Head: establishing\n",
            "Word: much, Dependency: pobj, Head: over\n",
            "Word: of, Dependency: prep, Head: much\n",
            "Word: the, Dependency: det, Head: Deccan\n",
            "Word: Deccan, Dependency: pobj, Head: of\n",
            "Word: ., Dependency: punct, Head: was\n",
            "\n",
            "--------------------------------------------------\n",
            "\n",
            "Sentence: Shivaji’s raids on Mughal territories and his escape from the clutches of Aurangzeb in Agra in 1666 further bolstered his legend.\n",
            "Dependency Parse:\n",
            "Word: Shivaji, Dependency: poss, Head: raids\n",
            "Word: ’s, Dependency: case, Head: Shivaji\n",
            "Word: raids, Dependency: nsubj, Head: bolstered\n",
            "Word: on, Dependency: prep, Head: raids\n",
            "Word: Mughal, Dependency: amod, Head: territories\n",
            "Word: territories, Dependency: pobj, Head: on\n",
            "Word: and, Dependency: cc, Head: raids\n",
            "Word: his, Dependency: poss, Head: escape\n",
            "Word: escape, Dependency: conj, Head: raids\n",
            "Word: from, Dependency: prep, Head: escape\n",
            "Word: the, Dependency: det, Head: clutches\n",
            "Word: clutches, Dependency: pobj, Head: from\n",
            "Word: of, Dependency: prep, Head: clutches\n",
            "Word: Aurangzeb, Dependency: pobj, Head: of\n",
            "Word: in, Dependency: prep, Head: clutches\n",
            "Word: Agra, Dependency: pobj, Head: in\n",
            "Word: in, Dependency: prep, Head: escape\n",
            "Word: 1666, Dependency: pobj, Head: in\n",
            "Word: further, Dependency: advmod, Head: bolstered\n",
            "Word: bolstered, Dependency: ROOT, Head: bolstered\n",
            "Word: his, Dependency: poss, Head: legend\n",
            "Word: legend, Dependency: dobj, Head: bolstered\n",
            "Word: ., Dependency: punct, Head: bolstered\n",
            "\n",
            "--------------------------------------------------\n",
            "\n",
            "Sentence: He realized that a powerful navy was crucial to safeguard his territories from foreign invasions, leading him to develop one of the earliest organized naval forces in India, allowing him to secure coastal areas against Portuguese, British, and Siddis forces.\n",
            "Dependency Parse:\n",
            "Word: He, Dependency: nsubj, Head: realized\n",
            "Word: realized, Dependency: ROOT, Head: realized\n",
            "Word: that, Dependency: mark, Head: was\n",
            "Word: a, Dependency: det, Head: navy\n",
            "Word: powerful, Dependency: amod, Head: navy\n",
            "Word: navy, Dependency: nsubj, Head: was\n",
            "Word: was, Dependency: ccomp, Head: realized\n",
            "Word: crucial, Dependency: acomp, Head: was\n",
            "Word: to, Dependency: aux, Head: safeguard\n",
            "Word: safeguard, Dependency: xcomp, Head: was\n",
            "Word: his, Dependency: poss, Head: territories\n",
            "Word: territories, Dependency: dobj, Head: safeguard\n",
            "Word: from, Dependency: prep, Head: safeguard\n",
            "Word: foreign, Dependency: amod, Head: invasions\n",
            "Word: invasions, Dependency: pobj, Head: from\n",
            "Word: ,, Dependency: punct, Head: was\n",
            "Word: leading, Dependency: advcl, Head: was\n",
            "Word: him, Dependency: dobj, Head: leading\n",
            "Word: to, Dependency: aux, Head: develop\n",
            "Word: develop, Dependency: xcomp, Head: leading\n",
            "Word: one, Dependency: dobj, Head: develop\n",
            "Word: of, Dependency: prep, Head: one\n",
            "Word: the, Dependency: det, Head: forces\n",
            "Word: earliest, Dependency: amod, Head: forces\n",
            "Word: organized, Dependency: amod, Head: forces\n",
            "Word: naval, Dependency: amod, Head: forces\n",
            "Word: forces, Dependency: pobj, Head: of\n",
            "Word: in, Dependency: prep, Head: forces\n",
            "Word: India, Dependency: pobj, Head: in\n",
            "Word: ,, Dependency: punct, Head: develop\n",
            "Word: allowing, Dependency: advcl, Head: develop\n",
            "Word: him, Dependency: nsubj, Head: secure\n",
            "Word: to, Dependency: aux, Head: secure\n",
            "Word: secure, Dependency: ccomp, Head: allowing\n",
            "Word: coastal, Dependency: amod, Head: areas\n",
            "Word: areas, Dependency: dobj, Head: secure\n",
            "Word: against, Dependency: prep, Head: areas\n",
            "Word: Portuguese, Dependency: nmod, Head: forces\n",
            "Word: ,, Dependency: punct, Head: Portuguese\n",
            "Word: British, Dependency: conj, Head: Portuguese\n",
            "Word: ,, Dependency: punct, Head: British\n",
            "Word: and, Dependency: cc, Head: British\n",
            "Word: Siddis, Dependency: compound, Head: forces\n",
            "Word: forces, Dependency: pobj, Head: against\n",
            "Word: ., Dependency: punct, Head: realized\n",
            "\n",
            "--------------------------------------------------\n",
            "\n",
            "Sentence: In 1674, he formally crowned himself as Chhatrapati at Raigad Fort, declaring his independence and establishing the Maratha Empire, thus becoming the first king to establish Hindavi Swarajya, an autonomous kingdom with a structured administrative framework rooted in Indian ethos.\n",
            "Dependency Parse:\n",
            "Word: In, Dependency: prep, Head: crowned\n",
            "Word: 1674, Dependency: pobj, Head: In\n",
            "Word: ,, Dependency: punct, Head: crowned\n",
            "Word: he, Dependency: nsubj, Head: crowned\n",
            "Word: formally, Dependency: advmod, Head: crowned\n",
            "Word: crowned, Dependency: ROOT, Head: crowned\n",
            "Word: himself, Dependency: dobj, Head: crowned\n",
            "Word: as, Dependency: prep, Head: crowned\n",
            "Word: Chhatrapati, Dependency: pobj, Head: as\n",
            "Word: at, Dependency: prep, Head: Chhatrapati\n",
            "Word: Raigad, Dependency: compound, Head: Fort\n",
            "Word: Fort, Dependency: pobj, Head: at\n",
            "Word: ,, Dependency: punct, Head: crowned\n",
            "Word: declaring, Dependency: advcl, Head: crowned\n",
            "Word: his, Dependency: poss, Head: independence\n",
            "Word: independence, Dependency: dobj, Head: declaring\n",
            "Word: and, Dependency: cc, Head: declaring\n",
            "Word: establishing, Dependency: conj, Head: declaring\n",
            "Word: the, Dependency: det, Head: Empire\n",
            "Word: Maratha, Dependency: compound, Head: Empire\n",
            "Word: Empire, Dependency: dobj, Head: establishing\n",
            "Word: ,, Dependency: punct, Head: declaring\n",
            "Word: thus, Dependency: advmod, Head: becoming\n",
            "Word: becoming, Dependency: advcl, Head: declaring\n",
            "Word: the, Dependency: det, Head: king\n",
            "Word: first, Dependency: amod, Head: king\n",
            "Word: king, Dependency: attr, Head: becoming\n",
            "Word: to, Dependency: aux, Head: establish\n",
            "Word: establish, Dependency: advcl, Head: becoming\n",
            "Word: Hindavi, Dependency: compound, Head: Swarajya\n",
            "Word: Swarajya, Dependency: dobj, Head: establish\n",
            "Word: ,, Dependency: punct, Head: Swarajya\n",
            "Word: an, Dependency: det, Head: kingdom\n",
            "Word: autonomous, Dependency: amod, Head: kingdom\n",
            "Word: kingdom, Dependency: appos, Head: Swarajya\n",
            "Word: with, Dependency: prep, Head: kingdom\n",
            "Word: a, Dependency: det, Head: framework\n",
            "Word: structured, Dependency: amod, Head: framework\n",
            "Word: administrative, Dependency: amod, Head: framework\n",
            "Word: framework, Dependency: pobj, Head: with\n",
            "Word: rooted, Dependency: acl, Head: framework\n",
            "Word: in, Dependency: prep, Head: rooted\n",
            "Word: Indian, Dependency: amod, Head: ethos\n",
            "Word: ethos, Dependency: pobj, Head: in\n",
            "Word: ., Dependency: punct, Head: crowned\n",
            "\n",
            "--------------------------------------------------\n",
            "\n",
            "Sentence: Shivaji’s administrative system was highly efficient, and he emphasized the welfare of his people, setting up systems to reduce corruption and create a fair tax structure; his Ashta Pradhan (Council of Eight Ministers) included departments for finance, internal affairs, foreign policy, and military to ensure smooth governance.\n",
            "Dependency Parse:\n",
            "Word: Shivaji, Dependency: poss, Head: system\n",
            "Word: ’s, Dependency: case, Head: Shivaji\n",
            "Word: administrative, Dependency: amod, Head: system\n",
            "Word: system, Dependency: nsubj, Head: was\n",
            "Word: was, Dependency: ccomp, Head: included\n",
            "Word: highly, Dependency: advmod, Head: efficient\n",
            "Word: efficient, Dependency: acomp, Head: was\n",
            "Word: ,, Dependency: punct, Head: was\n",
            "Word: and, Dependency: cc, Head: was\n",
            "Word: he, Dependency: nsubj, Head: emphasized\n",
            "Word: emphasized, Dependency: conj, Head: was\n",
            "Word: the, Dependency: det, Head: welfare\n",
            "Word: welfare, Dependency: dobj, Head: emphasized\n",
            "Word: of, Dependency: prep, Head: welfare\n",
            "Word: his, Dependency: poss, Head: people\n",
            "Word: people, Dependency: pobj, Head: of\n",
            "Word: ,, Dependency: punct, Head: emphasized\n",
            "Word: setting, Dependency: advcl, Head: emphasized\n",
            "Word: up, Dependency: prt, Head: setting\n",
            "Word: systems, Dependency: dobj, Head: setting\n",
            "Word: to, Dependency: aux, Head: reduce\n",
            "Word: reduce, Dependency: advcl, Head: setting\n",
            "Word: corruption, Dependency: dobj, Head: reduce\n",
            "Word: and, Dependency: cc, Head: reduce\n",
            "Word: create, Dependency: conj, Head: reduce\n",
            "Word: a, Dependency: det, Head: structure\n",
            "Word: fair, Dependency: amod, Head: structure\n",
            "Word: tax, Dependency: compound, Head: structure\n",
            "Word: structure, Dependency: dobj, Head: create\n",
            "Word: ;, Dependency: punct, Head: included\n",
            "Word: his, Dependency: poss, Head: Pradhan\n",
            "Word: Ashta, Dependency: compound, Head: Pradhan\n",
            "Word: Pradhan, Dependency: nsubj, Head: included\n",
            "Word: (, Dependency: punct, Head: Pradhan\n",
            "Word: Council, Dependency: appos, Head: Pradhan\n",
            "Word: of, Dependency: prep, Head: Council\n",
            "Word: Eight, Dependency: compound, Head: Ministers\n",
            "Word: Ministers, Dependency: pobj, Head: of\n",
            "Word: ), Dependency: punct, Head: Pradhan\n",
            "Word: included, Dependency: ROOT, Head: included\n",
            "Word: departments, Dependency: dobj, Head: included\n",
            "Word: for, Dependency: prep, Head: departments\n",
            "Word: finance, Dependency: pobj, Head: for\n",
            "Word: ,, Dependency: punct, Head: finance\n",
            "Word: internal, Dependency: amod, Head: affairs\n",
            "Word: affairs, Dependency: conj, Head: finance\n",
            "Word: ,, Dependency: punct, Head: affairs\n",
            "Word: foreign, Dependency: amod, Head: policy\n",
            "Word: policy, Dependency: conj, Head: affairs\n",
            "Word: ,, Dependency: punct, Head: policy\n",
            "Word: and, Dependency: cc, Head: policy\n",
            "Word: military, Dependency: conj, Head: policy\n",
            "Word: to, Dependency: aux, Head: ensure\n",
            "Word: ensure, Dependency: advcl, Head: included\n",
            "Word: smooth, Dependency: amod, Head: governance\n",
            "Word: governance, Dependency: dobj, Head: ensure\n",
            "Word: ., Dependency: punct, Head: included\n",
            "\n",
            "--------------------------------------------------\n",
            "\n",
            "Sentence: Shivaji showed a progressive approach towards governance, promoting religious tolerance and respecting the diversity within his empire, even appointing Muslims to key positions in his administration and banning the harassment of women and looting of religious sites.\n",
            "Dependency Parse:\n",
            "Word: Shivaji, Dependency: nsubj, Head: showed\n",
            "Word: showed, Dependency: ROOT, Head: showed\n",
            "Word: a, Dependency: det, Head: approach\n",
            "Word: progressive, Dependency: amod, Head: approach\n",
            "Word: approach, Dependency: dobj, Head: showed\n",
            "Word: towards, Dependency: prep, Head: approach\n",
            "Word: governance, Dependency: pobj, Head: towards\n",
            "Word: ,, Dependency: punct, Head: showed\n",
            "Word: promoting, Dependency: advcl, Head: showed\n",
            "Word: religious, Dependency: amod, Head: tolerance\n",
            "Word: tolerance, Dependency: dobj, Head: promoting\n",
            "Word: and, Dependency: cc, Head: promoting\n",
            "Word: respecting, Dependency: conj, Head: promoting\n",
            "Word: the, Dependency: det, Head: diversity\n",
            "Word: diversity, Dependency: dobj, Head: respecting\n",
            "Word: within, Dependency: prep, Head: respecting\n",
            "Word: his, Dependency: poss, Head: empire\n",
            "Word: empire, Dependency: pobj, Head: within\n",
            "Word: ,, Dependency: punct, Head: promoting\n",
            "Word: even, Dependency: advmod, Head: appointing\n",
            "Word: appointing, Dependency: conj, Head: promoting\n",
            "Word: Muslims, Dependency: dobj, Head: appointing\n",
            "Word: to, Dependency: prep, Head: appointing\n",
            "Word: key, Dependency: amod, Head: positions\n",
            "Word: positions, Dependency: pobj, Head: to\n",
            "Word: in, Dependency: prep, Head: positions\n",
            "Word: his, Dependency: poss, Head: administration\n",
            "Word: administration, Dependency: pobj, Head: in\n",
            "Word: and, Dependency: cc, Head: appointing\n",
            "Word: banning, Dependency: conj, Head: appointing\n",
            "Word: the, Dependency: det, Head: harassment\n",
            "Word: harassment, Dependency: dobj, Head: banning\n",
            "Word: of, Dependency: prep, Head: harassment\n",
            "Word: women, Dependency: pobj, Head: of\n",
            "Word: and, Dependency: cc, Head: harassment\n",
            "Word: looting, Dependency: conj, Head: harassment\n",
            "Word: of, Dependency: prep, Head: looting\n",
            "Word: religious, Dependency: amod, Head: sites\n",
            "Word: sites, Dependency: pobj, Head: of\n",
            "Word: ., Dependency: punct, Head: showed\n",
            "\n",
            "--------------------------------------------------\n",
            "\n",
            "Sentence: His respect for women and his advocacy for justice inspired trust and loyalty among his people, making him an ideal ruler for his time.\n",
            "Dependency Parse:\n",
            "Word: His, Dependency: poss, Head: respect\n",
            "Word: respect, Dependency: nsubj, Head: inspired\n",
            "Word: for, Dependency: prep, Head: respect\n",
            "Word: women, Dependency: pobj, Head: for\n",
            "Word: and, Dependency: cc, Head: women\n",
            "Word: his, Dependency: poss, Head: advocacy\n",
            "Word: advocacy, Dependency: conj, Head: women\n",
            "Word: for, Dependency: prep, Head: advocacy\n",
            "Word: justice, Dependency: pobj, Head: for\n",
            "Word: inspired, Dependency: ROOT, Head: inspired\n",
            "Word: trust, Dependency: dobj, Head: inspired\n",
            "Word: and, Dependency: cc, Head: trust\n",
            "Word: loyalty, Dependency: conj, Head: trust\n",
            "Word: among, Dependency: prep, Head: trust\n",
            "Word: his, Dependency: poss, Head: people\n",
            "Word: people, Dependency: pobj, Head: among\n",
            "Word: ,, Dependency: punct, Head: inspired\n",
            "Word: making, Dependency: advcl, Head: inspired\n",
            "Word: him, Dependency: nsubj, Head: ruler\n",
            "Word: an, Dependency: det, Head: ruler\n",
            "Word: ideal, Dependency: amod, Head: ruler\n",
            "Word: ruler, Dependency: ccomp, Head: making\n",
            "Word: for, Dependency: prep, Head: ruler\n",
            "Word: his, Dependency: poss, Head: time\n",
            "Word: time, Dependency: pobj, Head: for\n",
            "Word: ., Dependency: punct, Head: inspired\n",
            "\n",
            "--------------------------------------------------\n",
            "\n",
            "Sentence: Shivaji Maharaj’s guerrilla tactics, known as “Ganimi Kava,” became legendary and enabled him to outmaneuver much larger and better-equipped armies repeatedly, allowing him to expand his empire while minimizing losses.\n",
            "Dependency Parse:\n",
            "Word: Shivaji, Dependency: compound, Head: Maharaj\n",
            "Word: Maharaj, Dependency: poss, Head: tactics\n",
            "Word: ’s, Dependency: case, Head: Maharaj\n",
            "Word: guerrilla, Dependency: compound, Head: tactics\n",
            "Word: tactics, Dependency: nsubj, Head: became\n",
            "Word: ,, Dependency: punct, Head: tactics\n",
            "Word: known, Dependency: acl, Head: tactics\n",
            "Word: as, Dependency: prep, Head: known\n",
            "Word: “, Dependency: punct, Head: as\n",
            "Word: Ganimi, Dependency: compound, Head: Kava\n",
            "Word: Kava, Dependency: pobj, Head: as\n",
            "Word: ,, Dependency: punct, Head: tactics\n",
            "Word: ”, Dependency: punct, Head: tactics\n",
            "Word: became, Dependency: ROOT, Head: became\n",
            "Word: legendary, Dependency: acomp, Head: became\n",
            "Word: and, Dependency: cc, Head: became\n",
            "Word: enabled, Dependency: conj, Head: became\n",
            "Word: him, Dependency: dobj, Head: enabled\n",
            "Word: to, Dependency: aux, Head: outmaneuver\n",
            "Word: outmaneuver, Dependency: xcomp, Head: enabled\n",
            "Word: much, Dependency: advmod, Head: larger\n",
            "Word: larger, Dependency: amod, Head: armies\n",
            "Word: and, Dependency: cc, Head: larger\n",
            "Word: better, Dependency: advmod, Head: equipped\n",
            "Word: -, Dependency: punct, Head: equipped\n",
            "Word: equipped, Dependency: conj, Head: larger\n",
            "Word: armies, Dependency: dobj, Head: outmaneuver\n",
            "Word: repeatedly, Dependency: advmod, Head: outmaneuver\n",
            "Word: ,, Dependency: punct, Head: enabled\n",
            "Word: allowing, Dependency: advcl, Head: enabled\n",
            "Word: him, Dependency: nsubj, Head: expand\n",
            "Word: to, Dependency: aux, Head: expand\n",
            "Word: expand, Dependency: ccomp, Head: allowing\n",
            "Word: his, Dependency: poss, Head: empire\n",
            "Word: empire, Dependency: dobj, Head: expand\n",
            "Word: while, Dependency: mark, Head: minimizing\n",
            "Word: minimizing, Dependency: advcl, Head: expand\n",
            "Word: losses, Dependency: dobj, Head: minimizing\n",
            "Word: ., Dependency: punct, Head: became\n",
            "\n",
            "--------------------------------------------------\n",
            "\n",
            "Sentence: As his fame grew, the Maratha Empire began to influence regions far beyond Maharashtra, with Maratha forces eventually becoming a significant power across India.\n",
            "Dependency Parse:\n",
            "Word: As, Dependency: mark, Head: grew\n",
            "Word: his, Dependency: poss, Head: fame\n",
            "Word: fame, Dependency: nsubj, Head: grew\n",
            "Word: grew, Dependency: advcl, Head: began\n",
            "Word: ,, Dependency: punct, Head: began\n",
            "Word: the, Dependency: det, Head: Empire\n",
            "Word: Maratha, Dependency: compound, Head: Empire\n",
            "Word: Empire, Dependency: nsubj, Head: began\n",
            "Word: began, Dependency: ROOT, Head: began\n",
            "Word: to, Dependency: aux, Head: influence\n",
            "Word: influence, Dependency: xcomp, Head: began\n",
            "Word: regions, Dependency: dobj, Head: influence\n",
            "Word: far, Dependency: advmod, Head: beyond\n",
            "Word: beyond, Dependency: prep, Head: influence\n",
            "Word: Maharashtra, Dependency: pobj, Head: beyond\n",
            "Word: ,, Dependency: punct, Head: influence\n",
            "Word: with, Dependency: prep, Head: influence\n",
            "Word: Maratha, Dependency: compound, Head: forces\n",
            "Word: forces, Dependency: nsubj, Head: becoming\n",
            "Word: eventually, Dependency: advmod, Head: becoming\n",
            "Word: becoming, Dependency: pcomp, Head: with\n",
            "Word: a, Dependency: det, Head: power\n",
            "Word: significant, Dependency: amod, Head: power\n",
            "Word: power, Dependency: attr, Head: becoming\n",
            "Word: across, Dependency: prep, Head: power\n",
            "Word: India, Dependency: pobj, Head: across\n",
            "Word: ., Dependency: punct, Head: began\n",
            "\n",
            "--------------------------------------------------\n",
            "\n",
            "Sentence: Shivaji passed away on April 3, 1680, at Raigad Fort, leaving behind a powerful legacy and a well-organized state that continued to expand after his death.\n",
            "Dependency Parse:\n",
            "Word: Shivaji, Dependency: nsubj, Head: passed\n",
            "Word: passed, Dependency: ROOT, Head: passed\n",
            "Word: away, Dependency: prt, Head: passed\n",
            "Word: on, Dependency: prep, Head: passed\n",
            "Word: April, Dependency: pobj, Head: on\n",
            "Word: 3, Dependency: nummod, Head: April\n",
            "Word: ,, Dependency: punct, Head: April\n",
            "Word: 1680, Dependency: nummod, Head: April\n",
            "Word: ,, Dependency: punct, Head: April\n",
            "Word: at, Dependency: prep, Head: passed\n",
            "Word: Raigad, Dependency: compound, Head: Fort\n",
            "Word: Fort, Dependency: pobj, Head: at\n",
            "Word: ,, Dependency: punct, Head: passed\n",
            "Word: leaving, Dependency: advcl, Head: passed\n",
            "Word: behind, Dependency: advmod, Head: leaving\n",
            "Word: a, Dependency: det, Head: legacy\n",
            "Word: powerful, Dependency: amod, Head: legacy\n",
            "Word: legacy, Dependency: dobj, Head: leaving\n",
            "Word: and, Dependency: cc, Head: legacy\n",
            "Word: a, Dependency: det, Head: state\n",
            "Word: well, Dependency: advmod, Head: organized\n",
            "Word: -, Dependency: punct, Head: organized\n",
            "Word: organized, Dependency: amod, Head: state\n",
            "Word: state, Dependency: conj, Head: legacy\n",
            "Word: that, Dependency: nsubj, Head: continued\n",
            "Word: continued, Dependency: relcl, Head: state\n",
            "Word: to, Dependency: aux, Head: expand\n",
            "Word: expand, Dependency: xcomp, Head: continued\n",
            "Word: after, Dependency: prep, Head: expand\n",
            "Word: his, Dependency: poss, Head: death\n",
            "Word: death, Dependency: pobj, Head: after\n",
            "Word: ., Dependency: punct, Head: passed\n",
            "\n",
            "--------------------------------------------------\n",
            "\n",
            "Sentence: His life and ideals—valor, respect for all faiths, and self-rule—continue to inspire millions, and his legacy endures in the form of the Maratha Empire’s contributions to India’s history and culture.\n",
            "Dependency Parse:\n",
            "Word: His, Dependency: poss, Head: life\n",
            "Word: life, Dependency: nsubj, Head: continue\n",
            "Word: and, Dependency: cc, Head: life\n",
            "Word: ideals, Dependency: conj, Head: life\n",
            "Word: —, Dependency: punct, Head: life\n",
            "Word: valor, Dependency: appos, Head: life\n",
            "Word: ,, Dependency: punct, Head: valor\n",
            "Word: respect, Dependency: appos, Head: life\n",
            "Word: for, Dependency: prep, Head: respect\n",
            "Word: all, Dependency: det, Head: faiths\n",
            "Word: faiths, Dependency: pobj, Head: for\n",
            "Word: ,, Dependency: punct, Head: respect\n",
            "Word: and, Dependency: cc, Head: respect\n",
            "Word: self, Dependency: compound, Head: rule\n",
            "Word: -, Dependency: punct, Head: rule\n",
            "Word: rule, Dependency: conj, Head: respect\n",
            "Word: —, Dependency: punct, Head: continue\n",
            "Word: continue, Dependency: ROOT, Head: continue\n",
            "Word: to, Dependency: aux, Head: inspire\n",
            "Word: inspire, Dependency: xcomp, Head: continue\n",
            "Word: millions, Dependency: dobj, Head: inspire\n",
            "Word: ,, Dependency: punct, Head: continue\n",
            "Word: and, Dependency: cc, Head: continue\n",
            "Word: his, Dependency: poss, Head: legacy\n",
            "Word: legacy, Dependency: nsubj, Head: endures\n",
            "Word: endures, Dependency: conj, Head: continue\n",
            "Word: in, Dependency: prep, Head: endures\n",
            "Word: the, Dependency: det, Head: form\n",
            "Word: form, Dependency: pobj, Head: in\n",
            "Word: of, Dependency: prep, Head: form\n",
            "Word: the, Dependency: det, Head: Empire\n",
            "Word: Maratha, Dependency: compound, Head: Empire\n",
            "Word: Empire, Dependency: poss, Head: contributions\n",
            "Word: ’s, Dependency: case, Head: Empire\n",
            "Word: contributions, Dependency: pobj, Head: of\n",
            "Word: to, Dependency: prep, Head: contributions\n",
            "Word: India, Dependency: poss, Head: history\n",
            "Word: ’s, Dependency: case, Head: India\n",
            "Word: history, Dependency: pobj, Head: to\n",
            "Word: and, Dependency: cc, Head: history\n",
            "Word: culture, Dependency: conj, Head: history\n",
            "Word: ., Dependency: punct, Head: endures\n",
            "\n",
            "--------------------------------------------------\n",
            "\n"
          ]
        }
      ]
    },
    {
      "cell_type": "code",
      "source": [
        "#Visualize the dependency tree of the first sentence using spaCy’s displacy tool.\n",
        "from spacy import displacy\n",
        "# Get the first sentence\n",
        "first_sentence = list(doc.sents)[0]\n",
        "\n",
        "# Visualize the dependency tree of the first sentence\n",
        "displacy.render(first_sentence, style='dep', jupyter=True)\n"
      ],
      "metadata": {
        "colab": {
          "base_uri": "https://localhost:8080/",
          "height": 528
        },
        "id": "RLFRgj-6dAxQ",
        "outputId": "5c9b604e-ed64-45c8-8d0c-42b1a6011a11"
      },
      "id": "RLFRgj-6dAxQ",
      "execution_count": 111,
      "outputs": [
        {
          "output_type": "display_data",
          "data": {
            "text/plain": [
              "<IPython.core.display.HTML object>"
            ],
            "text/html": [
              "<span class=\"tex2jax_ignore\"><svg xmlns=\"http://www.w3.org/2000/svg\" xmlns:xlink=\"http://www.w3.org/1999/xlink\" xml:lang=\"en\" id=\"7a1bdc4482f944cdbef6e9403693aa54-0\" class=\"displacy\" width=\"6175\" height=\"487.0\" direction=\"ltr\" style=\"max-width: none; height: 487.0px; color: #000000; background: #ffffff; font-family: Arial; direction: ltr\">\n",
              "<text class=\"displacy-token\" fill=\"currentColor\" text-anchor=\"middle\" y=\"397.0\">\n",
              "    <tspan class=\"displacy-word\" fill=\"currentColor\" x=\"50\"> </tspan>\n",
              "    <tspan class=\"displacy-tag\" dy=\"2em\" fill=\"currentColor\" x=\"50\">SPACE</tspan>\n",
              "</text>\n",
              "\n",
              "<text class=\"displacy-token\" fill=\"currentColor\" text-anchor=\"middle\" y=\"397.0\">\n",
              "    <tspan class=\"displacy-word\" fill=\"currentColor\" x=\"225\">Chhatrapati</tspan>\n",
              "    <tspan class=\"displacy-tag\" dy=\"2em\" fill=\"currentColor\" x=\"225\">PROPN</tspan>\n",
              "</text>\n",
              "\n",
              "<text class=\"displacy-token\" fill=\"currentColor\" text-anchor=\"middle\" y=\"397.0\">\n",
              "    <tspan class=\"displacy-word\" fill=\"currentColor\" x=\"400\">Shivaji</tspan>\n",
              "    <tspan class=\"displacy-tag\" dy=\"2em\" fill=\"currentColor\" x=\"400\">PROPN</tspan>\n",
              "</text>\n",
              "\n",
              "<text class=\"displacy-token\" fill=\"currentColor\" text-anchor=\"middle\" y=\"397.0\">\n",
              "    <tspan class=\"displacy-word\" fill=\"currentColor\" x=\"575\">Maharaj</tspan>\n",
              "    <tspan class=\"displacy-tag\" dy=\"2em\" fill=\"currentColor\" x=\"575\">PROPN</tspan>\n",
              "</text>\n",
              "\n",
              "<text class=\"displacy-token\" fill=\"currentColor\" text-anchor=\"middle\" y=\"397.0\">\n",
              "    <tspan class=\"displacy-word\" fill=\"currentColor\" x=\"750\">was</tspan>\n",
              "    <tspan class=\"displacy-tag\" dy=\"2em\" fill=\"currentColor\" x=\"750\">AUX</tspan>\n",
              "</text>\n",
              "\n",
              "<text class=\"displacy-token\" fill=\"currentColor\" text-anchor=\"middle\" y=\"397.0\">\n",
              "    <tspan class=\"displacy-word\" fill=\"currentColor\" x=\"925\">born</tspan>\n",
              "    <tspan class=\"displacy-tag\" dy=\"2em\" fill=\"currentColor\" x=\"925\">VERB</tspan>\n",
              "</text>\n",
              "\n",
              "<text class=\"displacy-token\" fill=\"currentColor\" text-anchor=\"middle\" y=\"397.0\">\n",
              "    <tspan class=\"displacy-word\" fill=\"currentColor\" x=\"1100\">on</tspan>\n",
              "    <tspan class=\"displacy-tag\" dy=\"2em\" fill=\"currentColor\" x=\"1100\">ADP</tspan>\n",
              "</text>\n",
              "\n",
              "<text class=\"displacy-token\" fill=\"currentColor\" text-anchor=\"middle\" y=\"397.0\">\n",
              "    <tspan class=\"displacy-word\" fill=\"currentColor\" x=\"1275\">February</tspan>\n",
              "    <tspan class=\"displacy-tag\" dy=\"2em\" fill=\"currentColor\" x=\"1275\">PROPN</tspan>\n",
              "</text>\n",
              "\n",
              "<text class=\"displacy-token\" fill=\"currentColor\" text-anchor=\"middle\" y=\"397.0\">\n",
              "    <tspan class=\"displacy-word\" fill=\"currentColor\" x=\"1450\">19,</tspan>\n",
              "    <tspan class=\"displacy-tag\" dy=\"2em\" fill=\"currentColor\" x=\"1450\">NUM</tspan>\n",
              "</text>\n",
              "\n",
              "<text class=\"displacy-token\" fill=\"currentColor\" text-anchor=\"middle\" y=\"397.0\">\n",
              "    <tspan class=\"displacy-word\" fill=\"currentColor\" x=\"1625\">1630,</tspan>\n",
              "    <tspan class=\"displacy-tag\" dy=\"2em\" fill=\"currentColor\" x=\"1625\">NUM</tspan>\n",
              "</text>\n",
              "\n",
              "<text class=\"displacy-token\" fill=\"currentColor\" text-anchor=\"middle\" y=\"397.0\">\n",
              "    <tspan class=\"displacy-word\" fill=\"currentColor\" x=\"1800\">at</tspan>\n",
              "    <tspan class=\"displacy-tag\" dy=\"2em\" fill=\"currentColor\" x=\"1800\">ADP</tspan>\n",
              "</text>\n",
              "\n",
              "<text class=\"displacy-token\" fill=\"currentColor\" text-anchor=\"middle\" y=\"397.0\">\n",
              "    <tspan class=\"displacy-word\" fill=\"currentColor\" x=\"1975\">Shivneri</tspan>\n",
              "    <tspan class=\"displacy-tag\" dy=\"2em\" fill=\"currentColor\" x=\"1975\">PROPN</tspan>\n",
              "</text>\n",
              "\n",
              "<text class=\"displacy-token\" fill=\"currentColor\" text-anchor=\"middle\" y=\"397.0\">\n",
              "    <tspan class=\"displacy-word\" fill=\"currentColor\" x=\"2150\">Fort</tspan>\n",
              "    <tspan class=\"displacy-tag\" dy=\"2em\" fill=\"currentColor\" x=\"2150\">PROPN</tspan>\n",
              "</text>\n",
              "\n",
              "<text class=\"displacy-token\" fill=\"currentColor\" text-anchor=\"middle\" y=\"397.0\">\n",
              "    <tspan class=\"displacy-word\" fill=\"currentColor\" x=\"2325\">in</tspan>\n",
              "    <tspan class=\"displacy-tag\" dy=\"2em\" fill=\"currentColor\" x=\"2325\">ADP</tspan>\n",
              "</text>\n",
              "\n",
              "<text class=\"displacy-token\" fill=\"currentColor\" text-anchor=\"middle\" y=\"397.0\">\n",
              "    <tspan class=\"displacy-word\" fill=\"currentColor\" x=\"2500\">Maharashtra,</tspan>\n",
              "    <tspan class=\"displacy-tag\" dy=\"2em\" fill=\"currentColor\" x=\"2500\">PROPN</tspan>\n",
              "</text>\n",
              "\n",
              "<text class=\"displacy-token\" fill=\"currentColor\" text-anchor=\"middle\" y=\"397.0\">\n",
              "    <tspan class=\"displacy-word\" fill=\"currentColor\" x=\"2675\">to</tspan>\n",
              "    <tspan class=\"displacy-tag\" dy=\"2em\" fill=\"currentColor\" x=\"2675\">ADP</tspan>\n",
              "</text>\n",
              "\n",
              "<text class=\"displacy-token\" fill=\"currentColor\" text-anchor=\"middle\" y=\"397.0\">\n",
              "    <tspan class=\"displacy-word\" fill=\"currentColor\" x=\"2850\">Shahaji</tspan>\n",
              "    <tspan class=\"displacy-tag\" dy=\"2em\" fill=\"currentColor\" x=\"2850\">PROPN</tspan>\n",
              "</text>\n",
              "\n",
              "<text class=\"displacy-token\" fill=\"currentColor\" text-anchor=\"middle\" y=\"397.0\">\n",
              "    <tspan class=\"displacy-word\" fill=\"currentColor\" x=\"3025\">Bhonsle,</tspan>\n",
              "    <tspan class=\"displacy-tag\" dy=\"2em\" fill=\"currentColor\" x=\"3025\">PROPN</tspan>\n",
              "</text>\n",
              "\n",
              "<text class=\"displacy-token\" fill=\"currentColor\" text-anchor=\"middle\" y=\"397.0\">\n",
              "    <tspan class=\"displacy-word\" fill=\"currentColor\" x=\"3200\">a</tspan>\n",
              "    <tspan class=\"displacy-tag\" dy=\"2em\" fill=\"currentColor\" x=\"3200\">DET</tspan>\n",
              "</text>\n",
              "\n",
              "<text class=\"displacy-token\" fill=\"currentColor\" text-anchor=\"middle\" y=\"397.0\">\n",
              "    <tspan class=\"displacy-word\" fill=\"currentColor\" x=\"3375\">Maratha</tspan>\n",
              "    <tspan class=\"displacy-tag\" dy=\"2em\" fill=\"currentColor\" x=\"3375\">PROPN</tspan>\n",
              "</text>\n",
              "\n",
              "<text class=\"displacy-token\" fill=\"currentColor\" text-anchor=\"middle\" y=\"397.0\">\n",
              "    <tspan class=\"displacy-word\" fill=\"currentColor\" x=\"3550\">general,</tspan>\n",
              "    <tspan class=\"displacy-tag\" dy=\"2em\" fill=\"currentColor\" x=\"3550\">NOUN</tspan>\n",
              "</text>\n",
              "\n",
              "<text class=\"displacy-token\" fill=\"currentColor\" text-anchor=\"middle\" y=\"397.0\">\n",
              "    <tspan class=\"displacy-word\" fill=\"currentColor\" x=\"3725\">and</tspan>\n",
              "    <tspan class=\"displacy-tag\" dy=\"2em\" fill=\"currentColor\" x=\"3725\">CCONJ</tspan>\n",
              "</text>\n",
              "\n",
              "<text class=\"displacy-token\" fill=\"currentColor\" text-anchor=\"middle\" y=\"397.0\">\n",
              "    <tspan class=\"displacy-word\" fill=\"currentColor\" x=\"3900\">Jijabai,</tspan>\n",
              "    <tspan class=\"displacy-tag\" dy=\"2em\" fill=\"currentColor\" x=\"3900\">PROPN</tspan>\n",
              "</text>\n",
              "\n",
              "<text class=\"displacy-token\" fill=\"currentColor\" text-anchor=\"middle\" y=\"397.0\">\n",
              "    <tspan class=\"displacy-word\" fill=\"currentColor\" x=\"4075\">who</tspan>\n",
              "    <tspan class=\"displacy-tag\" dy=\"2em\" fill=\"currentColor\" x=\"4075\">PRON</tspan>\n",
              "</text>\n",
              "\n",
              "<text class=\"displacy-token\" fill=\"currentColor\" text-anchor=\"middle\" y=\"397.0\">\n",
              "    <tspan class=\"displacy-word\" fill=\"currentColor\" x=\"4250\">deeply</tspan>\n",
              "    <tspan class=\"displacy-tag\" dy=\"2em\" fill=\"currentColor\" x=\"4250\">ADV</tspan>\n",
              "</text>\n",
              "\n",
              "<text class=\"displacy-token\" fill=\"currentColor\" text-anchor=\"middle\" y=\"397.0\">\n",
              "    <tspan class=\"displacy-word\" fill=\"currentColor\" x=\"4425\">influenced</tspan>\n",
              "    <tspan class=\"displacy-tag\" dy=\"2em\" fill=\"currentColor\" x=\"4425\">VERB</tspan>\n",
              "</text>\n",
              "\n",
              "<text class=\"displacy-token\" fill=\"currentColor\" text-anchor=\"middle\" y=\"397.0\">\n",
              "    <tspan class=\"displacy-word\" fill=\"currentColor\" x=\"4600\">Shivaji</tspan>\n",
              "    <tspan class=\"displacy-tag\" dy=\"2em\" fill=\"currentColor\" x=\"4600\">PROPN</tspan>\n",
              "</text>\n",
              "\n",
              "<text class=\"displacy-token\" fill=\"currentColor\" text-anchor=\"middle\" y=\"397.0\">\n",
              "    <tspan class=\"displacy-word\" fill=\"currentColor\" x=\"4775\">with</tspan>\n",
              "    <tspan class=\"displacy-tag\" dy=\"2em\" fill=\"currentColor\" x=\"4775\">ADP</tspan>\n",
              "</text>\n",
              "\n",
              "<text class=\"displacy-token\" fill=\"currentColor\" text-anchor=\"middle\" y=\"397.0\">\n",
              "    <tspan class=\"displacy-word\" fill=\"currentColor\" x=\"4950\">her</tspan>\n",
              "    <tspan class=\"displacy-tag\" dy=\"2em\" fill=\"currentColor\" x=\"4950\">PRON</tspan>\n",
              "</text>\n",
              "\n",
              "<text class=\"displacy-token\" fill=\"currentColor\" text-anchor=\"middle\" y=\"397.0\">\n",
              "    <tspan class=\"displacy-word\" fill=\"currentColor\" x=\"5125\">teachings</tspan>\n",
              "    <tspan class=\"displacy-tag\" dy=\"2em\" fill=\"currentColor\" x=\"5125\">NOUN</tspan>\n",
              "</text>\n",
              "\n",
              "<text class=\"displacy-token\" fill=\"currentColor\" text-anchor=\"middle\" y=\"397.0\">\n",
              "    <tspan class=\"displacy-word\" fill=\"currentColor\" x=\"5300\">on</tspan>\n",
              "    <tspan class=\"displacy-tag\" dy=\"2em\" fill=\"currentColor\" x=\"5300\">ADP</tspan>\n",
              "</text>\n",
              "\n",
              "<text class=\"displacy-token\" fill=\"currentColor\" text-anchor=\"middle\" y=\"397.0\">\n",
              "    <tspan class=\"displacy-word\" fill=\"currentColor\" x=\"5475\">dharma,</tspan>\n",
              "    <tspan class=\"displacy-tag\" dy=\"2em\" fill=\"currentColor\" x=\"5475\">PROPN</tspan>\n",
              "</text>\n",
              "\n",
              "<text class=\"displacy-token\" fill=\"currentColor\" text-anchor=\"middle\" y=\"397.0\">\n",
              "    <tspan class=\"displacy-word\" fill=\"currentColor\" x=\"5650\">bravery,</tspan>\n",
              "    <tspan class=\"displacy-tag\" dy=\"2em\" fill=\"currentColor\" x=\"5650\">NOUN</tspan>\n",
              "</text>\n",
              "\n",
              "<text class=\"displacy-token\" fill=\"currentColor\" text-anchor=\"middle\" y=\"397.0\">\n",
              "    <tspan class=\"displacy-word\" fill=\"currentColor\" x=\"5825\">and</tspan>\n",
              "    <tspan class=\"displacy-tag\" dy=\"2em\" fill=\"currentColor\" x=\"5825\">CCONJ</tspan>\n",
              "</text>\n",
              "\n",
              "<text class=\"displacy-token\" fill=\"currentColor\" text-anchor=\"middle\" y=\"397.0\">\n",
              "    <tspan class=\"displacy-word\" fill=\"currentColor\" x=\"6000\">justice.</tspan>\n",
              "    <tspan class=\"displacy-tag\" dy=\"2em\" fill=\"currentColor\" x=\"6000\">NOUN</tspan>\n",
              "</text>\n",
              "\n",
              "<g class=\"displacy-arrow\">\n",
              "    <path class=\"displacy-arc\" id=\"arrow-7a1bdc4482f944cdbef6e9403693aa54-0-0\" stroke-width=\"2px\" d=\"M70,352.0 C70,264.5 210.0,264.5 210.0,352.0\" fill=\"none\" stroke=\"currentColor\"/>\n",
              "    <text dy=\"1.25em\" style=\"font-size: 0.8em; letter-spacing: 1px\">\n",
              "        <textPath xlink:href=\"#arrow-7a1bdc4482f944cdbef6e9403693aa54-0-0\" class=\"displacy-label\" startOffset=\"50%\" side=\"left\" fill=\"currentColor\" text-anchor=\"middle\">dep</textPath>\n",
              "    </text>\n",
              "    <path class=\"displacy-arrowhead\" d=\"M70,354.0 L62,342.0 78,342.0\" fill=\"currentColor\"/>\n",
              "</g>\n",
              "\n",
              "<g class=\"displacy-arrow\">\n",
              "    <path class=\"displacy-arc\" id=\"arrow-7a1bdc4482f944cdbef6e9403693aa54-0-1\" stroke-width=\"2px\" d=\"M245,352.0 C245,177.0 565.0,177.0 565.0,352.0\" fill=\"none\" stroke=\"currentColor\"/>\n",
              "    <text dy=\"1.25em\" style=\"font-size: 0.8em; letter-spacing: 1px\">\n",
              "        <textPath xlink:href=\"#arrow-7a1bdc4482f944cdbef6e9403693aa54-0-1\" class=\"displacy-label\" startOffset=\"50%\" side=\"left\" fill=\"currentColor\" text-anchor=\"middle\">compound</textPath>\n",
              "    </text>\n",
              "    <path class=\"displacy-arrowhead\" d=\"M245,354.0 L237,342.0 253,342.0\" fill=\"currentColor\"/>\n",
              "</g>\n",
              "\n",
              "<g class=\"displacy-arrow\">\n",
              "    <path class=\"displacy-arc\" id=\"arrow-7a1bdc4482f944cdbef6e9403693aa54-0-2\" stroke-width=\"2px\" d=\"M420,352.0 C420,264.5 560.0,264.5 560.0,352.0\" fill=\"none\" stroke=\"currentColor\"/>\n",
              "    <text dy=\"1.25em\" style=\"font-size: 0.8em; letter-spacing: 1px\">\n",
              "        <textPath xlink:href=\"#arrow-7a1bdc4482f944cdbef6e9403693aa54-0-2\" class=\"displacy-label\" startOffset=\"50%\" side=\"left\" fill=\"currentColor\" text-anchor=\"middle\">compound</textPath>\n",
              "    </text>\n",
              "    <path class=\"displacy-arrowhead\" d=\"M420,354.0 L412,342.0 428,342.0\" fill=\"currentColor\"/>\n",
              "</g>\n",
              "\n",
              "<g class=\"displacy-arrow\">\n",
              "    <path class=\"displacy-arc\" id=\"arrow-7a1bdc4482f944cdbef6e9403693aa54-0-3\" stroke-width=\"2px\" d=\"M595,352.0 C595,177.0 915.0,177.0 915.0,352.0\" fill=\"none\" stroke=\"currentColor\"/>\n",
              "    <text dy=\"1.25em\" style=\"font-size: 0.8em; letter-spacing: 1px\">\n",
              "        <textPath xlink:href=\"#arrow-7a1bdc4482f944cdbef6e9403693aa54-0-3\" class=\"displacy-label\" startOffset=\"50%\" side=\"left\" fill=\"currentColor\" text-anchor=\"middle\">nsubjpass</textPath>\n",
              "    </text>\n",
              "    <path class=\"displacy-arrowhead\" d=\"M595,354.0 L587,342.0 603,342.0\" fill=\"currentColor\"/>\n",
              "</g>\n",
              "\n",
              "<g class=\"displacy-arrow\">\n",
              "    <path class=\"displacy-arc\" id=\"arrow-7a1bdc4482f944cdbef6e9403693aa54-0-4\" stroke-width=\"2px\" d=\"M770,352.0 C770,264.5 910.0,264.5 910.0,352.0\" fill=\"none\" stroke=\"currentColor\"/>\n",
              "    <text dy=\"1.25em\" style=\"font-size: 0.8em; letter-spacing: 1px\">\n",
              "        <textPath xlink:href=\"#arrow-7a1bdc4482f944cdbef6e9403693aa54-0-4\" class=\"displacy-label\" startOffset=\"50%\" side=\"left\" fill=\"currentColor\" text-anchor=\"middle\">auxpass</textPath>\n",
              "    </text>\n",
              "    <path class=\"displacy-arrowhead\" d=\"M770,354.0 L762,342.0 778,342.0\" fill=\"currentColor\"/>\n",
              "</g>\n",
              "\n",
              "<g class=\"displacy-arrow\">\n",
              "    <path class=\"displacy-arc\" id=\"arrow-7a1bdc4482f944cdbef6e9403693aa54-0-5\" stroke-width=\"2px\" d=\"M945,352.0 C945,264.5 1085.0,264.5 1085.0,352.0\" fill=\"none\" stroke=\"currentColor\"/>\n",
              "    <text dy=\"1.25em\" style=\"font-size: 0.8em; letter-spacing: 1px\">\n",
              "        <textPath xlink:href=\"#arrow-7a1bdc4482f944cdbef6e9403693aa54-0-5\" class=\"displacy-label\" startOffset=\"50%\" side=\"left\" fill=\"currentColor\" text-anchor=\"middle\">prep</textPath>\n",
              "    </text>\n",
              "    <path class=\"displacy-arrowhead\" d=\"M1085.0,354.0 L1093.0,342.0 1077.0,342.0\" fill=\"currentColor\"/>\n",
              "</g>\n",
              "\n",
              "<g class=\"displacy-arrow\">\n",
              "    <path class=\"displacy-arc\" id=\"arrow-7a1bdc4482f944cdbef6e9403693aa54-0-6\" stroke-width=\"2px\" d=\"M1120,352.0 C1120,264.5 1260.0,264.5 1260.0,352.0\" fill=\"none\" stroke=\"currentColor\"/>\n",
              "    <text dy=\"1.25em\" style=\"font-size: 0.8em; letter-spacing: 1px\">\n",
              "        <textPath xlink:href=\"#arrow-7a1bdc4482f944cdbef6e9403693aa54-0-6\" class=\"displacy-label\" startOffset=\"50%\" side=\"left\" fill=\"currentColor\" text-anchor=\"middle\">pobj</textPath>\n",
              "    </text>\n",
              "    <path class=\"displacy-arrowhead\" d=\"M1260.0,354.0 L1268.0,342.0 1252.0,342.0\" fill=\"currentColor\"/>\n",
              "</g>\n",
              "\n",
              "<g class=\"displacy-arrow\">\n",
              "    <path class=\"displacy-arc\" id=\"arrow-7a1bdc4482f944cdbef6e9403693aa54-0-7\" stroke-width=\"2px\" d=\"M1295,352.0 C1295,264.5 1435.0,264.5 1435.0,352.0\" fill=\"none\" stroke=\"currentColor\"/>\n",
              "    <text dy=\"1.25em\" style=\"font-size: 0.8em; letter-spacing: 1px\">\n",
              "        <textPath xlink:href=\"#arrow-7a1bdc4482f944cdbef6e9403693aa54-0-7\" class=\"displacy-label\" startOffset=\"50%\" side=\"left\" fill=\"currentColor\" text-anchor=\"middle\">nummod</textPath>\n",
              "    </text>\n",
              "    <path class=\"displacy-arrowhead\" d=\"M1435.0,354.0 L1443.0,342.0 1427.0,342.0\" fill=\"currentColor\"/>\n",
              "</g>\n",
              "\n",
              "<g class=\"displacy-arrow\">\n",
              "    <path class=\"displacy-arc\" id=\"arrow-7a1bdc4482f944cdbef6e9403693aa54-0-8\" stroke-width=\"2px\" d=\"M1295,352.0 C1295,177.0 1615.0,177.0 1615.0,352.0\" fill=\"none\" stroke=\"currentColor\"/>\n",
              "    <text dy=\"1.25em\" style=\"font-size: 0.8em; letter-spacing: 1px\">\n",
              "        <textPath xlink:href=\"#arrow-7a1bdc4482f944cdbef6e9403693aa54-0-8\" class=\"displacy-label\" startOffset=\"50%\" side=\"left\" fill=\"currentColor\" text-anchor=\"middle\">nummod</textPath>\n",
              "    </text>\n",
              "    <path class=\"displacy-arrowhead\" d=\"M1615.0,354.0 L1623.0,342.0 1607.0,342.0\" fill=\"currentColor\"/>\n",
              "</g>\n",
              "\n",
              "<g class=\"displacy-arrow\">\n",
              "    <path class=\"displacy-arc\" id=\"arrow-7a1bdc4482f944cdbef6e9403693aa54-0-9\" stroke-width=\"2px\" d=\"M1295,352.0 C1295,89.5 1795.0,89.5 1795.0,352.0\" fill=\"none\" stroke=\"currentColor\"/>\n",
              "    <text dy=\"1.25em\" style=\"font-size: 0.8em; letter-spacing: 1px\">\n",
              "        <textPath xlink:href=\"#arrow-7a1bdc4482f944cdbef6e9403693aa54-0-9\" class=\"displacy-label\" startOffset=\"50%\" side=\"left\" fill=\"currentColor\" text-anchor=\"middle\">prep</textPath>\n",
              "    </text>\n",
              "    <path class=\"displacy-arrowhead\" d=\"M1795.0,354.0 L1803.0,342.0 1787.0,342.0\" fill=\"currentColor\"/>\n",
              "</g>\n",
              "\n",
              "<g class=\"displacy-arrow\">\n",
              "    <path class=\"displacy-arc\" id=\"arrow-7a1bdc4482f944cdbef6e9403693aa54-0-10\" stroke-width=\"2px\" d=\"M1995,352.0 C1995,264.5 2135.0,264.5 2135.0,352.0\" fill=\"none\" stroke=\"currentColor\"/>\n",
              "    <text dy=\"1.25em\" style=\"font-size: 0.8em; letter-spacing: 1px\">\n",
              "        <textPath xlink:href=\"#arrow-7a1bdc4482f944cdbef6e9403693aa54-0-10\" class=\"displacy-label\" startOffset=\"50%\" side=\"left\" fill=\"currentColor\" text-anchor=\"middle\">compound</textPath>\n",
              "    </text>\n",
              "    <path class=\"displacy-arrowhead\" d=\"M1995,354.0 L1987,342.0 2003,342.0\" fill=\"currentColor\"/>\n",
              "</g>\n",
              "\n",
              "<g class=\"displacy-arrow\">\n",
              "    <path class=\"displacy-arc\" id=\"arrow-7a1bdc4482f944cdbef6e9403693aa54-0-11\" stroke-width=\"2px\" d=\"M1820,352.0 C1820,177.0 2140.0,177.0 2140.0,352.0\" fill=\"none\" stroke=\"currentColor\"/>\n",
              "    <text dy=\"1.25em\" style=\"font-size: 0.8em; letter-spacing: 1px\">\n",
              "        <textPath xlink:href=\"#arrow-7a1bdc4482f944cdbef6e9403693aa54-0-11\" class=\"displacy-label\" startOffset=\"50%\" side=\"left\" fill=\"currentColor\" text-anchor=\"middle\">pobj</textPath>\n",
              "    </text>\n",
              "    <path class=\"displacy-arrowhead\" d=\"M2140.0,354.0 L2148.0,342.0 2132.0,342.0\" fill=\"currentColor\"/>\n",
              "</g>\n",
              "\n",
              "<g class=\"displacy-arrow\">\n",
              "    <path class=\"displacy-arc\" id=\"arrow-7a1bdc4482f944cdbef6e9403693aa54-0-12\" stroke-width=\"2px\" d=\"M2170,352.0 C2170,264.5 2310.0,264.5 2310.0,352.0\" fill=\"none\" stroke=\"currentColor\"/>\n",
              "    <text dy=\"1.25em\" style=\"font-size: 0.8em; letter-spacing: 1px\">\n",
              "        <textPath xlink:href=\"#arrow-7a1bdc4482f944cdbef6e9403693aa54-0-12\" class=\"displacy-label\" startOffset=\"50%\" side=\"left\" fill=\"currentColor\" text-anchor=\"middle\">prep</textPath>\n",
              "    </text>\n",
              "    <path class=\"displacy-arrowhead\" d=\"M2310.0,354.0 L2318.0,342.0 2302.0,342.0\" fill=\"currentColor\"/>\n",
              "</g>\n",
              "\n",
              "<g class=\"displacy-arrow\">\n",
              "    <path class=\"displacy-arc\" id=\"arrow-7a1bdc4482f944cdbef6e9403693aa54-0-13\" stroke-width=\"2px\" d=\"M2345,352.0 C2345,264.5 2485.0,264.5 2485.0,352.0\" fill=\"none\" stroke=\"currentColor\"/>\n",
              "    <text dy=\"1.25em\" style=\"font-size: 0.8em; letter-spacing: 1px\">\n",
              "        <textPath xlink:href=\"#arrow-7a1bdc4482f944cdbef6e9403693aa54-0-13\" class=\"displacy-label\" startOffset=\"50%\" side=\"left\" fill=\"currentColor\" text-anchor=\"middle\">pobj</textPath>\n",
              "    </text>\n",
              "    <path class=\"displacy-arrowhead\" d=\"M2485.0,354.0 L2493.0,342.0 2477.0,342.0\" fill=\"currentColor\"/>\n",
              "</g>\n",
              "\n",
              "<g class=\"displacy-arrow\">\n",
              "    <path class=\"displacy-arc\" id=\"arrow-7a1bdc4482f944cdbef6e9403693aa54-0-14\" stroke-width=\"2px\" d=\"M945,352.0 C945,2.0 2675.0,2.0 2675.0,352.0\" fill=\"none\" stroke=\"currentColor\"/>\n",
              "    <text dy=\"1.25em\" style=\"font-size: 0.8em; letter-spacing: 1px\">\n",
              "        <textPath xlink:href=\"#arrow-7a1bdc4482f944cdbef6e9403693aa54-0-14\" class=\"displacy-label\" startOffset=\"50%\" side=\"left\" fill=\"currentColor\" text-anchor=\"middle\">prep</textPath>\n",
              "    </text>\n",
              "    <path class=\"displacy-arrowhead\" d=\"M2675.0,354.0 L2683.0,342.0 2667.0,342.0\" fill=\"currentColor\"/>\n",
              "</g>\n",
              "\n",
              "<g class=\"displacy-arrow\">\n",
              "    <path class=\"displacy-arc\" id=\"arrow-7a1bdc4482f944cdbef6e9403693aa54-0-15\" stroke-width=\"2px\" d=\"M2870,352.0 C2870,264.5 3010.0,264.5 3010.0,352.0\" fill=\"none\" stroke=\"currentColor\"/>\n",
              "    <text dy=\"1.25em\" style=\"font-size: 0.8em; letter-spacing: 1px\">\n",
              "        <textPath xlink:href=\"#arrow-7a1bdc4482f944cdbef6e9403693aa54-0-15\" class=\"displacy-label\" startOffset=\"50%\" side=\"left\" fill=\"currentColor\" text-anchor=\"middle\">compound</textPath>\n",
              "    </text>\n",
              "    <path class=\"displacy-arrowhead\" d=\"M2870,354.0 L2862,342.0 2878,342.0\" fill=\"currentColor\"/>\n",
              "</g>\n",
              "\n",
              "<g class=\"displacy-arrow\">\n",
              "    <path class=\"displacy-arc\" id=\"arrow-7a1bdc4482f944cdbef6e9403693aa54-0-16\" stroke-width=\"2px\" d=\"M2695,352.0 C2695,177.0 3015.0,177.0 3015.0,352.0\" fill=\"none\" stroke=\"currentColor\"/>\n",
              "    <text dy=\"1.25em\" style=\"font-size: 0.8em; letter-spacing: 1px\">\n",
              "        <textPath xlink:href=\"#arrow-7a1bdc4482f944cdbef6e9403693aa54-0-16\" class=\"displacy-label\" startOffset=\"50%\" side=\"left\" fill=\"currentColor\" text-anchor=\"middle\">pobj</textPath>\n",
              "    </text>\n",
              "    <path class=\"displacy-arrowhead\" d=\"M3015.0,354.0 L3023.0,342.0 3007.0,342.0\" fill=\"currentColor\"/>\n",
              "</g>\n",
              "\n",
              "<g class=\"displacy-arrow\">\n",
              "    <path class=\"displacy-arc\" id=\"arrow-7a1bdc4482f944cdbef6e9403693aa54-0-17\" stroke-width=\"2px\" d=\"M3220,352.0 C3220,177.0 3540.0,177.0 3540.0,352.0\" fill=\"none\" stroke=\"currentColor\"/>\n",
              "    <text dy=\"1.25em\" style=\"font-size: 0.8em; letter-spacing: 1px\">\n",
              "        <textPath xlink:href=\"#arrow-7a1bdc4482f944cdbef6e9403693aa54-0-17\" class=\"displacy-label\" startOffset=\"50%\" side=\"left\" fill=\"currentColor\" text-anchor=\"middle\">det</textPath>\n",
              "    </text>\n",
              "    <path class=\"displacy-arrowhead\" d=\"M3220,354.0 L3212,342.0 3228,342.0\" fill=\"currentColor\"/>\n",
              "</g>\n",
              "\n",
              "<g class=\"displacy-arrow\">\n",
              "    <path class=\"displacy-arc\" id=\"arrow-7a1bdc4482f944cdbef6e9403693aa54-0-18\" stroke-width=\"2px\" d=\"M3395,352.0 C3395,264.5 3535.0,264.5 3535.0,352.0\" fill=\"none\" stroke=\"currentColor\"/>\n",
              "    <text dy=\"1.25em\" style=\"font-size: 0.8em; letter-spacing: 1px\">\n",
              "        <textPath xlink:href=\"#arrow-7a1bdc4482f944cdbef6e9403693aa54-0-18\" class=\"displacy-label\" startOffset=\"50%\" side=\"left\" fill=\"currentColor\" text-anchor=\"middle\">compound</textPath>\n",
              "    </text>\n",
              "    <path class=\"displacy-arrowhead\" d=\"M3395,354.0 L3387,342.0 3403,342.0\" fill=\"currentColor\"/>\n",
              "</g>\n",
              "\n",
              "<g class=\"displacy-arrow\">\n",
              "    <path class=\"displacy-arc\" id=\"arrow-7a1bdc4482f944cdbef6e9403693aa54-0-19\" stroke-width=\"2px\" d=\"M3045,352.0 C3045,89.5 3545.0,89.5 3545.0,352.0\" fill=\"none\" stroke=\"currentColor\"/>\n",
              "    <text dy=\"1.25em\" style=\"font-size: 0.8em; letter-spacing: 1px\">\n",
              "        <textPath xlink:href=\"#arrow-7a1bdc4482f944cdbef6e9403693aa54-0-19\" class=\"displacy-label\" startOffset=\"50%\" side=\"left\" fill=\"currentColor\" text-anchor=\"middle\">appos</textPath>\n",
              "    </text>\n",
              "    <path class=\"displacy-arrowhead\" d=\"M3545.0,354.0 L3553.0,342.0 3537.0,342.0\" fill=\"currentColor\"/>\n",
              "</g>\n",
              "\n",
              "<g class=\"displacy-arrow\">\n",
              "    <path class=\"displacy-arc\" id=\"arrow-7a1bdc4482f944cdbef6e9403693aa54-0-20\" stroke-width=\"2px\" d=\"M3570,352.0 C3570,264.5 3710.0,264.5 3710.0,352.0\" fill=\"none\" stroke=\"currentColor\"/>\n",
              "    <text dy=\"1.25em\" style=\"font-size: 0.8em; letter-spacing: 1px\">\n",
              "        <textPath xlink:href=\"#arrow-7a1bdc4482f944cdbef6e9403693aa54-0-20\" class=\"displacy-label\" startOffset=\"50%\" side=\"left\" fill=\"currentColor\" text-anchor=\"middle\">cc</textPath>\n",
              "    </text>\n",
              "    <path class=\"displacy-arrowhead\" d=\"M3710.0,354.0 L3718.0,342.0 3702.0,342.0\" fill=\"currentColor\"/>\n",
              "</g>\n",
              "\n",
              "<g class=\"displacy-arrow\">\n",
              "    <path class=\"displacy-arc\" id=\"arrow-7a1bdc4482f944cdbef6e9403693aa54-0-21\" stroke-width=\"2px\" d=\"M3570,352.0 C3570,177.0 3890.0,177.0 3890.0,352.0\" fill=\"none\" stroke=\"currentColor\"/>\n",
              "    <text dy=\"1.25em\" style=\"font-size: 0.8em; letter-spacing: 1px\">\n",
              "        <textPath xlink:href=\"#arrow-7a1bdc4482f944cdbef6e9403693aa54-0-21\" class=\"displacy-label\" startOffset=\"50%\" side=\"left\" fill=\"currentColor\" text-anchor=\"middle\">conj</textPath>\n",
              "    </text>\n",
              "    <path class=\"displacy-arrowhead\" d=\"M3890.0,354.0 L3898.0,342.0 3882.0,342.0\" fill=\"currentColor\"/>\n",
              "</g>\n",
              "\n",
              "<g class=\"displacy-arrow\">\n",
              "    <path class=\"displacy-arc\" id=\"arrow-7a1bdc4482f944cdbef6e9403693aa54-0-22\" stroke-width=\"2px\" d=\"M4095,352.0 C4095,177.0 4415.0,177.0 4415.0,352.0\" fill=\"none\" stroke=\"currentColor\"/>\n",
              "    <text dy=\"1.25em\" style=\"font-size: 0.8em; letter-spacing: 1px\">\n",
              "        <textPath xlink:href=\"#arrow-7a1bdc4482f944cdbef6e9403693aa54-0-22\" class=\"displacy-label\" startOffset=\"50%\" side=\"left\" fill=\"currentColor\" text-anchor=\"middle\">nsubj</textPath>\n",
              "    </text>\n",
              "    <path class=\"displacy-arrowhead\" d=\"M4095,354.0 L4087,342.0 4103,342.0\" fill=\"currentColor\"/>\n",
              "</g>\n",
              "\n",
              "<g class=\"displacy-arrow\">\n",
              "    <path class=\"displacy-arc\" id=\"arrow-7a1bdc4482f944cdbef6e9403693aa54-0-23\" stroke-width=\"2px\" d=\"M4270,352.0 C4270,264.5 4410.0,264.5 4410.0,352.0\" fill=\"none\" stroke=\"currentColor\"/>\n",
              "    <text dy=\"1.25em\" style=\"font-size: 0.8em; letter-spacing: 1px\">\n",
              "        <textPath xlink:href=\"#arrow-7a1bdc4482f944cdbef6e9403693aa54-0-23\" class=\"displacy-label\" startOffset=\"50%\" side=\"left\" fill=\"currentColor\" text-anchor=\"middle\">advmod</textPath>\n",
              "    </text>\n",
              "    <path class=\"displacy-arrowhead\" d=\"M4270,354.0 L4262,342.0 4278,342.0\" fill=\"currentColor\"/>\n",
              "</g>\n",
              "\n",
              "<g class=\"displacy-arrow\">\n",
              "    <path class=\"displacy-arc\" id=\"arrow-7a1bdc4482f944cdbef6e9403693aa54-0-24\" stroke-width=\"2px\" d=\"M3570,352.0 C3570,89.5 4420.0,89.5 4420.0,352.0\" fill=\"none\" stroke=\"currentColor\"/>\n",
              "    <text dy=\"1.25em\" style=\"font-size: 0.8em; letter-spacing: 1px\">\n",
              "        <textPath xlink:href=\"#arrow-7a1bdc4482f944cdbef6e9403693aa54-0-24\" class=\"displacy-label\" startOffset=\"50%\" side=\"left\" fill=\"currentColor\" text-anchor=\"middle\">relcl</textPath>\n",
              "    </text>\n",
              "    <path class=\"displacy-arrowhead\" d=\"M4420.0,354.0 L4428.0,342.0 4412.0,342.0\" fill=\"currentColor\"/>\n",
              "</g>\n",
              "\n",
              "<g class=\"displacy-arrow\">\n",
              "    <path class=\"displacy-arc\" id=\"arrow-7a1bdc4482f944cdbef6e9403693aa54-0-25\" stroke-width=\"2px\" d=\"M4445,352.0 C4445,264.5 4585.0,264.5 4585.0,352.0\" fill=\"none\" stroke=\"currentColor\"/>\n",
              "    <text dy=\"1.25em\" style=\"font-size: 0.8em; letter-spacing: 1px\">\n",
              "        <textPath xlink:href=\"#arrow-7a1bdc4482f944cdbef6e9403693aa54-0-25\" class=\"displacy-label\" startOffset=\"50%\" side=\"left\" fill=\"currentColor\" text-anchor=\"middle\">dobj</textPath>\n",
              "    </text>\n",
              "    <path class=\"displacy-arrowhead\" d=\"M4585.0,354.0 L4593.0,342.0 4577.0,342.0\" fill=\"currentColor\"/>\n",
              "</g>\n",
              "\n",
              "<g class=\"displacy-arrow\">\n",
              "    <path class=\"displacy-arc\" id=\"arrow-7a1bdc4482f944cdbef6e9403693aa54-0-26\" stroke-width=\"2px\" d=\"M4445,352.0 C4445,177.0 4765.0,177.0 4765.0,352.0\" fill=\"none\" stroke=\"currentColor\"/>\n",
              "    <text dy=\"1.25em\" style=\"font-size: 0.8em; letter-spacing: 1px\">\n",
              "        <textPath xlink:href=\"#arrow-7a1bdc4482f944cdbef6e9403693aa54-0-26\" class=\"displacy-label\" startOffset=\"50%\" side=\"left\" fill=\"currentColor\" text-anchor=\"middle\">prep</textPath>\n",
              "    </text>\n",
              "    <path class=\"displacy-arrowhead\" d=\"M4765.0,354.0 L4773.0,342.0 4757.0,342.0\" fill=\"currentColor\"/>\n",
              "</g>\n",
              "\n",
              "<g class=\"displacy-arrow\">\n",
              "    <path class=\"displacy-arc\" id=\"arrow-7a1bdc4482f944cdbef6e9403693aa54-0-27\" stroke-width=\"2px\" d=\"M4970,352.0 C4970,264.5 5110.0,264.5 5110.0,352.0\" fill=\"none\" stroke=\"currentColor\"/>\n",
              "    <text dy=\"1.25em\" style=\"font-size: 0.8em; letter-spacing: 1px\">\n",
              "        <textPath xlink:href=\"#arrow-7a1bdc4482f944cdbef6e9403693aa54-0-27\" class=\"displacy-label\" startOffset=\"50%\" side=\"left\" fill=\"currentColor\" text-anchor=\"middle\">poss</textPath>\n",
              "    </text>\n",
              "    <path class=\"displacy-arrowhead\" d=\"M4970,354.0 L4962,342.0 4978,342.0\" fill=\"currentColor\"/>\n",
              "</g>\n",
              "\n",
              "<g class=\"displacy-arrow\">\n",
              "    <path class=\"displacy-arc\" id=\"arrow-7a1bdc4482f944cdbef6e9403693aa54-0-28\" stroke-width=\"2px\" d=\"M4795,352.0 C4795,177.0 5115.0,177.0 5115.0,352.0\" fill=\"none\" stroke=\"currentColor\"/>\n",
              "    <text dy=\"1.25em\" style=\"font-size: 0.8em; letter-spacing: 1px\">\n",
              "        <textPath xlink:href=\"#arrow-7a1bdc4482f944cdbef6e9403693aa54-0-28\" class=\"displacy-label\" startOffset=\"50%\" side=\"left\" fill=\"currentColor\" text-anchor=\"middle\">pobj</textPath>\n",
              "    </text>\n",
              "    <path class=\"displacy-arrowhead\" d=\"M5115.0,354.0 L5123.0,342.0 5107.0,342.0\" fill=\"currentColor\"/>\n",
              "</g>\n",
              "\n",
              "<g class=\"displacy-arrow\">\n",
              "    <path class=\"displacy-arc\" id=\"arrow-7a1bdc4482f944cdbef6e9403693aa54-0-29\" stroke-width=\"2px\" d=\"M5145,352.0 C5145,264.5 5285.0,264.5 5285.0,352.0\" fill=\"none\" stroke=\"currentColor\"/>\n",
              "    <text dy=\"1.25em\" style=\"font-size: 0.8em; letter-spacing: 1px\">\n",
              "        <textPath xlink:href=\"#arrow-7a1bdc4482f944cdbef6e9403693aa54-0-29\" class=\"displacy-label\" startOffset=\"50%\" side=\"left\" fill=\"currentColor\" text-anchor=\"middle\">prep</textPath>\n",
              "    </text>\n",
              "    <path class=\"displacy-arrowhead\" d=\"M5285.0,354.0 L5293.0,342.0 5277.0,342.0\" fill=\"currentColor\"/>\n",
              "</g>\n",
              "\n",
              "<g class=\"displacy-arrow\">\n",
              "    <path class=\"displacy-arc\" id=\"arrow-7a1bdc4482f944cdbef6e9403693aa54-0-30\" stroke-width=\"2px\" d=\"M5320,352.0 C5320,264.5 5460.0,264.5 5460.0,352.0\" fill=\"none\" stroke=\"currentColor\"/>\n",
              "    <text dy=\"1.25em\" style=\"font-size: 0.8em; letter-spacing: 1px\">\n",
              "        <textPath xlink:href=\"#arrow-7a1bdc4482f944cdbef6e9403693aa54-0-30\" class=\"displacy-label\" startOffset=\"50%\" side=\"left\" fill=\"currentColor\" text-anchor=\"middle\">pobj</textPath>\n",
              "    </text>\n",
              "    <path class=\"displacy-arrowhead\" d=\"M5460.0,354.0 L5468.0,342.0 5452.0,342.0\" fill=\"currentColor\"/>\n",
              "</g>\n",
              "\n",
              "<g class=\"displacy-arrow\">\n",
              "    <path class=\"displacy-arc\" id=\"arrow-7a1bdc4482f944cdbef6e9403693aa54-0-31\" stroke-width=\"2px\" d=\"M5495,352.0 C5495,264.5 5635.0,264.5 5635.0,352.0\" fill=\"none\" stroke=\"currentColor\"/>\n",
              "    <text dy=\"1.25em\" style=\"font-size: 0.8em; letter-spacing: 1px\">\n",
              "        <textPath xlink:href=\"#arrow-7a1bdc4482f944cdbef6e9403693aa54-0-31\" class=\"displacy-label\" startOffset=\"50%\" side=\"left\" fill=\"currentColor\" text-anchor=\"middle\">conj</textPath>\n",
              "    </text>\n",
              "    <path class=\"displacy-arrowhead\" d=\"M5635.0,354.0 L5643.0,342.0 5627.0,342.0\" fill=\"currentColor\"/>\n",
              "</g>\n",
              "\n",
              "<g class=\"displacy-arrow\">\n",
              "    <path class=\"displacy-arc\" id=\"arrow-7a1bdc4482f944cdbef6e9403693aa54-0-32\" stroke-width=\"2px\" d=\"M5670,352.0 C5670,264.5 5810.0,264.5 5810.0,352.0\" fill=\"none\" stroke=\"currentColor\"/>\n",
              "    <text dy=\"1.25em\" style=\"font-size: 0.8em; letter-spacing: 1px\">\n",
              "        <textPath xlink:href=\"#arrow-7a1bdc4482f944cdbef6e9403693aa54-0-32\" class=\"displacy-label\" startOffset=\"50%\" side=\"left\" fill=\"currentColor\" text-anchor=\"middle\">cc</textPath>\n",
              "    </text>\n",
              "    <path class=\"displacy-arrowhead\" d=\"M5810.0,354.0 L5818.0,342.0 5802.0,342.0\" fill=\"currentColor\"/>\n",
              "</g>\n",
              "\n",
              "<g class=\"displacy-arrow\">\n",
              "    <path class=\"displacy-arc\" id=\"arrow-7a1bdc4482f944cdbef6e9403693aa54-0-33\" stroke-width=\"2px\" d=\"M5670,352.0 C5670,177.0 5990.0,177.0 5990.0,352.0\" fill=\"none\" stroke=\"currentColor\"/>\n",
              "    <text dy=\"1.25em\" style=\"font-size: 0.8em; letter-spacing: 1px\">\n",
              "        <textPath xlink:href=\"#arrow-7a1bdc4482f944cdbef6e9403693aa54-0-33\" class=\"displacy-label\" startOffset=\"50%\" side=\"left\" fill=\"currentColor\" text-anchor=\"middle\">conj</textPath>\n",
              "    </text>\n",
              "    <path class=\"displacy-arrowhead\" d=\"M5990.0,354.0 L5998.0,342.0 5982.0,342.0\" fill=\"currentColor\"/>\n",
              "</g>\n",
              "</svg></span>"
            ]
          },
          "metadata": {}
        }
      ]
    },
    {
      "cell_type": "markdown",
      "source": [
        "#10- Phrase Matching\n"
      ],
      "metadata": {
        "id": "wACR8fHfd2Dy"
      },
      "id": "wACR8fHfd2Dy"
    },
    {
      "cell_type": "code",
      "source": [
        "#Identify occurrences of the phrase \"Maratha Empire\" using spaCy's PhraseMatcher.\n",
        "from spacy.matcher import PhraseMatcher\n",
        "# Initialize the PhraseMatcher\n",
        "matcher = PhraseMatcher(nlp.vocab)\n",
        "\n",
        "# Create the phrase patterns to match\n",
        "phrase = nlp(\"Maratha Empire\")\n",
        "matcher.add(\"MarathaEmpire\", [phrase])\n",
        "\n",
        "# Find matches in the doc\n",
        "matches = matcher(doc)\n",
        "\n",
        "# Display the occurrences\n",
        "for match_id, start, end in matches:\n",
        "    matched_span = doc[start:end]\n",
        "    print(f\"Found '{matched_span.text}' at positions {start}-{end}\")\n",
        "\n"
      ],
      "metadata": {
        "colab": {
          "base_uri": "https://localhost:8080/"
        },
        "id": "TUj50ckud0Da",
        "outputId": "b90ce623-3793-4d5a-cf5b-f7acd9fcc4a7"
      },
      "id": "TUj50ckud0Da",
      "execution_count": 112,
      "outputs": [
        {
          "output_type": "stream",
          "name": "stdout",
          "text": [
            "Found 'Maratha Empire' at positions 314-316\n",
            "Found 'Maratha Empire' at positions 508-510\n",
            "Found 'Maratha Empire' at positions 592-594\n"
          ]
        }
      ]
    },
    {
      "cell_type": "code",
      "source": [
        "#Use spaCy’s Matcher to find patterns where Shivaji Maharaj is mentioned along with actions (verbs).\n",
        "\n",
        "from spacy.matcher import Matcher\n",
        "\n",
        "# Load the spaCy model\n",
        "nlp = spacy.load(\"en_core_web_sm\")\n",
        "\n",
        "# Process the text with spaCy\n",
        "doc = nlp(text)\n",
        "\n",
        "# Initialize the Matcher\n",
        "matcher = Matcher(nlp.vocab)\n",
        "\n",
        "# Define the pattern to match \"Shivaji Maharaj\" followed by a verb\n",
        "pattern = [\n",
        "    {\"LOWER\": \"shivaji\"},\n",
        "    {\"LOWER\": \"maharaj\"},\n",
        "    {\"IS_ALPHA\": True, \"POS\": \"VERB\"}  # Followed by a verb\n",
        "]\n",
        "\n",
        "matcher.add(\"ShivajiActions\", [pattern])\n",
        "\n",
        "# Find matches in the doc\n",
        "matches = matcher(doc)\n",
        "\n",
        "# Display the occurrences\n",
        "if matches:\n",
        "    for match_id, start, end in matches:\n",
        "        matched_span = doc[start:end]\n",
        "        print(f\"Found: '{matched_span.text}' at positions {start}-{end}\")\n",
        "else:\n",
        "    print(\"No matches found.\")\n"
      ],
      "metadata": {
        "colab": {
          "base_uri": "https://localhost:8080/"
        },
        "id": "rhgfjhjieC9a",
        "outputId": "9e7336bc-392e-46a0-a9a9-9e920f339729"
      },
      "id": "rhgfjhjieC9a",
      "execution_count": 113,
      "outputs": [
        {
          "output_type": "stream",
          "name": "stdout",
          "text": [
            "No matches found.\n"
          ]
        }
      ]
    },
    {
      "cell_type": "markdown",
      "source": [
        "#11- Sentence Similarity\n",
        "\n"
      ],
      "metadata": {
        "id": "aaVoVSGnhH9H"
      },
      "id": "aaVoVSGnhH9H"
    },
    {
      "cell_type": "code",
      "source": [
        "#Calculate the similarity between the first two sentences of the text using spaCy.\n",
        "# Calculate the similarity between the first two sentences\n",
        "# Extract the first two sentences\n",
        "sentences = list(doc.sents)\n",
        "first_sentence = sentences[0]\n",
        "second_sentence = sentences[1]\n",
        "\n",
        "# Calculate the similarity between the two sentences\n",
        "similarity = first_sentence.similarity(second_sentence)\n",
        "\n",
        "# Display the similarity score\n",
        "print(f\"Similarity between the first two sentences: {similarity:.4f}\")\n",
        "\n"
      ],
      "metadata": {
        "colab": {
          "base_uri": "https://localhost:8080/"
        },
        "id": "F4ORjAs4fLD7",
        "outputId": "cf06443c-b11c-417e-d5cb-d4941cf9dc7c"
      },
      "id": "F4ORjAs4fLD7",
      "execution_count": 114,
      "outputs": [
        {
          "output_type": "stream",
          "name": "stdout",
          "text": [
            "Similarity between the first two sentences: 0.5064\n"
          ]
        },
        {
          "output_type": "stream",
          "name": "stderr",
          "text": [
            "<ipython-input-114-ac2b2a9bf700>:9: UserWarning: [W007] The model you're using has no word vectors loaded, so the result of the Span.similarity method will be based on the tagger, parser and NER, which may not give useful similarity judgements. This may happen if you're using one of the small models, e.g. `en_core_web_sm`, which don't ship with word vectors and only use context-sensitive tensors. You can always add your own word vectors, or use one of the larger models instead if available.\n",
            "  similarity = first_sentence.similarity(second_sentence)\n"
          ]
        }
      ]
    },
    {
      "cell_type": "code",
      "source": [
        "#Use TextBlob to compute the similarity between sentences mentioning \"Shivaji\" and \"Mughal Empire.\"\n",
        "# Extract sentences\n",
        "sentences = blob.sentences\n",
        "\n",
        "# Initialize variables to hold the sentences\n",
        "shivaji_sentence = None\n",
        "mughal_sentence = None\n",
        "\n",
        "# Find sentences mentioning \"Shivaji\" and \"Mughal Empire\"\n",
        "for sentence in sentences:\n",
        "    if \"Shivaji\" in sentence.raw:\n",
        "        shivaji_sentence = sentence\n",
        "    if \"Mughal Empire\" in sentence.raw:\n",
        "        mughal_sentence = sentence\n",
        "\n",
        "# Calculate similarity using spaCy if both sentences are found\n",
        "if shivaji_sentence and mughal_sentence:\n",
        "    # Convert TextBlob sentences to spaCy Docs\n",
        "     doc1 = nlp(shivaji_sentence.raw)\n",
        "     doc2 = nlp(mughal_sentence.raw)\n",
        "    # Calculate similarity using spaCy's similarity method\n",
        "     similarity = doc1.similarity(doc2)\n",
        "     print(f\"Similarity between sentences mentioning 'Shivaji' and 'Mughal Empire': {similarity:.4f}\")\n",
        "else:\n",
        "    print(\"One or both sentences not found.\")"
      ],
      "metadata": {
        "id": "ihc9x_8BhS8X",
        "colab": {
          "base_uri": "https://localhost:8080/"
        },
        "outputId": "8900841c-14ab-401f-b6db-b4da9b0dabaf"
      },
      "id": "ihc9x_8BhS8X",
      "execution_count": 115,
      "outputs": [
        {
          "output_type": "stream",
          "name": "stdout",
          "text": [
            "Similarity between sentences mentioning 'Shivaji' and 'Mughal Empire': 0.7467\n"
          ]
        },
        {
          "output_type": "stream",
          "name": "stderr",
          "text": [
            "<ipython-input-115-760f8a308400>:22: UserWarning: [W007] The model you're using has no word vectors loaded, so the result of the Doc.similarity method will be based on the tagger, parser and NER, which may not give useful similarity judgements. This may happen if you're using one of the small models, e.g. `en_core_web_sm`, which don't ship with word vectors and only use context-sensitive tensors. You can always add your own word vectors, or use one of the larger models instead if available.\n",
            "  similarity = doc1.similarity(doc2)\n"
          ]
        }
      ]
    },
    {
      "cell_type": "markdown",
      "source": [
        "#12- Translation\n"
      ],
      "metadata": {
        "id": "5gRN6xKij7Vm"
      },
      "id": "5gRN6xKij7Vm"
    },
    {
      "cell_type": "code",
      "source": [
        "!pip install deep-translator"
      ],
      "metadata": {
        "colab": {
          "base_uri": "https://localhost:8080/"
        },
        "id": "eJpchlMsllSF",
        "outputId": "856ecf36-6335-4500-a622-a349d6d15406"
      },
      "id": "eJpchlMsllSF",
      "execution_count": 116,
      "outputs": [
        {
          "output_type": "stream",
          "name": "stdout",
          "text": [
            "Requirement already satisfied: deep-translator in /usr/local/lib/python3.10/dist-packages (1.11.4)\n",
            "Requirement already satisfied: beautifulsoup4<5.0.0,>=4.9.1 in /usr/local/lib/python3.10/dist-packages (from deep-translator) (4.12.3)\n",
            "Requirement already satisfied: requests<3.0.0,>=2.23.0 in /usr/local/lib/python3.10/dist-packages (from deep-translator) (2.32.3)\n",
            "Requirement already satisfied: soupsieve>1.2 in /usr/local/lib/python3.10/dist-packages (from beautifulsoup4<5.0.0,>=4.9.1->deep-translator) (2.6)\n",
            "Requirement already satisfied: charset-normalizer<4,>=2 in /usr/local/lib/python3.10/dist-packages (from requests<3.0.0,>=2.23.0->deep-translator) (3.4.0)\n",
            "Requirement already satisfied: idna<4,>=2.5 in /usr/local/lib/python3.10/dist-packages (from requests<3.0.0,>=2.23.0->deep-translator) (3.10)\n",
            "Requirement already satisfied: urllib3<3,>=1.21.1 in /usr/local/lib/python3.10/dist-packages (from requests<3.0.0,>=2.23.0->deep-translator) (2.2.3)\n",
            "Requirement already satisfied: certifi>=2017.4.17 in /usr/local/lib/python3.10/dist-packages (from requests<3.0.0,>=2.23.0->deep-translator) (2024.8.30)\n"
          ]
        }
      ]
    },
    {
      "cell_type": "code",
      "source": [
        "#Translate the first paragraph into Hindi using TextBlob.\n",
        "from deep_translator import GoogleTranslator\n",
        "\n",
        "# Translate the text into Hindi\n",
        "translated_text = GoogleTranslator(source='en', target='hi').translate(text)\n",
        "\n",
        "# Print the translated text\n",
        "translated_text\n"
      ],
      "metadata": {
        "colab": {
          "base_uri": "https://localhost:8080/",
          "height": 145
        },
        "id": "iDccZbl1idaK",
        "outputId": "abc75196-6c5a-49d5-cd2b-24205b304914"
      },
      "id": "iDccZbl1idaK",
      "execution_count": 117,
      "outputs": [
        {
          "output_type": "execute_result",
          "data": {
            "text/plain": [
              "'छत्रपति शिवाजी महाराज का जन्म 19 फरवरी, 1630 को महाराष्ट्र के शिवनेरी किले में, मराठा सेनापति शाहजी भोंसले और जीजाबाई के घर हुआ था, जिन्होंने धर्म, बहादुरी और न्याय की अपनी शिक्षाओं से शिवाजी को गहराई से प्रभावित किया था। कम उम्र से ही, शिवाजी ने उल्लेखनीय नेतृत्व गुणों का प्रदर्शन किया, वफादार अनुयायियों का एक समूह बनाया और सह्याद्री पहाड़ों के बीहड़ इलाकों में अपने सैन्य कौशल को बढ़ाया। वह ऐसे समय में बड़ा हुआ जब सम्राट औरंगजेब और दक्कन सल्तनत के अधीन मुगल साम्राज्य नियंत्रण के लिए होड़ कर रहा था, अक्सर स्थानीय आबादी पर अत्याचार करता था, जिसने उसे बहुत परेशान किया और मराठों के लिए स्वराज्य, या स्व-शासन स्थापित करने की उसकी इच्छा को बढ़ावा दिया। 16 साल की उम्र तक, शिवाजी ने गुरिल्ला युद्ध रणनीति का उपयोग करके अपने पहले किले, तोरण पर कब्जा कर लिया था जैसे-जैसे उनकी विजय बढ़ती गई, उन्होंने स्थानीय नेताओं के साथ गठबंधन किया, रायगढ़, कोंडाना और पुरंदर जैसे प्रमुख किलों को सुरक्षित किया, पश्चिमी भारत में एक ठोस क्षेत्रीय आधार स्थापित किया। 1659 में, उन्होंने बीजापुर सल्तनत के एक प्रमुख सेनापति अफ़ज़ल खान का सामना किया और उसे हराया, जिससे एक बहादुर और सामरिक नेता के रूप में उनकी प्रतिष्ठा मजबूत हुई; यह जीत डेक्कन के अधिकांश हिस्से पर अपना नियंत्रण स्थापित करने में महत्वपूर्ण थी। मुगल क्षेत्रों पर शिवाजी के छापे और 1666 में आगरा में औरंगज़ेब के चंगुल से उनके भागने ने उनकी किंवदंती को और मजबूत किया। उन्होंने महसूस किया कि विदेशी आक्रमणों से अपने क्षेत्रों की रक्षा के लिए एक शक्तिशाली नौसेना महत्वपूर्ण थी, जिसके कारण उन्होंने भारत में सबसे शुरुआती संगठित नौसेना बलों में से एक विकसित किया, जिससे उन्हें पुर्तगाली, ब्रिटिश और सिद्दी सेनाओं के खिलाफ तटीय क्षेत्रों को सुरक्षित करने में मदद मिली। 1674 में, उन्होंने औपचारिक रूप से रायगढ़ किले में छत्रपति के रूप में खुद को ताज पहनाया, अपनी स्वतंत्रता की घोषणा की और मराठा साम्राज्य की स्थापना की, इस प्रकार वे हिंदवी स्वराज्य की स्थापना करने वाले पहले राजा बन गए, जो भारतीय लोकाचार में निहित एक संरचित प्रशासनिक ढांचे वाला एक स्वायत्त राज्य था। शिवाजी की प्रशासनिक व्यवस्था अत्यधिक कुशल थी, और उन्होंने अपने लोगों के कल्याण पर जोर दिया, भ्रष्टाचार को कम करने और एक निष्पक्ष कर संरचना बनाने के लिए सिस्टम स्थापित किए; उनके अष्ट प्रधान (आठ मंत्रियों की परिषद) में सुचारू शासन सुनिश्चित करने के लिए वित्त, आंतरिक मामले, विदेश नीति और सैन्य विभाग शामिल थे। शिवाजी ने शासन के प्रति एक प्रगतिशील दृष्टिकोण दिखाया, धार्मिक सहिष्णुता को बढ़ावा दिया और अपने साम्राज्य के भीतर विविधता का सम्मान किया, यहाँ तक कि मुसलमानों को अपने प्रशासन में प्रमुख पदों पर नियुक्त किया और महिलाओं के उत्पीड़न और धार्मिक स्थलों की लूट पर प्रतिबंध लगा दिया। महिलाओं के प्रति उनके सम्मान और न्याय के लिए उनकी वकालत ने उनके लोगों के बीच विश्वास और वफादारी को प्रेरित किया, जिससे वे अपने समय के लिए एक आदर्श शासक बन गए। शिवाजी महाराज की गुरिल्ला रणनीति, जिसे \"गनीमी कावा\" के रूप में जाना जाता है, प्रसिद्ध हो गई और उन्हें बार-बार बहुत बड़ी और बेहतर सुसज्जित सेनाओं को मात देने में सक्षम बनाया, जिससे उन्हें नुकसान को कम करते हुए अपने साम्राज्य का विस्तार करने में मदद मिली। जैसे-जैसे उनकी प्रसिद्धि बढ़ी, मराठा साम्राज्य ने महाराष्ट्र से परे क्षेत्रों को प्रभावित करना शुरू कर दिया, और मराठा सेना अंततः पूरे भारत में एक महत्वपूर्ण शक्ति बन गई। शिवाजी का निधन 3 अप्रैल, 1680 को रायगढ़ किले में हुआ था, वे अपने पीछे एक शक्तिशाली विरासत और एक सुव्यवस्थित राज्य छोड़ गए थे जो उनकी मृत्यु के बाद भी बढ़ता रहा। उनका जीवन और आदर्श - वीरता, सभी धर्मों के प्रति सम्मान और स्वशासन - लाखों लोगों को प्रेरित करते हैं, और उनकी विरासत भारत के इतिहास और संस्कृति में मराठा साम्राज्य के योगदान के रूप में कायम है।'"
            ],
            "application/vnd.google.colaboratory.intrinsic+json": {
              "type": "string"
            }
          },
          "metadata": {},
          "execution_count": 117
        }
      ]
    },
    {
      "cell_type": "code",
      "source": [
        "#Translate the phrase \"Hindavi Swarajya\" into French using TextBlob\n",
        "# Translate the phrase into French\n",
        "# Phrase to translate\n",
        "phrase = \"Hindavi Swarajya\"\n",
        "\n",
        "# Create a TextBlob object\n",
        "blob1 = TextBlob(phrase)\n",
        "\n",
        "translated_french = GoogleTranslator(source='auto', target='fr').translate(phrase)\n",
        "\n",
        "# Translate the phrase into French\n",
        "try:\n",
        "    translated_blob = blob1.translate(to='fr')\n",
        "    # Print the translated text\n",
        "    print(translated_blob)\n",
        "except Exception as e:\n",
        "    print(translated_french)"
      ],
      "metadata": {
        "colab": {
          "base_uri": "https://localhost:8080/"
        },
        "id": "7lDJCld6kHKP",
        "outputId": "5251f8b8-0235-4471-9564-a2d31f147b57"
      },
      "id": "7lDJCld6kHKP",
      "execution_count": 118,
      "outputs": [
        {
          "output_type": "stream",
          "name": "stdout",
          "text": [
            "Hindavi Swarajya\n"
          ]
        }
      ]
    },
    {
      "cell_type": "markdown",
      "source": [
        "#13- Keyword Extraction\n",
        "\n"
      ],
      "metadata": {
        "id": "R4bE3j2UmwaP"
      },
      "id": "R4bE3j2UmwaP"
    },
    {
      "cell_type": "code",
      "source": [
        "#Extract keywords using NLTK’s frequency distribution (common nouns and verbs).\n",
        "# Tokenize the text into words\n",
        "words = word_tokenize(text)\n",
        "\n",
        "# Perform part-of-speech tagging\n",
        "tagged_words = pos_tag(words)\n",
        "\n",
        "# Filter for common nouns (NN, NNS) and verbs (VB, VBD, VBG, VBN, VBP, VBZ)\n",
        "nouns_and_verbs = [word for word, pos in tagged_words if pos.startswith('NN') or pos.startswith('VB')]\n",
        "\n",
        "# Compute frequency distribution\n",
        "freq_dist = FreqDist(nouns_and_verbs)\n",
        "\n",
        "# Get the most common nouns and verbs\n",
        "common_keywords = freq_dist.most_common(10)\n",
        "\n",
        "# Print the common keywords\n",
        "print(\"Common nouns and verbs:\")\n",
        "for word, frequency in common_keywords:\n",
        "    print(f\"{word}: {frequency}\")\n"
      ],
      "metadata": {
        "colab": {
          "base_uri": "https://localhost:8080/"
        },
        "id": "rmIge1Whl3R5",
        "outputId": "4ac6332b-073f-4bbf-bfa0-760d30ca2036"
      },
      "id": "rmIge1Whl3R5",
      "execution_count": 119,
      "outputs": [
        {
          "output_type": "stream",
          "name": "stdout",
          "text": [
            "Common nouns and verbs:\n",
            "Shivaji: 9\n",
            "Maratha: 5\n",
            "’: 5\n",
            "was: 4\n",
            "Empire: 4\n",
            "India: 4\n",
            "Fort: 3\n",
            "grew: 3\n",
            "Raigad: 3\n",
            "establishing: 3\n"
          ]
        }
      ]
    },
    {
      "cell_type": "code",
      "source": [
        "#Use spaCy to identify and list unique keywords from the text (filter out stop words).\n",
        "\n",
        "# Extract unique keywords (nouns and verbs), filtering out stop words and punctuation\n",
        "unique_keywords = set()\n",
        "\n",
        "for token in doc:\n",
        "    if not token.is_stop and not token.is_punct and (token.pos_ in ['NOUN', 'VERB']):\n",
        "        unique_keywords.add(token.lemma_)  # Use the lemma for base forms of words\n",
        "\n",
        "# Convert the set to a sorted list for easier viewing\n",
        "unique_keywords_list = sorted(unique_keywords)\n",
        "\n",
        "# Print the unique keywords\n",
        "print(\"Unique keywords (nouns and verbs):\")\n",
        "for keyword in unique_keywords_list:\n",
        "    print(keyword)\n"
      ],
      "metadata": {
        "colab": {
          "base_uri": "https://localhost:8080/"
        },
        "id": "uGrktOUqm6oh",
        "outputId": "24bbd48d-fd9b-4bb4-ceb7-aa1ecf5392ea"
      },
      "id": "uGrktOUqm6oh",
      "execution_count": 120,
      "outputs": [
        {
          "output_type": "stream",
          "name": "stdout",
          "text": [
            "Unique keywords (nouns and verbs):\n",
            "administration\n",
            "advocacy\n",
            "affair\n",
            "age\n",
            "alliance\n",
            "allow\n",
            "appoint\n",
            "approach\n",
            "area\n",
            "army\n",
            "ban\n",
            "base\n",
            "bear\n",
            "begin\n",
            "bolster\n",
            "bravery\n",
            "capture\n",
            "clutch\n",
            "conquest\n",
            "continue\n",
            "contribution\n",
            "control\n",
            "corruption\n",
            "create\n",
            "crown\n",
            "culture\n",
            "death\n",
            "declare\n",
            "defeat\n",
            "department\n",
            "desire\n",
            "develop\n",
            "disturb\n",
            "diversity\n",
            "emphasize\n",
            "empire\n",
            "enable\n",
            "endure\n",
            "ensure\n",
            "equip\n",
            "escape\n",
            "establish\n",
            "ethos\n",
            "exhibit\n",
            "expand\n",
            "face\n",
            "faith\n",
            "fame\n",
            "finance\n",
            "follower\n",
            "force\n",
            "form\n",
            "fort\n",
            "framework\n",
            "fuel\n",
            "general\n",
            "governance\n",
            "group\n",
            "grow\n",
            "guerrilla\n",
            "hallmark\n",
            "harassment\n",
            "history\n",
            "hone\n",
            "ideal\n",
            "include\n",
            "independence\n",
            "influence\n",
            "inspire\n",
            "invasion\n",
            "justice\n",
            "king\n",
            "kingdom\n",
            "know\n",
            "lead\n",
            "leader\n",
            "leadership\n",
            "leave\n",
            "legacy\n",
            "legend\n",
            "life\n",
            "looting\n",
            "loss\n",
            "loyalty\n",
            "make\n",
            "military\n",
            "million\n",
            "minimize\n",
            "mountain\n",
            "navy\n",
            "oppress\n",
            "organize\n",
            "outmaneuver\n",
            "pass\n",
            "people\n",
            "policy\n",
            "population\n",
            "position\n",
            "power\n",
            "promote\n",
            "quality\n",
            "raid\n",
            "realize\n",
            "reduce\n",
            "region\n",
            "reputation\n",
            "respect\n",
            "root\n",
            "rule\n",
            "ruler\n",
            "safeguard\n",
            "secure\n",
            "self\n",
            "set\n",
            "show\n",
            "site\n",
            "skill\n",
            "solidify\n",
            "state\n",
            "strategy\n",
            "structure\n",
            "system\n",
            "tactic\n",
            "tax\n",
            "teaching\n",
            "terrain\n",
            "territory\n",
            "time\n",
            "tolerance\n",
            "trust\n",
            "valor\n",
            "victory\n",
            "vie\n",
            "warfare\n",
            "welfare\n",
            "woman\n"
          ]
        }
      ]
    },
    {
      "cell_type": "markdown",
      "source": [
        "#14- Coreference Resolution\n",
        "\n"
      ],
      "metadata": {
        "id": "c2D1hsg0n3lv"
      },
      "id": "c2D1hsg0n3lv"
    },
    {
      "cell_type": "code",
      "source": [
        "!pip install git+https://github.com/huggingface/neuralcoref.git\n"
      ],
      "metadata": {
        "colab": {
          "base_uri": "https://localhost:8080/"
        },
        "id": "-kjzmB7HqYkr",
        "outputId": "f9ad09e7-96b5-4d20-c06d-4e7178ba70ca"
      },
      "id": "-kjzmB7HqYkr",
      "execution_count": 121,
      "outputs": [
        {
          "output_type": "stream",
          "name": "stdout",
          "text": [
            "Collecting git+https://github.com/huggingface/neuralcoref.git\n",
            "  Cloning https://github.com/huggingface/neuralcoref.git to /tmp/pip-req-build-5td7v56h\n",
            "  Running command git clone --filter=blob:none --quiet https://github.com/huggingface/neuralcoref.git /tmp/pip-req-build-5td7v56h\n",
            "  Resolved https://github.com/huggingface/neuralcoref.git to commit 60338df6f9b0a44a6728b442193b7c66653b0731\n",
            "  \u001b[1;31merror\u001b[0m: \u001b[1msubprocess-exited-with-error\u001b[0m\n",
            "  \n",
            "  \u001b[31m×\u001b[0m \u001b[32mpython setup.py egg_info\u001b[0m did not run successfully.\n",
            "  \u001b[31m│\u001b[0m exit code: \u001b[1;36m1\u001b[0m\n",
            "  \u001b[31m╰─>\u001b[0m See above for output.\n",
            "  \n",
            "  \u001b[1;35mnote\u001b[0m: This error originates from a subprocess, and is likely not a problem with pip.\n",
            "  Preparing metadata (setup.py) ... \u001b[?25l\u001b[?25herror\n",
            "\u001b[1;31merror\u001b[0m: \u001b[1mmetadata-generation-failed\u001b[0m\n",
            "\n",
            "\u001b[31m×\u001b[0m Encountered error while generating package metadata.\n",
            "\u001b[31m╰─>\u001b[0m See above for output.\n",
            "\n",
            "\u001b[1;35mnote\u001b[0m: This is an issue with the package mentioned above, not pip.\n",
            "\u001b[1;36mhint\u001b[0m: See above for details.\n"
          ]
        }
      ]
    },
    {
      "cell_type": "code",
      "source": [
        "!pip install neuralcoref --quiet"
      ],
      "metadata": {
        "colab": {
          "base_uri": "https://localhost:8080/"
        },
        "id": "E3TyVce1oV6h",
        "outputId": "31f4057c-694d-41ac-b00f-be0c13c991a5"
      },
      "id": "E3TyVce1oV6h",
      "execution_count": 122,
      "outputs": [
        {
          "output_type": "stream",
          "name": "stdout",
          "text": [
            "  \u001b[1;31merror\u001b[0m: \u001b[1msubprocess-exited-with-error\u001b[0m\n",
            "  \n",
            "  \u001b[31m×\u001b[0m \u001b[32mpython setup.py egg_info\u001b[0m did not run successfully.\n",
            "  \u001b[31m│\u001b[0m exit code: \u001b[1;36m1\u001b[0m\n",
            "  \u001b[31m╰─>\u001b[0m See above for output.\n",
            "  \n",
            "  \u001b[1;35mnote\u001b[0m: This error originates from a subprocess, and is likely not a problem with pip.\n",
            "  Preparing metadata (setup.py) ... \u001b[?25l\u001b[?25herror\n",
            "\u001b[1;31merror\u001b[0m: \u001b[1mmetadata-generation-failed\u001b[0m\n",
            "\n",
            "\u001b[31m×\u001b[0m Encountered error while generating package metadata.\n",
            "\u001b[31m╰─>\u001b[0m See above for output.\n",
            "\n",
            "\u001b[1;35mnote\u001b[0m: This is an issue with the package mentioned above, not pip.\n",
            "\u001b[1;36mhint\u001b[0m: See above for details.\n"
          ]
        }
      ]
    },
    {
      "cell_type": "code",
      "source": [
        "#Use spaCy's neuralcoref extension to resolve pronouns in the text.\n",
        "import neuralcoref\n",
        "# Add neuralcoref to the spaCy pipeline\n",
        "neuralcoref.add_to_pipe(nlp)\n",
        "\n",
        "# Access the resolved text\n",
        "resolved_text = doc._.coref_resolved\n",
        "\n",
        "# Print the resolved text\n",
        "print(resolved_text)"
      ],
      "metadata": {
        "colab": {
          "base_uri": "https://localhost:8080/",
          "height": 401
        },
        "id": "1vP6M5hdnym9",
        "outputId": "122bd83c-ce4c-4ec9-bc67-e41da01c7f0e"
      },
      "id": "1vP6M5hdnym9",
      "execution_count": 123,
      "outputs": [
        {
          "output_type": "error",
          "ename": "ModuleNotFoundError",
          "evalue": "No module named 'neuralcoref'",
          "traceback": [
            "\u001b[0;31m---------------------------------------------------------------------------\u001b[0m",
            "\u001b[0;31mModuleNotFoundError\u001b[0m                       Traceback (most recent call last)",
            "\u001b[0;32m<ipython-input-123-effdea0b9862>\u001b[0m in \u001b[0;36m<cell line: 2>\u001b[0;34m()\u001b[0m\n\u001b[1;32m      1\u001b[0m \u001b[0;31m#Use spaCy's neuralcoref extension to resolve pronouns in the text.\u001b[0m\u001b[0;34m\u001b[0m\u001b[0;34m\u001b[0m\u001b[0m\n\u001b[0;32m----> 2\u001b[0;31m \u001b[0;32mimport\u001b[0m \u001b[0mneuralcoref\u001b[0m\u001b[0;34m\u001b[0m\u001b[0;34m\u001b[0m\u001b[0m\n\u001b[0m\u001b[1;32m      3\u001b[0m \u001b[0;31m# Add neuralcoref to the spaCy pipeline\u001b[0m\u001b[0;34m\u001b[0m\u001b[0;34m\u001b[0m\u001b[0m\n\u001b[1;32m      4\u001b[0m \u001b[0mneuralcoref\u001b[0m\u001b[0;34m.\u001b[0m\u001b[0madd_to_pipe\u001b[0m\u001b[0;34m(\u001b[0m\u001b[0mnlp\u001b[0m\u001b[0;34m)\u001b[0m\u001b[0;34m\u001b[0m\u001b[0;34m\u001b[0m\u001b[0m\n\u001b[1;32m      5\u001b[0m \u001b[0;34m\u001b[0m\u001b[0m\n",
            "\u001b[0;31mModuleNotFoundError\u001b[0m: No module named 'neuralcoref'",
            "",
            "\u001b[0;31m---------------------------------------------------------------------------\u001b[0;32m\nNOTE: If your import is failing due to a missing package, you can\nmanually install dependencies using either !pip or !apt.\n\nTo view examples of installing some common dependencies, click the\n\"Open Examples\" button below.\n\u001b[0;31m---------------------------------------------------------------------------\u001b[0m\n"
          ],
          "errorDetails": {
            "actions": [
              {
                "action": "open_url",
                "actionText": "Open Examples",
                "url": "/notebooks/snippets/importing_libraries.ipynb"
              }
            ]
          }
        }
      ]
    },
    {
      "cell_type": "code",
      "source": [
        "#Identify any instances where pronouns can be replaced with entity names for better clarity.\n",
        "\n",
        "# Prepare a mapping of pronouns to their referents\n",
        "pronoun_to_entity = {}\n",
        "\n",
        "# Identify named entities and their text\n",
        "entities = {ent.text: ent for ent in doc.ents}\n",
        "\n",
        "# Loop through tokens to find pronouns and map them to entities\n",
        "for token in doc:\n",
        "    if token.pos_ == \"PRON\":\n",
        "        # Look for the preceding noun that is a named entity\n",
        "         if token.dep_ == \"nsubj\" and any(token.head.i in range(ent.start, ent.end) for ent in doc.ents):\n",
        "            # Find the entity that the head is part of\n",
        "            for ent in doc.ents:\n",
        "                if token.head.i in range(ent.start, ent.end):\n",
        "                    pronoun_to_entity[token.text] = ent.text\n",
        "                    break\n",
        "\n",
        "# Print the mapping of pronouns to entities\n",
        "print(\"Pronouns and their referents:\")\n",
        "for pronoun, entity in pronoun_to_entity.items():\n",
        "    print(f\"{pronoun} -> {entity}\")\n",
        "\n",
        "# Replace pronouns with corresponding entities in the text for better clarity\n",
        "resolved_text = text\n",
        "for pronoun, entity in pronoun_to_entity.items():\n",
        "    resolved_text = resolved_text.replace(pronoun, entity)\n",
        "\n",
        "print(\"\\nResolved Text for Clarity:\")\n",
        "print(resolved_text)"
      ],
      "metadata": {
        "colab": {
          "base_uri": "https://localhost:8080/"
        },
        "id": "zGPoPcpMoBft",
        "outputId": "2371edbb-f8a6-4c4e-ebe8-d4e48dc75f68"
      },
      "id": "zGPoPcpMoBft",
      "execution_count": 130,
      "outputs": [
        {
          "output_type": "stream",
          "name": "stdout",
          "text": [
            "Pronouns and their referents:\n",
            "\n",
            "Resolved Text for Clarity:\n",
            " Chhatrapati Shivaji Maharaj was born on February 19, 1630, at Shivneri Fort in Maharashtra, to Shahaji Bhonsle, a Maratha general, and Jijabai, who deeply influenced Shivaji with her teachings on dharma, bravery, and justice. From an early age, Shivaji exhibited remarkable leadership qualities, forming a group of loyal followers and honing his military skills in the rugged terrain of the Sahyadri mountains. He grew up during a time when the Mughal Empire under Emperor Aurangzeb and the Deccan Sultanates were vying for control, often oppressing the local population, which deeply disturbed him and fueled his desire to establish Swarajya, or self-rule for the Marathas. By the age of 16, Shivaji had captured his first fort, Torna, using guerrilla warfare tactics that would later become a hallmark of his military strategy. As his conquests grew, he formed alliances with local leaders, securing key forts like Raigad, Kondana, and Purandar, establishing a solid territorial base in western India. In 1659, he faced and defeated Afzal Khan, a prominent general of the Bijapur Sultanate, solidifying his reputation as a brave and tactical leader; this victory was crucial in establishing his control over much of the Deccan. Shivaji’s raids on Mughal territories and his escape from the clutches of Aurangzeb in Agra in 1666 further bolstered his legend. He realized that a powerful navy was crucial to safeguard his territories from foreign invasions, leading him to develop one of the earliest organized naval forces in India, allowing him to secure coastal areas against Portuguese, British, and Siddis forces. In 1674, he formally crowned himself as Chhatrapati at Raigad Fort, declaring his independence and establishing the Maratha Empire, thus becoming the first king to establish Hindavi Swarajya, an autonomous kingdom with a structured administrative framework rooted in Indian ethos. Shivaji’s administrative system was highly efficient, and he emphasized the welfare of his people, setting up systems to reduce corruption and create a fair tax structure; his Ashta Pradhan (Council of Eight Ministers) included departments for finance, internal affairs, foreign policy, and military to ensure smooth governance. Shivaji showed a progressive approach towards governance, promoting religious tolerance and respecting the diversity within his empire, even appointing Muslims to key positions in his administration and banning the harassment of women and looting of religious sites. His respect for women and his advocacy for justice inspired trust and loyalty among his people, making him an ideal ruler for his time. Shivaji Maharaj’s guerrilla tactics, known as “Ganimi Kava,” became legendary and enabled him to outmaneuver much larger and better-equipped armies repeatedly, allowing him to expand his empire while minimizing losses. As his fame grew, the Maratha Empire began to influence regions far beyond Maharashtra, with Maratha forces eventually becoming a significant power across India. Shivaji passed away on April 3, 1680, at Raigad Fort, leaving behind a powerful legacy and a well-organized state that continued to expand after his death. His life and ideals—valor, respect for all faiths, and self-rule—continue to inspire millions, and his legacy endures in the form of the Maratha Empire’s contributions to India’s history and culture.\n"
          ]
        }
      ]
    },
    {
      "cell_type": "markdown",
      "source": [
        "#15- Sentiment Polarity Distribution\n",
        "\n"
      ],
      "metadata": {
        "id": "biU4XvWstHFQ"
      },
      "id": "biU4XvWstHFQ"
    },
    {
      "cell_type": "code",
      "source": [
        "#Calculate and plot the sentiment polarity distribution for each sentence in the text using TextBlob.\n",
        "import matplotlib.pyplot as plt\n",
        "\n",
        "# Process the text and split into sentences\n",
        "sentences = [sent.text for sent in doc.sents]\n",
        "\n",
        "# Calculate sentiment polarity for each sentence\n",
        "polarities = [TextBlob(sentence).sentiment.polarity for sentence in sentences]\n",
        "\n",
        "#Plotting the sentiment polarity distribution as a line plot\n",
        "plt.figure(figsize=(10, 6))\n",
        "plt.plot(range(len(sentences)), polarities, marker='o', linestyle='-', color='skyblue')\n",
        "plt.xticks(range(len(sentences)), [f\"Sentence {i+1}\" for i in range(len(sentences))], rotation=90, fontsize=10)\n",
        "plt.xlabel('Sentences')\n",
        "plt.ylabel('Sentiment Polarity')\n",
        "plt.title('Sentiment Polarity Distribution of Each Sentence')\n",
        "plt.axhline(0, color='black', linewidth=0.8, linestyle='--')  # Line at polarity = 0\n",
        "plt.ylim(-1, 1)  # Limit the y-axis for better visibility\n",
        "plt.grid()\n",
        "plt.tight_layout()\n",
        "plt.show()\n",
        "\n"
      ],
      "metadata": {
        "colab": {
          "base_uri": "https://localhost:8080/",
          "height": 607
        },
        "id": "AZYWsxyrsxfV",
        "outputId": "a52147df-48ca-41d6-b550-ecb55c6cc81e"
      },
      "id": "AZYWsxyrsxfV",
      "execution_count": 138,
      "outputs": [
        {
          "output_type": "display_data",
          "data": {
            "text/plain": [
              "<Figure size 1000x600 with 1 Axes>"
            ],
            "image/png": "[encoded data removed]"
          },
          "metadata": {}
        }
      ]
    },
    {
      "cell_type": "code",
      "source": [
        "#Identify and display the most positive and most negative sentences based on sentiment scores.\n",
        "# Find the most positive sentence\n",
        "most_positive_sentence = max(sentences, key=lambda sentence: TextBlob(sentence).sentiment.polarity)\n",
        "\n",
        "# Find the most negative sentence\n",
        "most_negative_sentence = min(sentences, key=lambda sentence: TextBlob(sentence).sentiment.polarity)\n",
        "\n",
        "# Print the most positive and most negative sentences\n",
        "print(f\"Most Positive Sentence: {most_positive_sentence}\")\n",
        "print(f\"Most Negative Sentence: {most_negative_sentence}\")"
      ],
      "metadata": {
        "colab": {
          "base_uri": "https://localhost:8080/"
        },
        "id": "klwmRITStV5W",
        "outputId": "98ee573e-ecd5-404f-dae9-100d1aed7889"
      },
      "id": "klwmRITStV5W",
      "execution_count": 139,
      "outputs": [
        {
          "output_type": "stream",
          "name": "stdout",
          "text": [
            "Most Positive Sentence: His respect for women and his advocacy for justice inspired trust and loyalty among his people, making him an ideal ruler for his time.\n",
            "Most Negative Sentence: As his conquests grew, he formed alliances with local leaders, securing key forts like Raigad, Kondana, and Purandar, establishing a solid territorial base in western India.\n"
          ]
        }
      ]
    },
    {
      "cell_type": "markdown",
      "source": [
        "#16- Extract Dates and Events\n",
        "\n"
      ],
      "metadata": {
        "id": "-TyGiIyUv6aO"
      },
      "id": "-TyGiIyUv6aO"
    },
    {
      "cell_type": "code",
      "source": [
        "#Identify all dates mentioned in the text using spaCy.\n",
        "# Extract all dates\n",
        "dates = [ent.text for ent in doc.ents if ent.label_ == \"DATE\"]\n",
        "\n",
        "# Print the dates\n",
        "print(\"Dates mentioned in the text:\")\n",
        "for date in dates:\n",
        "    print(date)\n",
        "\n"
      ],
      "metadata": {
        "colab": {
          "base_uri": "https://localhost:8080/"
        },
        "id": "2qXbHfeUvyCE",
        "outputId": "b3def4cf-18e7-459d-9818-2c1f09e4c7d6"
      },
      "id": "2qXbHfeUvyCE",
      "execution_count": 140,
      "outputs": [
        {
          "output_type": "stream",
          "name": "stdout",
          "text": [
            "Dates mentioned in the text:\n",
            "February 19, 1630\n",
            "the age of 16\n",
            "1659\n",
            "1666\n",
            "1674\n",
            "April 3, 1680\n"
          ]
        }
      ]
    },
    {
      "cell_type": "code",
      "source": [
        "#Use regex to find sentences related to events happening in specific years (e.g., 1674 or 1680).\n",
        "\n",
        "import re\n",
        "\n",
        "# Regular expression pattern to match sentences related to events in specific years\n",
        "pattern = r\"\\b(?:1674|1680)\\b\"\n",
        "\n",
        "# Find sentences related to specified years\n",
        "related_sentences = []\n",
        "for sentence in sentences:\n",
        "    if re.search(pattern, sentence):\n",
        "        related_sentences.append(sentence)\n",
        "\n",
        "# Display the results\n",
        "print(\"Sentences related to events in specific years:\")\n",
        "for sentence in related_sentences:\n",
        "    print(sentence)\n",
        "\n"
      ],
      "metadata": {
        "colab": {
          "base_uri": "https://localhost:8080/"
        },
        "id": "r3Xq6waOwEiS",
        "outputId": "8a809f91-0465-42cd-be5c-d6ccf2c9d28b"
      },
      "id": "r3Xq6waOwEiS",
      "execution_count": 141,
      "outputs": [
        {
          "output_type": "stream",
          "name": "stdout",
          "text": [
            "Sentences related to events in specific years:\n",
            "In 1674, he formally crowned himself as Chhatrapati at Raigad Fort, declaring his independence and establishing the Maratha Empire, thus becoming the first king to establish Hindavi Swarajya, an autonomous kingdom with a structured administrative framework rooted in Indian ethos.\n",
            "Shivaji passed away on April 3, 1680, at Raigad Fort, leaving behind a powerful legacy and a well-organized state that continued to expand after his death.\n"
          ]
        }
      ]
    },
    {
      "cell_type": "markdown",
      "source": [
        "#17- Synonyms and Antonyms\n",
        "\n"
      ],
      "metadata": {
        "id": "PfFbTDQjwxnw"
      },
      "id": "PfFbTDQjwxnw"
    },
    {
      "cell_type": "code",
      "source": [
        "#Use TextBlob's WordNet to find synonyms for \"bravery,\" \"justice,\" and \"valor.\"\n",
        "from textblob import Word\n",
        "# Words to find synonyms for\n",
        "words = [\"bravery\", \"justice\", \"valor\"]\n",
        "\n",
        "# Function to find synonyms\n",
        "def find_synonyms(word):\n",
        "    synonyms = set()  # Use a set to avoid duplicate synonyms\n",
        "    for syn in Word(word).synsets:\n",
        "        for lemma in syn.lemmas():\n",
        "            synonyms.add(lemma.name())  # Add synonym to the set\n",
        "    return synonyms\n",
        "\n",
        "# Find and display synonyms for each word\n",
        "for word in words:\n",
        "    synonyms = find_synonyms(word)\n",
        "    print(f\"Synonyms for '{word}': {', '.join(synonyms)}\")"
      ],
      "metadata": {
        "colab": {
          "base_uri": "https://localhost:8080/"
        },
        "id": "DNsl2SGQwv3k",
        "outputId": "d1b9d5dc-937e-42d2-f8ef-a3b245b3d310"
      },
      "id": "DNsl2SGQwv3k",
      "execution_count": 142,
      "outputs": [
        {
          "output_type": "stream",
          "name": "stdout",
          "text": [
            "Synonyms for 'bravery': bravery, courageousness, courage, fearlessness, braveness\n",
            "Synonyms for 'justice': Justice, Department_of_Justice, jurist, judge, DoJ, Justice_Department, justness, justice\n",
            "Synonyms for 'valor': gallantry, valour, heroism, valiance, valiancy, valorousness, valor\n"
          ]
        }
      ]
    },
    {
      "cell_type": "code",
      "source": [
        "#Find antonyms of \"oppression\" and \"invasion\" using NLTK’s WordNet.\n",
        "from nltk.corpus import wordnet\n",
        "nltk.download('wordnet')\n",
        "\n",
        "# Words to find antonyms for\n",
        "words = [\"oppression\", \"invasion\"]\n",
        "\n",
        "# Function to find antonyms\n",
        "def find_antonyms(word):\n",
        "    antonyms = set()  # Use a set to avoid duplicate antonyms\n",
        "    for syn in wordnet.synsets(word):\n",
        "        for lemma in syn.lemmas():\n",
        "            if lemma.antonyms():  # Check if the lemma has antonyms\n",
        "                antonyms.update(lemma.antonyms())  # Add antonyms to the set\n",
        "    return antonyms\n",
        "\n",
        "# Find and display antonyms for each word\n",
        "for word in words:\n",
        "    antonyms = find_antonyms(word)\n",
        "    # Extract just the names of the antonyms\n",
        "    antonym_words = [ant.name() for ant in antonyms]\n",
        "    print(f\"Antonyms for '{word}': {', '.join(antonym_words) if antonym_words else 'None found'}\")"
      ],
      "metadata": {
        "colab": {
          "base_uri": "https://localhost:8080/"
        },
        "id": "z-xriTDmw9sY",
        "outputId": "4b9dbaa7-d0e5-4c8f-937c-6aa33ef17cf4"
      },
      "id": "z-xriTDmw9sY",
      "execution_count": 146,
      "outputs": [
        {
          "output_type": "stream",
          "name": "stdout",
          "text": [
            "Antonyms for 'oppression': None found\n",
            "Antonyms for 'invasion': None found\n"
          ]
        },
        {
          "output_type": "stream",
          "name": "stderr",
          "text": [
            "[nltk_data] Downloading package wordnet to /root/nltk_data...\n",
            "[nltk_data]   Package wordnet is already up-to-date!\n"
          ]
        }
      ]
    },
    {
      "cell_type": "markdown",
      "source": [
        "#18- Spelling Correction\n",
        "\n"
      ],
      "metadata": {
        "id": "XxJHTuTAy0v-"
      },
      "id": "XxJHTuTAy0v-"
    },
    {
      "cell_type": "code",
      "source": [
        "#Introduce 5 spelling errors in the text and use TextBlob to correct them.\n",
        "text_with_errors = \"\"\"\n",
        "Chhatrapati Shivaji Maharaj was born on Febuary 19, 1630, at Shivneri Fort in Maharashtra, to Shahaji Bhonsle, a Maratha genral, and Jijabai, who deeply influanced Shivaji with her teachings on dharma, braveness, and justice. From an early age, Shivaji exhibited remarkable leadership qualities, forming a group of loyal followers and honing his military skills in the rugged terrain of the Sahyadri mountans.\n",
        "\"\"\"\n",
        "\n",
        "# Create a TextBlob object with the text containing errors\n",
        "blob2 = TextBlob(text_with_errors)\n",
        "# Correct the spelling errors\n",
        "corrected_text = blob2.correct()\n",
        "# Display the corrected text\n",
        "print(\"Corrected Text:\")\n",
        "print(corrected_text)"
      ],
      "metadata": {
        "colab": {
          "base_uri": "https://localhost:8080/"
        },
        "id": "J0wuvAQWx4m-",
        "outputId": "d90637ea-7e75-4d97-add0-694556c9f668"
      },
      "id": "J0wuvAQWx4m-",
      "execution_count": 147,
      "outputs": [
        {
          "output_type": "stream",
          "name": "stdout",
          "text": [
            "Corrected Text:\n",
            "\n",
            "Chhatrapati Shivaji Maharaj was born on February 19, 1630, at Shivneri Sort in Maharashtra, to Shahaji Bhonsle, a Martha general, and Jijabai, who deeply influenced Shivaji with her teachings on harm, baseness, and justice. From an early age, Shivaji exhibited remarkable leadership qualities, forming a group of loyal followers and hoping his military skill in the rugged terrain of the Sahyadri mountains.\n",
            "\n"
          ]
        }
      ]
    },
    {
      "cell_type": "code",
      "source": [
        "#Identify words with potential spelling errors using TextBlob.\n",
        "# Identify words with potential spelling errors\n",
        "potential_errors = [(word, word.spellcheck()) for word in blob.words if word.spellcheck()[0][1] < 1.0]\n",
        "\n",
        "# Display potential spelling errors\n",
        "print(\"Words with potential spelling errors:\")\n",
        "for word, suggestions in potential_errors:\n",
        "    print(f\"Word: '{word}', Suggestions: {suggestions}\")\n"
      ],
      "metadata": {
        "colab": {
          "base_uri": "https://localhost:8080/"
        },
        "id": "KMWLMInFzAF-",
        "outputId": "b1c2d437-2a6c-45d0-e4ba-6660bdea5d37"
      },
      "id": "KMWLMInFzAF-",
      "execution_count": 148,
      "outputs": [
        {
          "output_type": "stream",
          "name": "stdout",
          "text": [
            "Words with potential spelling errors:\n",
            "Word: 'Chhatrapati', Suggestions: [('Chhatrapati', 0.0)]\n",
            "Word: 'Shivaji', Suggestions: [('Shivaji', 0.0)]\n",
            "Word: 'Maharaj', Suggestions: [('Maharaj', 0.0)]\n",
            "Word: 'Shivneri', Suggestions: [('Shivneri', 0.0)]\n",
            "Word: 'Fort', Suggestions: [('Sort', 0.6946564885496184), ('Port', 0.1450381679389313), ('Fort', 0.1450381679389313), ('Mort', 0.015267175572519083)]\n",
            "Word: 'Maharashtra', Suggestions: [('Maharashtra', 0.0)]\n",
            "Word: 'Shahaji', Suggestions: [('Shahaji', 0.0)]\n",
            "Word: 'Bhonsle', Suggestions: [('Bhonsle', 0.0)]\n",
            "Word: 'Jijabai', Suggestions: [('Jijabai', 0.0)]\n",
            "Word: 'Shivaji', Suggestions: [('Shivaji', 0.0)]\n",
            "Word: 'dharma', Suggestions: [('harm', 0.4666666666666667), ('charm', 0.34444444444444444), ('drama', 0.07777777777777778), ('derma', 0.03333333333333333), ('charms', 0.03333333333333333), ('harms', 0.022222222222222223), ('parma', 0.011111111111111112), ('charme', 0.011111111111111112)]\n",
            "Word: 'Shivaji', Suggestions: [('Shivaji', 0.0)]\n",
            "Word: 'skills', Suggestions: [('skill', 0.918918918918919), ('kills', 0.05405405405405406), ('stills', 0.02702702702702703)]\n",
            "Word: 'Sahyadri', Suggestions: [('Sahyadri', 0.0)]\n",
            "Word: 'He', Suggestions: [('He', 0.5339045076850217), ('Be', 0.26499332673182074), ('Me', 0.08266241873681492), ('We', 0.08205967193352563), ('De', 0.01020364231282559), ('Re', 0.008137081844405218), ('Ve', 0.006587161493089938), ('E', 0.005855254660524389), ('Le', 0.0023679338700650105), ('Je', 0.0007319068325655487), ('Ne', 0.0005166401171050932), ('Ce', 0.0004735867740130021), ('Ze', 0.0003874800878288199), ('Ye', 0.00034442674473672883), ('Fe', 0.00034442674473672883), ('Se', 0.0001291600292762733), ('Pe', 8.610668618418221e-05), ('Oe', 8.610668618418221e-05), ('Ke', 8.610668618418221e-05), ('Te', 4.3053343092091103e-05)]\n",
            "Word: 'Mughal', Suggestions: [('Mughal', 0.0)]\n",
            "Word: 'Aurangzeb', Suggestions: [('Aurangzeb', 0.0)]\n",
            "Word: 'Deccan', Suggestions: [('Deccan', 0.0)]\n",
            "Word: 'Sultanates', Suggestions: [('Sultanates', 0.0)]\n",
            "Word: 'oppressing', Suggestions: [('pressing', 0.4647887323943662), ('expressing', 0.21830985915492956), ('depressing', 0.08450704225352113), ('oppression', 0.07746478873239436), ('oppressive', 0.056338028169014086), ('compressing', 0.035211267605633804), ('suppressing', 0.028169014084507043), ('repressing', 0.028169014084507043), ('impressing', 0.007042253521126761)]\n",
            "Word: 'fueled', Suggestions: [('field', 0.3375796178343949), ('filled', 0.1910828025477707), ('failed', 0.10031847133757962), ('pulled', 0.09076433121019108), ('fled', 0.06369426751592357), ('flexed', 0.050955414012738856), ('freed', 0.025477707006369428), ('ruled', 0.022292993630573247), ('curled', 0.020700636942675158), ('fuller', 0.01910828025477707), ('feed', 0.01592356687898089), ('fuel', 0.012738853503184714), ('fused', 0.009554140127388535), ('filed', 0.007961783439490446), ('hurled', 0.006369426751592357), ('fooled', 0.0031847133757961785), ('dulled', 0.0031847133757961785), ('reeled', 0.0015923566878980893), ('quelled', 0.0015923566878980893), ('peeled', 0.0015923566878980893), ('mulled', 0.0015923566878980893), ('heeled', 0.0015923566878980893), ('gulled', 0.0015923566878980893), ('fussed', 0.0015923566878980893), ('furred', 0.0015923566878980893), ('funded', 0.0015923566878980893), ('fumed', 0.0015923566878980893), ('fumbled', 0.0015923566878980893), ('felted', 0.0015923566878980893)]\n",
            "Word: 'Swarajya', Suggestions: [('Swarajya', 0.0)]\n",
            "Word: 'self-rule', Suggestions: [('self-rule', 0.0)]\n",
            "Word: 'Marathas', Suggestions: [('Marathas', 0.0)]\n",
            "Word: 'By', Suggestions: [('By', 0.7457664637520752), ('My', 0.2489208633093525), ('Y', 0.004316546762589928), ('Ay', 0.0003320420586607637), ('Vy', 0.00011068068622025456), ('Ty', 0.00011068068622025456), ('Ny', 0.00011068068622025456), ('Ly', 0.00011068068622025456), ('Dy', 0.00011068068622025456), ('Cy', 0.00011068068622025456)]\n",
            "Word: 'Shivaji', Suggestions: [('Shivaji', 0.0)]\n",
            "Word: 'Torna', Suggestions: [('Worn', 0.1978319783197832), ('Torn', 0.16260162601626016), ('Corn', 0.12195121951219512), ('Borne', 0.10840108401084012), ('Born', 0.10298102981029811), ('Aorta', 0.07317073170731707), ('Horn', 0.04878048780487805), ('Moran', 0.03523035230352303), ('Horns', 0.032520325203252036), ('Doran', 0.032520325203252036), ('Corns', 0.02710027100271003), ('Horny', 0.02168021680216802), ('Cornea', 0.018970189701897018), ('Voyna', 0.005420054200542005), ('Soyna', 0.0027100271002710027), ('Dora', 0.0027100271002710027), ('Donna', 0.0027100271002710027), ('Corona', 0.0027100271002710027)]\n",
            "Word: 'hallmark', Suggestions: [('hallmark', 0.0)]\n",
            "Word: 'As', Suggestions: [('Is', 0.4043019648397104), ('As', 0.33356773526370215), ('S', 0.23313340227507756), ('Us', 0.028293691830403308), ('Vs', 0.00037228541882109616), ('Os', 0.00012409513960703205), ('Es', 0.00012409513960703205), ('Ms', 8.27300930713547e-05)]\n",
            "Word: 'Raigad', Suggestions: [('Raigad', 0.0)]\n",
            "Word: 'Purandar', Suggestions: [('Purandar', 0.0)]\n",
            "Word: 'In', Suggestions: [('In', 0.684272591857001), ('On', 0.20615069513406156), ('An', 0.1062251737835154), ('N', 0.0019240317775571004), ('En', 0.000775819265143992), ('Un', 0.0005896226415094339), ('Sn', 3.103277060575968e-05), ('Fn', 3.103277060575968e-05)]\n",
            "Word: 'Khan', Suggestions: [('Than', 0.9869067103109657), ('Shan', 0.012274959083469721), ('Khan', 0.0008183306055646482)]\n",
            "Word: 'Bijapur', Suggestions: [('Bijapur', 0.0)]\n",
            "Word: 'Sultanate', Suggestions: [('Sultanate', 0.0)]\n",
            "Word: 'solidifying', Suggestions: [('solidifying', 0.0)]\n",
            "Word: 'Deccan', Suggestions: [('Deccan', 0.0)]\n",
            "Word: 'Shivaji', Suggestions: [('Shivaji', 0.0)]\n",
            "Word: 'raids', Suggestions: [('maids', 0.625), ('rails', 0.14583333333333334), ('raid', 0.14583333333333334), ('rains', 0.041666666666666664), ('aids', 0.041666666666666664)]\n",
            "Word: 'Mughal', Suggestions: [('Mughal', 0.0)]\n",
            "Word: 'Aurangzeb', Suggestions: [('Aurangzeb', 0.0)]\n",
            "Word: 'bolstered', Suggestions: [('fostered', 0.8333333333333334), ('bolster', 0.16666666666666666)]\n",
            "Word: 'He', Suggestions: [('He', 0.5339045076850217), ('Be', 0.26499332673182074), ('Me', 0.08266241873681492), ('We', 0.08205967193352563), ('De', 0.01020364231282559), ('Re', 0.008137081844405218), ('Ve', 0.006587161493089938), ('E', 0.005855254660524389), ('Le', 0.0023679338700650105), ('Je', 0.0007319068325655487), ('Ne', 0.0005166401171050932), ('Ce', 0.0004735867740130021), ('Ze', 0.0003874800878288199), ('Ye', 0.00034442674473672883), ('Fe', 0.00034442674473672883), ('Se', 0.0001291600292762733), ('Pe', 8.610668618418221e-05), ('Oe', 8.610668618418221e-05), ('Ke', 8.610668618418221e-05), ('Te', 4.3053343092091103e-05)]\n",
            "Word: 'In', Suggestions: [('In', 0.684272591857001), ('On', 0.20615069513406156), ('An', 0.1062251737835154), ('N', 0.0019240317775571004), ('En', 0.000775819265143992), ('Un', 0.0005896226415094339), ('Sn', 3.103277060575968e-05), ('Fn', 3.103277060575968e-05)]\n",
            "Word: 'Chhatrapati', Suggestions: [('Chhatrapati', 0.0)]\n",
            "Word: 'Raigad', Suggestions: [('Raigad', 0.0)]\n",
            "Word: 'Fort', Suggestions: [('Sort', 0.6946564885496184), ('Port', 0.1450381679389313), ('Fort', 0.1450381679389313), ('Mort', 0.015267175572519083)]\n",
            "Word: 'Hindavi', Suggestions: [('Hindavi', 0.0)]\n",
            "Word: 'Swarajya', Suggestions: [('Swarajya', 0.0)]\n",
            "Word: 'structured', Suggestions: [('structures', 0.5119047619047619), ('structure', 0.4880952380952381)]\n",
            "Word: 'ethos', Suggestions: [('this', 0.7024550484094052), ('those', 0.2076417704011065), ('thus', 0.03665283540802213), ('method', 0.02437759336099585), ('methods', 0.01590594744121715), ('thou', 0.007261410788381743), ('ether', 0.0013831258644536654), ('echo', 0.0012102351313969572), ('ethics', 0.0006915629322268327), ('twos', 0.0005186721991701245), ('ethyl', 0.0005186721991701245), ('etes', 0.00034578146611341634), ('echoes', 0.00034578146611341634), ('pathos', 0.00017289073305670817), ('eton', 0.00017289073305670817), ('ethel', 0.00017289073305670817), ('etats', 0.00017289073305670817)]\n",
            "Word: 'Shivaji', Suggestions: [('Shivaji', 0.0)]\n",
            "Word: 'Pradhan', Suggestions: [('Pradhan', 0.0)]\n",
            "Word: 'Eight', Suggestions: [('Right', 0.30869565217391304), ('Might', 0.23304347826086957), ('Night', 0.1673913043478261), ('Light', 0.1208695652173913), ('Sight', 0.05608695652173913), ('Eight', 0.05565217391304348), ('Fight', 0.04173913043478261), ('Tight', 0.013043478260869565), ('Wight', 0.003043478260869565), ('Vight', 0.0004347826086956522)]\n",
            "Word: 'governance', Suggestions: [('governance', 0.0)]\n",
            "Word: 'Shivaji', Suggestions: [('Shivaji', 0.0)]\n",
            "Word: 'governance', Suggestions: [('governance', 0.0)]\n",
            "Word: 'tolerance', Suggestions: [('tolerable', 0.5714285714285714), ('tolerate', 0.2857142857142857), ('tolerant', 0.14285714285714285)]\n",
            "Word: 'Muslims', Suggestions: [('Muslims', 0.0)]\n",
            "Word: 'banning', Suggestions: [('banking', 0.7894736842105263), ('fanning', 0.07894736842105263), ('canning', 0.05263157894736842), ('banging', 0.05263157894736842), ('manning', 0.02631578947368421)]\n",
            "Word: 'harassment', Suggestions: [('harassment', 0.0)]\n",
            "Word: 'His', Suggestions: [('His', 0.50633294646011), ('Is', 0.4932128980168542), ('Tis', 0.0002523086239087652), ('Zis', 5.0461724781753044e-05), ('Vis', 5.0461724781753044e-05), ('Lis', 5.0461724781753044e-05), ('Dis', 5.0461724781753044e-05)]\n",
            "Word: 'Shivaji', Suggestions: [('Shivaji', 0.0)]\n",
            "Word: 'Maharaj', Suggestions: [('Maharaj', 0.0)]\n",
            "Word: 'Ganimi', Suggestions: [('Ganimi', 0.0)]\n",
            "Word: 'Kava', Suggestions: [('Cava', 0.75), ('Lava', 0.25)]\n",
            "Word: 'legendary', Suggestions: [('legendary', 0.0)]\n",
            "Word: 'outmaneuver', Suggestions: [('outmaneuver', 0.0)]\n",
            "Word: 'better-equipped', Suggestions: [('better-equipped', 0.0)]\n",
            "Word: 'As', Suggestions: [('Is', 0.4043019648397104), ('As', 0.33356773526370215), ('S', 0.23313340227507756), ('Us', 0.028293691830403308), ('Vs', 0.00037228541882109616), ('Os', 0.00012409513960703205), ('Es', 0.00012409513960703205), ('Ms', 8.27300930713547e-05)]\n",
            "Word: 'Maharashtra', Suggestions: [('Maharashtra', 0.0)]\n",
            "Word: 'Shivaji', Suggestions: [('Shivaji', 0.0)]\n",
            "Word: 'Raigad', Suggestions: [('Raigad', 0.0)]\n",
            "Word: 'Fort', Suggestions: [('Sort', 0.6946564885496184), ('Port', 0.1450381679389313), ('Fort', 0.1450381679389313), ('Mort', 0.015267175572519083)]\n",
            "Word: 'well-organized', Suggestions: [('well-organized', 0.0)]\n",
            "Word: 'His', Suggestions: [('His', 0.50633294646011), ('Is', 0.4932128980168542), ('Tis', 0.0002523086239087652), ('Zis', 5.0461724781753044e-05), ('Vis', 5.0461724781753044e-05), ('Lis', 5.0461724781753044e-05), ('Dis', 5.0461724781753044e-05)]\n",
            "Word: 'ideals—valor', Suggestions: [('ideals—valor', 0.0)]\n",
            "Word: 'faiths', Suggestions: [('faith', 0.9846153846153847), ('faites', 0.015384615384615385)]\n",
            "Word: 'self-rule—continue', Suggestions: [('self-rule—continue', 0.0)]\n",
            "Word: 'endures', Suggestions: [('endure', 0.6923076923076923), ('endured', 0.23076923076923078), ('ensures', 0.07692307692307693)]\n"
          ]
        }
      ]
    },
    {
      "cell_type": "markdown",
      "source": [
        "#19- Extract Subject-Verb-Object Triples\n",
        "\n"
      ],
      "metadata": {
        "id": "NjTZpxxt0O5f"
      },
      "id": "NjTZpxxt0O5f"
    },
    {
      "cell_type": "code",
      "source": [
        "#Use spaCy to extract subject-verb-object triples from the sentences.\n",
        "# Function to extract SVO triples\n",
        "def extract_svo(doc):\n",
        "    svos = []\n",
        "    for sent in doc.sents:\n",
        "        subject = ''\n",
        "        verb = ''\n",
        "        obj = ''\n",
        "\n",
        "        # Iterate through tokens in the sentence\n",
        "        for token in sent:\n",
        "            # Identify the subject\n",
        "            if 'subj' in token.dep_:\n",
        "                subject = token.text\n",
        "\n",
        "            # Identify the verb\n",
        "            if token.dep_ == 'ROOT':\n",
        "                verb = token.text\n",
        "\n",
        "            # Identify the object\n",
        "            if 'obj' in token.dep_:\n",
        "                obj = token.text\n",
        "\n",
        "        # Append the SVO tuple if all three components are found\n",
        "        if subject and verb and obj:\n",
        "            svos.append((subject, verb, obj))\n",
        "\n",
        "    return svos\n",
        "\n",
        "# Extract and display SVO triples\n",
        "svo_triples = extract_svo(doc)\n",
        "print(\"Subject-Verb-Object Triples:\")\n",
        "for svo in svo_triples:\n",
        "    print(svo)\n"
      ],
      "metadata": {
        "colab": {
          "base_uri": "https://localhost:8080/"
        },
        "id": "I5bTAPkp1Cfo",
        "outputId": "a9c45389-05f5-4465-898e-e39a37a0f7f0"
      },
      "id": "I5bTAPkp1Cfo",
      "execution_count": 150,
      "outputs": [
        {
          "output_type": "stream",
          "name": "stdout",
          "text": [
            "Subject-Verb-Object Triples:\n",
            "('who', 'born', 'dharma')\n",
            "('Shivaji', 'exhibited', 'mountains')\n",
            "('which', 'grew', 'Marathas')\n",
            "('that', 'captured', 'strategy')\n",
            "('he', 'formed', 'India')\n",
            "('victory', 'was', 'Deccan')\n",
            "('raids', 'bolstered', 'legend')\n",
            "('him', 'realized', 'forces')\n",
            "('he', 'crowned', 'ethos')\n",
            "('Pradhan', 'included', 'governance')\n",
            "('Shivaji', 'showed', 'sites')\n",
            "('him', 'inspired', 'time')\n",
            "('him', 'became', 'losses')\n",
            "('forces', 'began', 'India')\n",
            "('that', 'passed', 'death')\n",
            "('legacy', 'continue', 'history')\n"
          ]
        }
      ]
    },
    {
      "cell_type": "code",
      "source": [
        "#Identify and list sentences where \"Shivaji\" is the subject and a verb follows, using dependency parsing.\n",
        "# Function to identify sentences with \"\n",
        "def find_sentences_with_shivaji(doc):\n",
        "    sentences_with_shivaji = []\n",
        "    for sent in doc.sents:\n",
        "        shivaji_found = False\n",
        "        verb_found = False\n",
        "\n",
        "        # Iterate through tokens in the sentence\n",
        "        for token in sent:\n",
        "            # Check if \"Shivaji\" is the subject\n",
        "            if 'subj' in token.dep_ and token.text == 'Shivaji':\n",
        "                shivaji_found = True\n",
        "\n",
        "            # Check if a verb follows \"Shivaji\"\n",
        "            if shivaji_found and token.pos_ == 'VERB':\n",
        "                verb_found = True\n",
        "                break\n",
        "\n",
        "        # Append the sentence if both \"Shivaji\" and a verb are found\n",
        "        if shivaji_found and verb_found:\n",
        "            sentences_with_shivaji.append(sent.text)\n",
        "\n",
        "    return sentences_with_shivaji\n",
        "\n",
        "# Find sentences with \"Shivaji\" and a verb\n",
        "sentences_with_shivaji = find_sentences_with_shivaji(doc)\n",
        "print(\"Sentences with 'Shivaji' and a verb:\")\n",
        "for sentence in sentences_with_shivaji:\n",
        "    print(sentence)"
      ],
      "metadata": {
        "colab": {
          "base_uri": "https://localhost:8080/"
        },
        "id": "3FW_BAnP0e9S",
        "outputId": "15ef8552-49f7-4d74-96cb-e8c601c6e906"
      },
      "id": "3FW_BAnP0e9S",
      "execution_count": 151,
      "outputs": [
        {
          "output_type": "stream",
          "name": "stdout",
          "text": [
            "Sentences with 'Shivaji' and a verb:\n",
            "From an early age, Shivaji exhibited remarkable leadership qualities, forming a group of loyal followers and honing his military skills in the rugged terrain of the Sahyadri mountains.\n",
            "\n",
            "By the age of 16, Shivaji had captured his first fort, Torna, using guerrilla warfare tactics that would later become a hallmark of his military strategy.\n",
            "\n",
            "Shivaji showed a progressive approach towards governance, promoting religious tolerance and respecting the diversity within his empire, even appointing Muslims to key positions in his administration and banning the harassment of women and looting of religious sites.\n",
            "\n",
            "Shivaji passed away on April 3, 1680, at Raigad Fort, leaving behind a powerful legacy and a well-organized state that continued to expand after his death.\n",
            "\n"
          ]
        }
      ]
    },
    {
      "cell_type": "markdown",
      "source": [
        "#20- Create a Summary\n",
        "\n"
      ],
      "metadata": {
        "id": "9SJsgko52Nv1"
      },
      "id": "9SJsgko52Nv1"
    },
    {
      "cell_type": "code",
      "source": [
        "#Summarize the text using TextBlob by extracting key sentences.\n",
        "# Calculate sentence importance based on word frequency\n",
        "word_frequencies = Counter(blob.words)\n",
        "\n",
        "# Score sentences based on the sum of the word frequencies\n",
        "sentence_scores = {}\n",
        "for sentence in blob.sentences:\n",
        "    sentence_scores[sentence] = sum(word_frequencies[word] for word in sentence.words)\n",
        "\n",
        "# Sort sentences based on their score and select the top 5 sentences\n",
        "summary_sentences = sorted(sentence_scores, key=sentence_scores.get, reverse=True)[:5]\n",
        "\n",
        "# Display the summarized text\n",
        "print(\"Summary:\")\n",
        "for sentence in summary_sentences:\n",
        "    print(sentence)"
      ],
      "metadata": {
        "colab": {
          "base_uri": "https://localhost:8080/"
        },
        "id": "-0Da0FFH2CEE",
        "outputId": "84c4c109-e145-4daf-98e9-861949979672"
      },
      "id": "-0Da0FFH2CEE",
      "execution_count": 152,
      "outputs": [
        {
          "output_type": "stream",
          "name": "stdout",
          "text": [
            "Summary:\n",
            "Shivaji’s administrative system was highly efficient, and he emphasized the welfare of his people, setting up systems to reduce corruption and create a fair tax structure; his Ashta Pradhan (Council of Eight Ministers) included departments for finance, internal affairs, foreign policy, and military to ensure smooth governance.\n",
            "His life and ideals—valor, respect for all faiths, and self-rule—continue to inspire millions, and his legacy endures in the form of the Maratha Empire’s contributions to India’s history and culture.\n",
            "Shivaji showed a progressive approach towards governance, promoting religious tolerance and respecting the diversity within his empire, even appointing Muslims to key positions in his administration and banning the harassment of women and looting of religious sites.\n",
            "He grew up during a time when the Mughal Empire under Emperor Aurangzeb and the Deccan Sultanates were vying for control, often oppressing the local population, which deeply disturbed him and fueled his desire to establish Swarajya, or self-rule for the Marathas.\n",
            "In 1659, he faced and defeated Afzal Khan, a prominent general of the Bijapur Sultanate, solidifying his reputation as a brave and tactical leader; this victory was crucial in establishing his control over much of the Deccan.\n"
          ]
        }
      ]
    },
    {
      "cell_type": "code",
      "source": [
        "#Generate a summary using NLTK’s summarize function on cleaned text.\n",
        "from nltk.tokenize import sent_tokenize, word_tokenize\n",
        "from nltk.tokenize import RegexpTokenizer\n",
        "# Clean the text by removing stop words and unnecessary characters\n",
        "tokenizer = RegexpTokenizer(r'\\w+')\n",
        "words = tokenizer.tokenize(text.lower())  # Tokenize and convert to lower case\n",
        "filtered_words = [word for word in words if word not in stopwords.words('english')]\n",
        "\n",
        "# Calculate word frequencies\n",
        "freq_dist = FreqDist(filtered_words)\n",
        "\n",
        "# Get the most common words\n",
        "most_common_words = freq_dist.most_common(200)\n",
        "\n",
        "# Create a dictionary for word scores\n",
        "word_scores = {word[0]: word[1] for word in most_common_words}\n",
        "\n",
        "# Tokenize the text into sentences\n",
        "sentences = sent_tokenize(text)\n",
        "\n",
        "# Score sentences based on the sum of word scores\n",
        "sentence_scores = {}\n",
        "for sentence in sentences:\n",
        "    sentence_words = word_tokenize(sentence.lower())\n",
        "    sentence_score = sum(word_scores.get(word, 0) for word in sentence_words)\n",
        "    sentence_scores[sentence] = sentence_score\n",
        "\n",
        "# Sort sentences based on their score and select the top 5 sentences for the summary\n",
        "summary_sentences = sorted(sentence_scores, key=sentence_scores.get, reverse=True)[:5]\n",
        "\n",
        "# Display the summary\n",
        "print(\"Summary:\")\n",
        "for sentence in summary_sentences:\n",
        "    print(sentence)\n",
        "\n",
        "\n",
        "\n",
        "\n"
      ],
      "metadata": {
        "colab": {
          "base_uri": "https://localhost:8080/"
        },
        "id": "HWO7yeHO2ZIy",
        "outputId": "adf6cd94-eb07-4c67-ca03-e9433082f5ac"
      },
      "id": "HWO7yeHO2ZIy",
      "execution_count": 154,
      "outputs": [
        {
          "output_type": "stream",
          "name": "stdout",
          "text": [
            "Summary:\n",
            " Chhatrapati Shivaji Maharaj was born on February 19, 1630, at Shivneri Fort in Maharashtra, to Shahaji Bhonsle, a Maratha general, and Jijabai, who deeply influenced Shivaji with her teachings on dharma, bravery, and justice.\n",
            "In 1674, he formally crowned himself as Chhatrapati at Raigad Fort, declaring his independence and establishing the Maratha Empire, thus becoming the first king to establish Hindavi Swarajya, an autonomous kingdom with a structured administrative framework rooted in Indian ethos.\n",
            "Shivaji’s administrative system was highly efficient, and he emphasized the welfare of his people, setting up systems to reduce corruption and create a fair tax structure; his Ashta Pradhan (Council of Eight Ministers) included departments for finance, internal affairs, foreign policy, and military to ensure smooth governance.\n",
            "Shivaji showed a progressive approach towards governance, promoting religious tolerance and respecting the diversity within his empire, even appointing Muslims to key positions in his administration and banning the harassment of women and looting of religious sites.\n",
            "He grew up during a time when the Mughal Empire under Emperor Aurangzeb and the Deccan Sultanates were vying for control, often oppressing the local population, which deeply disturbed him and fueled his desire to establish Swarajya, or self-rule for the Marathas.\n"
          ]
        }
      ]
    },
    {
      "cell_type": "code",
      "source": [],
      "metadata": {
        "id": "tKplX1A93Wn4"
      },
      "id": "tKplX1A93Wn4",
      "execution_count": null,
      "outputs": []
    }
  ],
  "metadata": {
    "kernelspec": {
      "display_name": "Python 3 (ipykernel)",
      "language": "python",
      "name": "python3"
    },
    "language_info": {
      "codemirror_mode": {
        "name": "ipython",
        "version": 3
      },
      "file_extension": ".py",
      "mimetype": "text/x-python",
      "name": "python",
      "nbconvert_exporter": "python",
      "pygments_lexer": "ipython3",
      "version": "3.12.4"
    },
    "colab": {
      "provenance": []
    }
  },
  "nbformat": 4,
  "nbformat_minor": 5
}